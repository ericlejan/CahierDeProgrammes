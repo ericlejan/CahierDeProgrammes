{
 "cells": [
  {
   "cell_type": "markdown",
   "metadata": {},
   "source": [
    "# Quelques utilisations avancées des LED\n",
    "\n",
    "Le [premier cahier](https://github.com/g-vidal/CahierDeProgrammes/blob/master/JeuxDeLumiere/simpleLED.ipynb) a permis de se familiariser avec le pilotage à distance par des programmes et une interface web de diodes électroluminescentes. Celui-ci aborde quelques points plus avancés tirant profit de la polarité des LEDs ou permettant de compenser l'intensité du courant insuffisante pour allumer les LEDs"
   ]
  },
  {
   "cell_type": "markdown",
   "metadata": {},
   "source": [
    "## Utilisation de transistors pour augmenter l'intensité traversant une LED\n",
    "\n",
    "Le objets connectés comme l'Edison ou la Raspberry Pi sont conçus pour être peu gourmands en électricité ce qui se traduit par des intensités plus faibles délivrées par les broches du GPIO. On se retrouve confrontés au problème inverse de celui qui faisait \"griller\" les LEDs parce que l'intensité délivrée par les micro-contrôleurs était trop forte. Comme il fallait ajouter un nouveau composant de protection (une résistance) il faut ajouter ici un composant supplémentaire pour rehausser l'intensité et bien sur apporter une source de courant externe. le montage utilisé est encadré sur l'image ci_dessous:\n",
    "\n",
    "![Alimentation de deux LEDs avec transistor](images/ledboard4.png)\n",
    "                        ![licence : Gérard Vidal](images/Licence.jpg)\n",
    "\n",
    "Une alimentation 1.8V ou 3.3V (suivant la tension disponible sur l'IoT concerné) est branchée sur les fils rouge et noir, les fils de modulation broche 32 et 33 selon la même nomenclature que le premier cahier dans la continuité des deux résistances extérieiures. Le code ci-dessous permet de contrôler l'allumage et l'extincton des diodes (Leds) rouge et verte.\n",
    "* importation des programmes de la bibliothèque mraa\n",
    "* déclaration de l'utilisation des broches 32 et 33 GPIO12 et GPIO13"
   ]
  },
  {
   "cell_type": "code",
   "execution_count": 1,
   "metadata": {
    "collapsed": true
   },
   "outputs": [],
   "source": [
    "import mraa, time\n",
    "ledg = mraa.Gpio(32)\n",
    "ledr = mraa.Gpio(33)"
   ]
  },
  {
   "cell_type": "markdown",
   "metadata": {},
   "source": [
    "* Choix du sens de travail de la broche *out* pour envoyer une intensité dans le circuit"
   ]
  },
  {
   "cell_type": "code",
   "execution_count": 2,
   "metadata": {},
   "outputs": [
    {
     "data": {
      "text/plain": [
       "0"
      ]
     },
     "execution_count": 2,
     "metadata": {},
     "output_type": "execute_result"
    }
   ],
   "source": [
    "ledg.dir(mraa.DIR_OUT)\n",
    "ledr.dir(mraa.DIR_OUT)"
   ]
  },
  {
   "cell_type": "markdown",
   "metadata": {},
   "source": [
    "Mise en place du clignotement pendant 1 minute avec une fréquence d'un clignotement par seconde pour l'une et de 2 clignotements par seconde pour l'autre"
   ]
  },
  {
   "cell_type": "code",
   "execution_count": 3,
   "metadata": {},
   "outputs": [],
   "source": [
    "for i in range(0,240,1) :\n",
    "    j = 2 \n",
    "    k = 4 \n",
    "    if (i % k == 0):\n",
    "        if ((i / k) % 2 == 0):\n",
    "            ledr.write(1)\n",
    "        else :\n",
    "            ledr.write(0)\n",
    "    if (i % j == 0):\n",
    "        ledg.write(1)\n",
    "        time.sleep(0.25)\n",
    "    else :\n",
    "        ledg.write(0)\n",
    "        time.sleep(0.25)\n"
   ]
  },
  {
   "cell_type": "markdown",
   "metadata": {},
   "source": [
    "### Exercice \n",
    "\n",
    "Modifier l'alimentation des transistors  et observer l'effet sur les diodes (Leds). Choisir d'autres fréquences d'échantillonnage, décrire le clignotement attendu, écrire le programme correspondant"
   ]
  },
  {
   "cell_type": "code",
   "execution_count": null,
   "metadata": {
    "collapsed": true
   },
   "outputs": [],
   "source": [
    "for i in range(-,-,-) :\n",
    "    j = - \n",
    "    k = - \n",
    "    if (i % k == -):\n",
    "        \n",
    "    else :\n"
   ]
  },
  {
   "cell_type": "markdown",
   "metadata": {},
   "source": [
    "## Clignotement utilisant deux broches de contrôle et pas de masse\n",
    "\n",
    "Comme nous l'avons vu dans les différents programmes les broches du GPIO que nous avons utilisées ont deux positions possibles soit elles envoient du courant soit leur potentiel est à 0. Si l'on connecte une diode (Led) à deux broches l'une au maximum (1) l'autre à 0 la diode (Led) va être parcourue par un courant et s'allumer. Si on permute la valeur des deux broches (Leds) la diode s'éteint mais si on permute le branchement elle se rallume. Nous allons utiliser le montage encadré ci'dessous où deux diodes (Leds) sont insérées dans la plaque en parallèle et l'une permutée par rapport à l'autre. \n",
    "\n",
    "![Alimentation de deux LEDs par deux broches](images/ledboard3.png)\n",
    "                        ![licence : Gérard Vidal](images/Licence.jpg)\n",
    "                        \n",
    "Il est possible de représenter la situation sur un dessin illustrant le branchement et l'activité des diodes:\n",
    "\n",
    "![Schéma de deux LEDs dont le branchement est permutté](images/altern2.png)\n",
    "                        ![licence : Gérard Vidal](images/Licence.jpg)\n",
    "                        \n",
    "Nous utilisons les broches 32 et 33 l'une branchée sur le fil commun l'autre dans la continuité de la résistance. Noter qu'**il est impossible d'allumer simultanément les deux diodes**.\n",
    "On utilise les déclarations précédentes des leds rouge et verte ler ledg, on met en place un clignotement symétrique de 1/10ème de seconde pour la verte et asymétrique 2/10ème-3/10ème pour la rouge.\n"
   ]
  },
  {
   "cell_type": "code",
   "execution_count": 4,
   "metadata": {},
   "outputs": [],
   "source": [
    "for i in range(0,90,1) :\n",
    "    ledr.write(0)\n",
    "    for j in range(4) :\n",
    "        ledg.write(0)\n",
    "        time.sleep(0.1)\n",
    "        ledg.write(1)\n",
    "        time.sleep(0.1)\n",
    "    ledg.write(0)\n",
    "    for j in range(3) :\n",
    "        ledr.write(1)\n",
    "        time.sleep(0.3)\n",
    "        ledr.write(0)\n",
    "        time.sleep(0.2)"
   ]
  },
  {
   "cell_type": "markdown",
   "metadata": {},
   "source": [
    "### exercice \n",
    "\n",
    "Mettre en place un clignotement symétrique simple des diodes (LEDs) rouge/verte. Décrire un clignotement plus complexe et le programmer."
   ]
  },
  {
   "cell_type": "code",
   "execution_count": null,
   "metadata": {
    "collapsed": true
   },
   "outputs": [],
   "source": [
    "for i in range(-,-,-) :"
   ]
  },
  {
   "cell_type": "markdown",
   "metadata": {},
   "source": [
    "## Comment contrôler 6 LED avec 3 fils de commande seulement ?\n",
    "\n",
    "Dans la vie courante on est habitué à contrôler une ampoule avec deux fils, dans les exercices effectués nous avons aussi utilisé un seul fil de contrôle par LEDs et un fil de masse éventuellement commun à plusieurs LED. Dans l'exemple précédent on a vu qu'en gbranchant les deux LEDs symétriquement il était possible en permuttant la valeur des broches d'obtenir un clignotement. Il existe des dispositifs présentant de nombreuses LEDs contrôlées individuellement ou par groupes, il s'agit par exemple des chenillards lumineux dans les espaces ludiques ou des guirlandes de Noël. Malgré le grand nombre de LEDs ces dispositifs sont contrôlés par un très faible nombre de fils, comment cela est-il possible ?\n",
    "\n",
    "Nous allons aborder un exemple basique permettant de contrôler 6 LED avec 3 fils, le procédé utilisé est le Charlie-Plexing. Ce procédé permet de contrôler avec n fils n * (n-1) LEDs; soit pour nous 3 x 2 = 6.\n",
    "On utilise pour cette partie le montage encadré en rouge ci-dessous.\n",
    "\n",
    "![CharliePlexing à 6 LED](images/ledboard6.png)\n",
    "                        ![licence : Gérard Vidal](images/Licence.jpg)\n",
    "                        \n",
    "Les fils gris représentent les points de branchement des 3 fils de contrôle, le cablage est représenté par les fils rouges. Ce procédé repose sur la possibilité de mettre la broche non pas dans deux mais dans 3 états : \n",
    " * état masse ..............valeur out 0\n",
    " * état alimentation........valeur out 1\n",
    " * état résistance infinie .valeur in Z\n",
    " \n",
    "Le Schéma de principe du fonctionnement est donné dans l'image suivante :\n",
    "\n",
    "![Schéma de principe du CharliePlexing à 6 LED](images/anim6led.gif)\n",
    "                        ![licence : Gérard Vidal](images/Licence.jpg)               \n",
    "\n",
    "Nous représenterons chaque état par la séquence d'abbréviations la caractérisant dans l'ordre des broches 1-2-3. Par exemple 0Z1 signifie que le + est sur la broche 3 que le - est sur la broche 1 et que la broche 2 est bloquée. On a donc les états suivants\n",
    " * 10Z\n",
    " * 1Z0\n",
    " * 01Z\n",
    " * 0Z1\n",
    " * Z10\n",
    " * Z01\n",
    "Cela fournit bien 6 états possibles pour notre circuit à 3 fils. Nous allons **définir** (instruction *def*) 6 ensembles d'instructions permettant chacun de réaliser l'état attendu ce sont des *fonctions* que nous nommerons du nom de l'état du circuit qu'elles provoquent. Nous en produirons une 7ème qui assurera l'enchaînement des états blink6."
   ]
  },
  {
   "cell_type": "code",
   "execution_count": 1,
   "metadata": {},
   "outputs": [],
   "source": [
    "import mraa, time"
   ]
  },
  {
   "cell_type": "code",
   "execution_count": 2,
   "metadata": {},
   "outputs": [],
   "source": [
    "led1 = mraa.Gpio(23) # au centre du dispositif\n",
    "led2 = mraa.Gpio(32) # broche à l'extérieure\n",
    "led3 = mraa.Gpio(33) # broche à l'intérieur\n",
    "dur = 0.05"
   ]
  },
  {
   "cell_type": "code",
   "execution_count": 3,
   "metadata": {},
   "outputs": [],
   "source": [
    "def iosense_OOI(a,b,c):\n",
    "    a.dir(mraa.DIR_OUT)\n",
    "    b.dir(mraa.DIR_OUT)\n",
    "    c.dir(mraa.DIR_IN)\n",
    "    return\n",
    "\n",
    "def etat_10Z(a,b,c) :\n",
    "    iosense_OOI(a,b,c)\n",
    "    a.write(1)\n",
    "    b.write(0)\n",
    "    time.sleep(dur)\n",
    "    return\n",
    "\n",
    "def etat_000(a,b,c) :\n",
    "    led1.dir(mraa.DIR_IN)\n",
    "    led2.dir(mraa.DIR_IN)\n",
    "    led3.dir(mraa.DIR_IN)\n",
    "\n",
    "def blink6(leda,ledb,ledc) :\n",
    "    for i in range(20) :\n",
    "        etat_10Z(leda,ledb,ledc)\n",
    "        etat_10Z(ledb,leda,ledc)\n",
    "        etat_10Z(ledc,ledb,leda)\n",
    "        etat_10Z(ledb,ledc,leda)\n",
    "        etat_10Z(ledc,leda,ledb)\n",
    "        etat_10Z(leda,ledc,ledb)\n",
    "        etat_10Z(ledc,leda,ledb)\n",
    "        etat_10Z(ledb,ledc,leda)\n",
    "        etat_10Z(ledc,ledb,leda)\n",
    "        etat_10Z(ledb,leda,ledc)        \n",
    "    etat_000(leda,ledb,ledc)\n",
    "    return\n"
   ]
  },
  {
   "cell_type": "code",
   "execution_count": 4,
   "metadata": {},
   "outputs": [],
   "source": [
    "blink6(led1,led2,led3) "
   ]
  },
  {
   "cell_type": "markdown",
   "metadata": {},
   "source": [
    "### Exercices\n",
    "\n",
    "- Modifier la fréquence de balayage \n",
    "- Faire un balayage dans un seul sens\n",
    "- Changer le mode de balayage (par exemple +2 -1)"
   ]
  },
  {
   "cell_type": "markdown",
   "metadata": {
    "collapsed": true
   },
   "source": [
    "# Comment contrôler 12 LED avec 4 fils de commande seulement ?\n",
    "\n",
    "Dans un des exemples précédents on a vu qu'il était possible de contrôler 6 LED avec 3 fils, le procédé utilisé est le Charlie-Plexing. Ce procédé permet de contrôler avec n fils n * (n-1) LEDs; soit pour nous maintenant 4 x 3 = 12. Le principe de cablage est identique à celui du chenillard6.\n",
    "![Schéma de principe du CharliePlexing à 12 LED](images/chen12.gif)\n",
    "                        ![licence : Gérard Vidal](images/Licence.jpg)               \n",
    "\n",
    "En ajoutant un fil on rajoute 3 combinaisons possibles dans les deux sens possibles. Toutes les LED sont implantées identiquement cathode à droite sur l'image ci-dessous. Les fils noir sont les fils de cablage du dispositif, les fils orange permettent d'ajouter de l'espace de cablâge sur la planche de développement, les cables gris sont les point de connection des broches, les câbles rouges permettent de déporterla connection des résistances.\n",
    "![Chenillard à 12 LEDs](images/chenillard12.jpg)\n",
    "                        ![licence : Gérard Vidal](images/Licence.jpg)               \n",
    "\n",
    "Ce procédé repose sur la possibilité de mettre la broche non pas dans deux mais dans 3 états : \n",
    " * état masse ..............valeur out 0\n",
    " * état alimentation........valeur out 1\n",
    " * état résistance infinie .valeur in Z\n",
    " \n",
    "Nous représenterons chaque état par la séquence d'abbréviations la caractérisant dans l'ordre des broches 1-2-3-4. Par exemple 10ZZ signifie que le + est sur la broche 1, que le - est sur la broche 2, que les broches 3 et 4 sont bloquées. \n",
    "Pour fournir les 12 états possibles pour notre circuit à 4 fils, plutôt que d'énumérer les états possibles nous allons utiliser une *fonction* qui réalise systématiquement un état donné (ici 10ZZ) en permuttant les broches utilisées. Le programme principal liste les états possibles. La *fonction* est **définie** (par l'instruction *def*), elle regroupe toutes les instructions nécessaires pour mettre les broches dans l'état 10ZZ et les maintenir dans cet état pendant un intervalle de temps. Les appels successifs à cette fonction allument **une seule des diodes parmi les 12**. La permuttation des broches dans les appels permet  de réaliser l'ettet chenillard. "
   ]
  },
  {
   "cell_type": "code",
   "execution_count": 13,
   "metadata": {},
   "outputs": [],
   "source": [
    "import mraa, time, _thread"
   ]
  },
  {
   "cell_type": "code",
   "execution_count": 14,
   "metadata": {},
   "outputs": [],
   "source": [
    "led1 = mraa.Gpio(23) # position 2 broche SCLK Tcobler\n",
    "led2 = mraa.Gpio(32) # extérieur 1 GPIO12\n",
    "led3 = mraa.Gpio(33) # intérieur 4 GPIO13\n",
    "led4 = mraa.Gpio(8)  # position 3  broche TXD Tcobler"
   ]
  },
  {
   "cell_type": "code",
   "execution_count": 16,
   "metadata": {},
   "outputs": [],
   "source": [
    "# veille sur l'input\n",
    "def input_thread(CheckInput):\n",
    "    check = input()\n",
    "#    CheckInput = CheckInput.append(check)\n",
    "    CheckInput.append(check)\n",
    "    return\n",
    "\n",
    "def etat_10ZZ(a,b,c,d) :\n",
    "    a.dir(mraa.DIR_OUT)\n",
    "    b.dir(mraa.DIR_OUT)\n",
    "    c.dir(mraa.DIR_IN)\n",
    "    d.dir(mraa.DIR_IN)\n",
    "    a.write(1)\n",
    "    b.write(0)\n",
    "    time.sleep(dur)\n",
    "    return\n",
    "\n",
    "def etat_0000(a,b,c,d) :\n",
    "    for i in [a,b,c,d] :\n",
    "        i.dir(mraa.DIR_IN)\n",
    "    return\n",
    "\n",
    "\n",
    "def blink12(leda,ledb,ledc,ledd) :\n",
    "    etat_10ZZ(led3,led4,led1, led2)\n",
    "    etat_10ZZ(led4,led3,led1, led2)\n",
    "    etat_10ZZ(led3,led1,led2, led4)\n",
    "    etat_10ZZ(led1,led3,led2, led4)\n",
    "    etat_10ZZ(led4,led1,led3, led2)\n",
    "    etat_10ZZ(led1,led4,led3, led2)\n",
    "    etat_10ZZ(led4,led2,led1, led3)\n",
    "    etat_10ZZ(led2,led4,led1, led3)\n",
    "    etat_10ZZ(led1,led2,led3, led4)\n",
    "    etat_10ZZ(led2,led1,led3, led4)\n",
    "    etat_10ZZ(led3,led2,led1, led4)\n",
    "    etat_10ZZ(led2,led3,led1, led4)\n",
    "    etat_10ZZ(led2,led3,led1, led4)\n",
    "    etat_10ZZ(led3,led2,led1, led4)       \n",
    "    etat_10ZZ(led3,led2,led1, led4)      \n",
    "    etat_10ZZ(led2,led1,led3, led4)\n",
    "    etat_10ZZ(led1,led2,led3, led4)\n",
    "    etat_10ZZ(led2,led4,led1, led3)\n",
    "    etat_10ZZ(led4,led2,led1, led3)\n",
    "    etat_10ZZ(led1,led4,led3, led2)\n",
    "    etat_10ZZ(led4,led1,led3, led2)\n",
    "    etat_10ZZ(led1,led3,led2, led4)\n",
    "    etat_10ZZ(led3,led1,led2, led4)\n",
    "    etat_10ZZ(led4,led3,led1, led2)\n",
    "    etat_10ZZ(led3,led4,led1, led2)\n",
    "    return\n",
    "\n",
    "def kit_on() :\n",
    "    CheckInput = []\n",
    "    _thread.start_new_thread(input_thread, (CheckInput,))\n",
    "    print ('Type \"stop\" to stop Kit')\n",
    "    \n",
    "    while True :\n",
    "        blink12(led1,led2,led3,led4)        \n",
    "        # Sortie de boucle infinie\n",
    "        if CheckInput == ['stop']  : \n",
    "            break\n",
    "                \n",
    "            return\n",
    "    \n",
    "    etat_0000(led1,led2,led3,led4) \n",
    "    \n",
    "    return\n",
    "\n"
   ]
  },
  {
   "cell_type": "markdown",
   "metadata": {},
   "source": [
    "Lancementde l'effet K2000 Allez Kit! régler la durée de l'allumage"
   ]
  },
  {
   "cell_type": "code",
   "execution_count": 25,
   "metadata": {},
   "outputs": [],
   "source": [
    "dur = 0.8"
   ]
  },
  {
   "cell_type": "code",
   "execution_count": 26,
   "metadata": {},
   "outputs": [
    {
     "name": "stdout",
     "output_type": "stream",
     "text": [
      "Type \"stop\" to stop Kit\n",
      "stop\n"
     ]
    }
   ],
   "source": [
    "kit_on()"
   ]
  },
  {
   "cell_type": "code",
   "execution_count": null,
   "metadata": {},
   "outputs": [],
   "source": []
  }
 ],
 "metadata": {
  "anaconda-cloud": {},
  "kernelspec": {
   "display_name": "Python 3",
   "language": "python",
   "name": "python3"
  },
  "language_info": {
   "codemirror_mode": {
    "name": "ipython",
    "version": 3
   },
   "file_extension": ".py",
   "mimetype": "text/x-python",
   "name": "python",
   "nbconvert_exporter": "python",
   "pygments_lexer": "ipython3",
   "version": "3.5.4"
  }
 },
 "nbformat": 4,
 "nbformat_minor": 2
}
