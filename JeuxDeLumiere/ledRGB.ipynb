{
 "cells": [
  {
   "cell_type": "markdown",
   "metadata": {},
   "source": [
    "## Utilisation d'une LED RGB\n",
    "\n",
    "Plusieurs types de LED RGB existent dans le commerce, certaines ont une *cathode commune* d'autres ont une *anode commune*. Les branchements sont différents et il est important de bien comprendre quel sera le sens du courant et quelle sera la tension aux différentes bornes avant de faire les branchements sous peine de **détruire** la nano machine utilsée. Les branchements pour Arduino (5v) que l'on trouve sur le web ne conviennent pas forcément pour un Edison (1.8V) ou un Raspberry PI (3.3V). Une des solutions pour éviter les catastrophes est d'utiliser un transistor (qui impose une réflexion plus avancée sur les branchements à réaliser et bien sûr une maîtrise de la puissance fournie). \n",
    "\n",
    "Dans ce qui suit nous utilisons une LED RGB à **cathode commune** et nous proposons un branchement direct utilisant une source 3.3V. Des résistances permettent d'harmoniser les tensions.\n",
    "\n",
    "![Montage d'une LED RGB à cathode commune](images/ledboard5.png)\n",
    "                        ![licence : Gérard Vidal](images/Licence.jpg)\n",
    "                        \n",
    "La terre est branchée sur le fil noir les trois connecteurs GPIO 22 23 24  sont branchés respectivement dans les trous 24 26 et 28 de la plaque d'essai.\n",
    "Le programme ci dessous :\n",
    " * allume la diode rouge pendant 0.25s à 15% de la puissance max (fréquence 200Hz)\n",
    " * augmente la puissance jusqu'à 80% par pas de 5% et intervalle de 0.25s\n",
    " * fait clignoter la LED à une fréquence de 8Hz Rouge 15 Hz Vert et 18 Hz bleu\n",
    " "
   ]
  },
  {
   "cell_type": "code",
   "execution_count": 43,
   "metadata": {},
   "outputs": [],
   "source": [
    "import RPi.GPIO as gpio, time\n",
    "gpio.setmode(gpio.BOARD)  # BCM ou BOARD pour identifier les broches. choisir BOARD\n",
    "\n",
    "dur = 0.25\n",
    "gpio.setup(15, gpio.OUT)# GPIO 22 broche 15 output  \n",
    "gpio.setup(16, gpio.OUT)# GPIO 23 broche 16 output \n",
    "gpio.setup(18, gpio.OUT)# GPIO 24 broche 18 output  \n"
   ]
  },
  {
   "cell_type": "code",
   "execution_count": 44,
   "metadata": {},
   "outputs": [],
   "source": [
    "#création des 3 LEDs modulables\n",
    "pr = gpio.PWM(18, 200)    # led rouge crée un objet pr  PWM sur le port GPIO22 à 200 Hertz  T=5ms \n",
    "pg = gpio.PWM(15, 200)    # led verte crée un objet pg  PWM sur le port GPIO22 à 200 Hertz  T=5ms \n",
    "pb = gpio.PWM(16, 200)    # led bleue crée un objet pb  PWM sur le port GPIO22 à 200 Hertz  T=5ms "
   ]
  },
  {
   "cell_type": "markdown",
   "metadata": {},
   "source": [
    "Allumage successif des 3 LEDs et changement d'intensité puis de la fréquence d'allumage"
   ]
  },
  {
   "cell_type": "code",
   "execution_count": 30,
   "metadata": {},
   "outputs": [],
   "source": [
    "# LED Rouge  \n",
    "pr.start(15)             # allumage à 15 % (15% duty cycle) \n",
    "time.sleep(dur)\n",
    "for i in range(15,80,5) :\n",
    "    pr.ChangeDutyCycle(i)   # passage à 80% par pas de 5%\n",
    "    time.sleep(dur)\n",
    "pr.ChangeFrequency(8)   # passage de la fréquence à 8 Hz  \n",
    "time.sleep(10*dur)\n",
    "pr.stop()"
   ]
  },
  {
   "cell_type": "code",
   "execution_count": 32,
   "metadata": {},
   "outputs": [],
   "source": [
    "# LED Verte  \n",
    "pg.start(5)             # allumage à 15 % (15% duty cycle)   \n",
    "time.sleep(dur)\n",
    "for i in range(5,70,5) :\n",
    "    pg.ChangeDutyCycle(i)   # passage à 80% par pas de 5% \n",
    "    time.sleep(dur)\n",
    "pg.ChangeFrequency(15)   # passage de la fréquence à 15 Hz  \n",
    "time.sleep(10*dur)\n",
    "pg.stop()"
   ]
  },
  {
   "cell_type": "code",
   "execution_count": 33,
   "metadata": {},
   "outputs": [],
   "source": [
    "# LED Bleue  \n",
    "pb.start(15)             # allumage à 15 % (15% duty cycle)   \n",
    "time.sleep(dur)\n",
    "for i in range(15,80,5) :\n",
    "    pb.ChangeDutyCycle(i)   # passage à 80% par pas de 5%\n",
    "    time.sleep(dur)\n",
    "pb.ChangeFrequency(18)   # passage de la fréquence à 18 Hz  \n",
    "time.sleep(10*dur)\n",
    "pb.stop()"
   ]
  },
  {
   "cell_type": "code",
   "execution_count": 46,
   "metadata": {},
   "outputs": [],
   "source": [
    "# LED Jaune = Rouge + Vert  \n",
    "pr.start(15)             # allumage à 15 % (15% duty cycle) \n",
    "pg.start(5)             # allumage à 15 % (15% duty cycle)   \n",
    "time.sleep(dur)\n",
    "for i in range(15,80,5) :\n",
    "    pr.ChangeDutyCycle(i)   # passage à 80% par pas de 5%\n",
    "    pg.ChangeDutyCycle(i-10)   # passage à 80% par pas de 5% \n",
    "    time.sleep(dur)\n",
    "pr.ChangeFrequency(8)   # passage de la fréquence à 8 Hz  \n",
    "pg.ChangeFrequency(8)   # passage de la fréquence à 8 Hz  \n",
    "time.sleep(10*dur)\n",
    "pr.stop()\n",
    "pg.stop()"
   ]
  },
  {
   "cell_type": "code",
   "execution_count": 47,
   "metadata": {},
   "outputs": [],
   "source": [
    "# LED Magenta = Rouge + bleu  \n",
    "pr.start(15)             # allumage à 15 % (15% duty cycle) \n",
    "pb.start(15)             # allumage à 15 % (15% duty cycle)   \n",
    "time.sleep(dur)\n",
    "for i in range(15,80,5) :\n",
    "    pr.ChangeDutyCycle(i)   # passage à 80% par pas de 5%\n",
    "    pb.ChangeDutyCycle(i)   # passage à 80% par pas de 5% \n",
    "    time.sleep(dur)\n",
    "pr.ChangeFrequency(8)   # passage de la fréquence à 8 Hz  \n",
    "pb.ChangeFrequency(8)   # passage de la fréquence à 8 Hz  \n",
    "time.sleep(10*dur)\n",
    "pr.stop()\n",
    "pb.stop()"
   ]
  },
  {
   "cell_type": "code",
   "execution_count": 48,
   "metadata": {},
   "outputs": [],
   "source": [
    "# LED Cyan = Vert + bleu  \n",
    "pg.start(5)             # allumage à 15 % (15% duty cycle) \n",
    "pb.start(15)             # allumage à 15 % (15% duty cycle)   \n",
    "time.sleep(dur)\n",
    "for i in range(15,80,5) :\n",
    "    pg.ChangeDutyCycle(i-10)   # passage à 80% par pas de 5%\n",
    "    pb.ChangeDutyCycle(i)   # passage à 80% par pas de 5% \n",
    "    time.sleep(dur)\n",
    "pg.ChangeFrequency(7)   # passage de la fréquence à 8 Hz  \n",
    "pb.ChangeFrequency(7)   # passage de la fréquence à 8 Hz  \n",
    "time.sleep(10*dur)\n",
    "pg.stop()\n",
    "pb.stop()"
   ]
  },
  {
   "cell_type": "code",
   "execution_count": 49,
   "metadata": {},
   "outputs": [],
   "source": [
    "gpio.cleanup()          #nettoyage de l'état du gpio  "
   ]
  },
  {
   "cell_type": "markdown",
   "metadata": {},
   "source": [
    "# Modulation d'une LED RGB : création d'un arc-en-ciel\n",
    "\n",
    "Ce cahier aborde la combinaison de la lumière Rouge verte et bleue issue de 3 LEDs regroupées dans une LED RGB pour produire toutes les couleurs du spectre, la démonstration est faite en produisant un arc-en-ciel. L'objectif est de parvenir à reproduire l'enchainement des couleurs avec une LED RGB comme présenté sur ce [petit film](http://mediaserv.climatetmeteo.fr/users/GerardVidal/ObjetsConnectes/lePotDeYaourtMagique.mp4).\n"
   ]
  },
  {
   "cell_type": "markdown",
   "metadata": {},
   "source": [
    "## Utilisation de transistors pour moduler l'éclairement de 3 Leds\n",
    "\n",
    "Ce montage permet de s'affranchir des risques de surtension lorsqu'on utilise des objets connectés fonctionnant avec des broches de contrôle en basse ou très basse tension (3.3V ou 1.8V) au lieu des 5V que propose l'Arduino.\n",
    "\n",
    "On utilise les GPIO 22, 23, 24, correspondant aux Broches 15, 16, et 18 de la Raspberry Pi pour les couleurs bleue, vert, rouge. On utilise ici la bibliothèque dédiée à la Raspberry Pi (Rpi.GPIO) afin de pouvoir modifier la configuration des broches. Les déclarations du premier bloc de code ci-dessous sont communes à  tous les codes proposés plus loin.\n",
    "\n",
    "![3 LEDs rouge vert jaune alimentation avec trois transistors indépendants ](images/ledRGB-1.png)\n",
    "\n",
    "Les transistors sont placés ici sur les cathodes pour simuler la cathode commune de la LED RGB qui sera traitée dans la deuxième partie. Il est possible de réaliser le montage symétrique sur les anodes (en permuttant aussi le sens des transistors) pour simuler une LED RGB à anode commune. "
   ]
  },
  {
   "cell_type": "code",
   "execution_count": 10,
   "metadata": {},
   "outputs": [
    {
     "name": "stderr",
     "output_type": "stream",
     "text": [
      "/usr/local/lib/python3.5/dist-packages/ipykernel_launcher.py:4: RuntimeWarning: This channel is already in use, continuing anyway.  Use GPIO.setwarnings(False) to disable warnings.\n",
      "  after removing the cwd from sys.path.\n",
      "/usr/local/lib/python3.5/dist-packages/ipykernel_launcher.py:5: RuntimeWarning: This channel is already in use, continuing anyway.  Use GPIO.setwarnings(False) to disable warnings.\n",
      "  \"\"\"\n",
      "/usr/local/lib/python3.5/dist-packages/ipykernel_launcher.py:6: RuntimeWarning: This channel is already in use, continuing anyway.  Use GPIO.setwarnings(False) to disable warnings.\n",
      "  \n"
     ]
    }
   ],
   "source": [
    "import RPi.GPIO as gpio, time\n",
    "gpio.setmode(gpio.BOARD)  # choisir BCM ou BOARD pour identifier les broches. Ici BOARD\n",
    "\n",
    "gpio.setup(15, gpio.OUT)# GPIO 22 broche 15 output  \n",
    "gpio.setup(16, gpio.OUT)# GPIO 23 broche 16 output \n",
    "gpio.setup(18, gpio.OUT)# GPIO 24 broche 18 output  \n"
   ]
  },
  {
   "cell_type": "markdown",
   "metadata": {},
   "source": [
    "### Test des leds \n",
    "\n",
    "Quelques lignes de code pour tester trois LEDs rouge, vert, jaune ainsi que la mise en oeuvre de broches en mode PWM logiciel. Le but de ce petit code est de vérifier que les broches activées en PWM sont effectivement opérationnelles et tester la valeur des résistances à mettre en oeuvre pour l'éclairement soit homogène entre les différentes couleurs. La tension est inférieure à 3.3V sur les broches PWM logicielles et le courant faible, les transistors supportent une tension suffisamment élevée pour fonctionner sans risque avec la Raspberry pi."
   ]
  },
  {
   "cell_type": "code",
   "execution_count": 11,
   "metadata": {},
   "outputs": [],
   "source": [
    "py = gpio.PWM(15, 50)    # led bleue crée un objet pg  PWM sur le port GPIO22 à 50 Hertz  T=20ms \n",
    "pg = gpio.PWM(16, 50)    # led verte crée un objet pb  PWM sur le port GPIO23 à 50 Hertz  T=20ms \n",
    "pr = gpio.PWM(18, 50)    # led rouge crée un objet pr  PWM sur le port GPIO24 à 50 Hertz  T=20ms \n",
    "\n",
    "load = 10\n",
    "\n",
    "pr.start(load)             # allumage à load % (load% duty cycle) \n",
    "pg.start(load)             # allumage à load % (load% duty cycle)   \n",
    "py.start(load)             # allumage à load % (load% duty cycle)   \n"
   ]
  },
  {
   "cell_type": "markdown",
   "metadata": {},
   "source": [
    "Arrêt et extinction des LEDs."
   ]
  },
  {
   "cell_type": "code",
   "execution_count": 12,
   "metadata": {},
   "outputs": [],
   "source": [
    "pr.stop()\n",
    "pg.stop()\n",
    "py.stop()"
   ]
  },
  {
   "cell_type": "markdown",
   "metadata": {},
   "source": [
    "Nettoyage de la configuration des broches."
   ]
  },
  {
   "cell_type": "code",
   "execution_count": 13,
   "metadata": {},
   "outputs": [],
   "source": [
    "gpio.cleanup()          #nettoyage de l'état du gpio"
   ]
  },
  {
   "cell_type": "markdown",
   "metadata": {},
   "source": [
    "## Utilisation de transistors pour moduler l'éclairement d'une Led RGB\n",
    "\n",
    "Quelques lignes de code pour tester une LED RGB (rouge vert bleu) et la mise en oeuvre de broches en mode PWM logiciel. Le but de ce petit code est de vérifier que les broches activées en PWM sont effectivement opérationnelles et tester la valeur des résistances à mettre en oeuvre pour l'éclairement soit homogène entre les différentes couleurs.\n",
    "\n",
    "![LED RGB (rouge, vert, bleu) à cathode commune alimentation avec trois transistors indépendants ](images/ledRGB-2.png)\n"
   ]
  },
  {
   "cell_type": "markdown",
   "metadata": {},
   "source": [
    "La LED RGB comprend trois diodes aux propriétés différentes, les résistances permettent de modifier l'intensité du courant qui les parcourt et ajuster l'éclairement entre elles pour obtenir le mélange de couleurs souhaité et afficher la bonne couleur. "
   ]
  },
  {
   "cell_type": "code",
   "execution_count": 16,
   "metadata": {
    "collapsed": true
   },
   "outputs": [],
   "source": [
    "import RPi.GPIO as gpio, time\n",
    "gpio.setmode(gpio.BOARD)  # choisir BCM ou BOARD pour identifier les broches. Ici BOARD\n",
    "\n",
    "gpio.setup(15, gpio.OUT)# GPIO 22 broche 15 output  \n",
    "gpio.setup(16, gpio.OUT)# GPIO 23 broche 16 output \n",
    "gpio.setup(18, gpio.OUT)# GPIO 24 broche 18 output  "
   ]
  },
  {
   "cell_type": "code",
   "execution_count": 17,
   "metadata": {},
   "outputs": [],
   "source": [
    "pb = gpio.PWM(15, 50)    # led bleue crée un objet pg  PWM sur le port GPIO22 à 50 Hertz  T=20ms \n",
    "pg = gpio.PWM(16, 50)    # led verte crée un objet pb  PWM sur le port GPIO23 à 50 Hertz  T=20ms \n",
    "pr = gpio.PWM(18, 50)    # led rouge crée un objet pr  PWM sur le port GPIO24 à 50 Hertz  T=20ms \n",
    "\n",
    "load = 70\n",
    "\n",
    "pr.start(load)             # allumage à load % (load% duty cycle) \n",
    "pg.start(load)             # allumage à load % (load% duty cycle)   \n",
    "pb.start(load)             # allumage à load % (load% duty cycle)   \n"
   ]
  },
  {
   "cell_type": "markdown",
   "metadata": {},
   "source": [
    "Nettoyage de la configuration des broches."
   ]
  },
  {
   "cell_type": "code",
   "execution_count": 18,
   "metadata": {},
   "outputs": [],
   "source": [
    "pr.stop()\n",
    "pg.stop()\n",
    "pb.stop()"
   ]
  },
  {
   "cell_type": "markdown",
   "metadata": {},
   "source": [
    "Nettoyage de la configuration des broches."
   ]
  },
  {
   "cell_type": "code",
   "execution_count": 19,
   "metadata": {},
   "outputs": [],
   "source": [
    "gpio.cleanup()          #nettoyage de l'état du gpio"
   ]
  },
  {
   "cell_type": "markdown",
   "metadata": {},
   "source": [
    "### Modification de l'intensité lumineuse et de la fréquence\n",
    "\n",
    "Les broches en mode PWM (Pulse width Modulation) fournissent un potentiel de contrôle très riche, ce code permet d'explorer la modulation de la lumière et le clignootement. La théorie n'est pas développée ici, on aborde de façon empirique  les paramètres de contrôle :\n",
    " * fréquence \n",
    " * cycle de service "
   ]
  },
  {
   "cell_type": "code",
   "execution_count": 4,
   "metadata": {},
   "outputs": [],
   "source": [
    "dur = 0.25              # Durée des séquences\n",
    "\n",
    "pb = gpio.PWM(15, 50)    # led bleue crée un objet pg  PWM sur le port GPIO22 à 200 Hertz  T=5ms \n",
    "pg = gpio.PWM(16, 50)    # led verte crée un objet pb  PWM sur le port GPIO23 à 200 Hertz  T=5ms \n",
    "pr = gpio.PWM(18, 50)    # led rouge crée un objet pr  PWM sur le port GPIO24 à 200 Hertz  T=5ms \n",
    "\n",
    "# Allumage successif des 3 LEDs et changement d'intensité  \n",
    "pr.start(0)             # allumage à 15 % (15% duty cycle) \n",
    "time.sleep(dur)\n",
    "for i in range(5,100,5) :\n",
    "    pr.ChangeDutyCycle(i)   # passage à 100% par pas de 5%\n",
    "    time.sleep(dur)\n",
    "pr.ChangeFrequency(2)   # passage de la fréquence à 5 Hz  \n",
    "time.sleep(40*dur)\n",
    "pr.stop()\n",
    "pg.start(0)             # allumage à 15 % (15% duty cycle)   \n",
    "time.sleep(dur)\n",
    "for i in range(5,100,5) :\n",
    "    pg.ChangeDutyCycle(i)   # passage à 80% par pas de 5% \n",
    "    time.sleep(dur)\n",
    "pg.ChangeFrequency(2)   # passage de la fréquence à 5 Hz  \n",
    "time.sleep(40*dur)\n",
    "pg.stop()\n",
    "pb.start(0)             # allumage à 15 % (15% duty cycle)   \n",
    "time.sleep(dur)\n",
    "for i in range(5,100,5) :\n",
    "    pb.ChangeDutyCycle(i)   # passage à 80% par pas de 5%\n",
    "    time.sleep(dur)\n",
    "pb.ChangeFrequency(2)   # passage de la fréquence à 18 Hz  \n",
    "time.sleep(40*dur)\n",
    "pb.stop()"
   ]
  },
  {
   "cell_type": "code",
   "execution_count": 6,
   "metadata": {},
   "outputs": [],
   "source": [
    "gpio.cleanup()          #nettoyage de l'état du gpio  \n"
   ]
  },
  {
   "cell_type": "markdown",
   "metadata": {
    "collapsed": true
   },
   "source": [
    "## Création d'un arc-en-ciel avec une LED RGB\n",
    "\n",
    "La Led RGB permet de mélanger les couleurs comme cela se passe dans un téléviseur à LED. Chaque point de l'écran crée la couleur requise en mélangeant les trois couleurs Rouge Vert Bleu dans les proportions adéquates. Une nouvelle bibliothèque est ajoutée afin de déyecter les entrées au clavier pendant l'excution des tâches."
   ]
  },
  {
   "cell_type": "code",
   "execution_count": 3,
   "metadata": {},
   "outputs": [
    {
     "name": "stderr",
     "output_type": "stream",
     "text": [
      "/usr/local/lib/python3.5/dist-packages/ipykernel_launcher.py:5: RuntimeWarning: This channel is already in use, continuing anyway.  Use GPIO.setwarnings(False) to disable warnings.\n",
      "  \"\"\"\n",
      "/usr/local/lib/python3.5/dist-packages/ipykernel_launcher.py:6: RuntimeWarning: This channel is already in use, continuing anyway.  Use GPIO.setwarnings(False) to disable warnings.\n",
      "  \n",
      "/usr/local/lib/python3.5/dist-packages/ipykernel_launcher.py:7: RuntimeWarning: This channel is already in use, continuing anyway.  Use GPIO.setwarnings(False) to disable warnings.\n",
      "  import sys\n"
     ]
    }
   ],
   "source": [
    "import RPi.GPIO as gpio, time\n",
    "gpio.setmode(gpio.BOARD)  # choisir BCM ou BOARD pour identifier les broches. Ici BOARD\n",
    "import _thread as thread\n",
    "\n",
    "gpio.setup(15, gpio.OUT)# GPIO 22 broche 15 output  \n",
    "gpio.setup(16, gpio.OUT)# GPIO 23 broche 16 output \n",
    "gpio.setup(18, gpio.OUT)# GPIO 24 broche 18 output  \n",
    "\n",
    "pg = gpio.PWM(15, 200)    # led verte crée un objet pg  PWM sur le port GPIO22 à 200 Hertz  T=5ms \n",
    "pb = gpio.PWM(16, 200)    # led bleue crée un objet pb  PWM sur le port GPIO23 à 200 Hertz  T=5ms \n",
    "pr = gpio.PWM(18, 200)    # led rouge crée un objet pr  PWM sur le port GPIO24 à 200 Hertz  T=5ms "
   ]
  },
  {
   "cell_type": "code",
   "execution_count": 51,
   "metadata": {},
   "outputs": [
    {
     "name": "stdout",
     "output_type": "stream",
     "text": [
      "Type \"stop\" to stop modulation\n",
      "stop\n"
     ]
    }
   ],
   "source": [
    "dur = 0.15\n",
    "\n",
    "# veille sur l'input\n",
    "def input_thread(CheckInput):\n",
    "    check = input()\n",
    "#    CheckInput = CheckInput.append(check)\n",
    "    CheckInput.append(check)\n",
    "    return\n",
    "\n",
    "def rainbow():\n",
    "    CheckInput = []\n",
    "    thread.start_new_thread(input_thread, (CheckInput,))\n",
    "    print ('Type \"stop\" to stop modulation')\n",
    "    \n",
    "    pr.start(0)             # allumage à 0 % (0% duty cycle) \n",
    "    for i in range(0,100,2) :\n",
    "        pr.ChangeDutyCycle(i)   # de 0 à 100% par pas de 5% par 0.25s\n",
    "        time.sleep(dur)\n",
    "        \n",
    "    while True :\n",
    "        pb.start(0)             # allumage à 0 % (0% duty cycle) \n",
    "        for i in range(0,100,2) :\n",
    "            pb.ChangeDutyCycle(i)   # de 0 à 100% par pas de 2% par 0.25s R-> M\n",
    "            time.sleep(dur)\n",
    "        time.sleep(dur)\n",
    "        for i in range(100,0,-2) :\n",
    "            pr.ChangeDutyCycle(i)   # de 0 à 100% par pas de 2% par 0.25s M->B\n",
    "            time.sleep(dur)\n",
    "        pr.stop()\n",
    "        pg.start(0)             # allumage à 0 % (0% duty cycle) \n",
    "        time.sleep(dur)\n",
    "        for i in range(0,100,2) :\n",
    "            pg.ChangeDutyCycle(i)   # de 0 à 100% par pas de 2% par 0.25s B-> C\n",
    "            time.sleep(dur)\n",
    "        time.sleep(dur)\n",
    "        for i in range(100,0,-2) :\n",
    "            pb.ChangeDutyCycle(i)   # de 0 à 100% par pas de 2% par 0.25s C-> V\n",
    "            time.sleep(dur)\n",
    "        pb.stop()\n",
    "        pr.start(0)             # allumage à 0 % (0% duty cycle) \n",
    "        time.sleep(dur)\n",
    "        for i in range(0,100,2) :\n",
    "            pr.ChangeDutyCycle(i)   # de 0 à 100% par pas de 2% par 0.25s V-> J\n",
    "            time.sleep(dur)\n",
    "        time.sleep(dur)\n",
    "        for i in range(100,0,-2) :\n",
    "            pg.ChangeDutyCycle(i)   # de 0 à 100% par pas de 2% par 0.25s J-> R\n",
    "            time.sleep(dur)\n",
    "        pb.stop()\n",
    "        time.sleep(dur)\n",
    "        \n",
    "        # Sortie de boucle infinie\n",
    "        if CheckInput == ['stop']  : \n",
    "            pr.stop()\n",
    "            pg.stop()\n",
    "            pb.stop()            \n",
    "            break\n",
    "    return\n",
    "\n",
    "\n",
    "rainbow()\n"
   ]
  },
  {
   "cell_type": "code",
   "execution_count": 8,
   "metadata": {},
   "outputs": [],
   "source": [
    "pr.stop()\n",
    "pg.stop()\n",
    "pb.stop()"
   ]
  },
  {
   "cell_type": "code",
   "execution_count": 7,
   "metadata": {},
   "outputs": [
    {
     "name": "stderr",
     "output_type": "stream",
     "text": [
      "/usr/local/lib/python3.5/dist-packages/ipykernel_launcher.py:1: RuntimeWarning: No channels have been set up yet - nothing to clean up!  Try cleaning up at the end of your program instead!\n",
      "  \"\"\"Entry point for launching an IPython kernel.\n"
     ]
    }
   ],
   "source": [
    "gpio.cleanup()          #nettoyage de l'état du gpio  "
   ]
  },
  {
   "cell_type": "code",
   "execution_count": null,
   "metadata": {},
   "outputs": [],
   "source": []
  }
 ],
 "metadata": {
  "kernelspec": {
   "display_name": "Python 3",
   "language": "python",
   "name": "python3"
  },
  "language_info": {
   "codemirror_mode": {
    "name": "ipython",
    "version": 3
   },
   "file_extension": ".py",
   "mimetype": "text/x-python",
   "name": "python",
   "nbconvert_exporter": "python",
   "pygments_lexer": "ipython3",
   "version": "3.5.4"
  }
 },
 "nbformat": 4,
 "nbformat_minor": 2
}
