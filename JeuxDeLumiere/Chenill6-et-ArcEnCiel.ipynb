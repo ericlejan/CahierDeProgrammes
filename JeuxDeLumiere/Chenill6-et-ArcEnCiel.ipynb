{
 "cells": [
  {
   "cell_type": "markdown",
   "metadata": {},
   "source": [
    "## Comment contrôler 6 LED avec 3 fils de commande seulement ?\n",
    "\n",
    "Dans la vie courante on est habitué à contrôler une ampoule avec deux fils, nous avons vu qu'en branchant deux LEDs symétriquement il était possible en permuttant la valeur des broches (0 ou 1)d'obtenir un clignotement. Il existe aussi des dispositifs présentant de nombreuses LEDs contrôlées individuellement ou par groupes, il s'agit par exemple des chenillards lumineux dans les espaces ludiques ou des guirlandes de Noël. Malgré le grand nombre de LEDs ces dispositifs sont contrôlés par un très faible nombre de fils, comment cela est-il possible ?"
   ]
  },
  {
   "cell_type": "markdown",
   "metadata": {},
   "source": [
    "# Principe\n",
    "Nous allons aborder un exemple basique permettant de contrôler 6 LED avec 3 fils, le procédé utilisé est le Charlie-Plexing. Ce procédé permet de contrôler avec n fils `n * (n-1)` LEDs; soit pour nous 3 x 2 = 6.\n",
    "On utilise pour cette partie le montage encadré en rouge ci-dessous.\n",
    "\n",
    "# Montage\n",
    "\n",
    "![CharliePlexing à 6 LED](images/ledboard6.png)\n",
    "                        ![licence : Gérard Vidal](images/Licence.jpg)\n",
    "                        \n",
    "Les fils gris représentent les points de branchement des 3 fils de contrôle, le cablage est représenté par les fils rouges. Ce procédé repose sur la possibilité de mettre la broche non pas dans deux mais dans 3 états : \n",
    " * état masse ..............valeur out 0\n",
    " * état alimentation........valeur out 1\n",
    " * état résistance infinie .valeur in Z\n",
    " \n",
    "Le Schéma de principe du fonctionnement est donné dans l'image suivante :\n",
    "\n",
    "![Schéma de principe du CharliePlexing à 6 LED](images/anim6led.gif)\n",
    "                        ![licence : Gérard Vidal](images/Licence.jpg)               \n",
    "\n",
    "Nous représenterons chaque état par la séquence d'abbréviations la caractérisant dans l'ordre des broches 1-2-3. Par exemple 0Z1 signifie que le + est sur la broche 3 que le - est sur la broche 1 et que la broche 2 est bloquée. On a donc les états suivants\n",
    " * 10Z\n",
    " * 1Z0\n",
    " * 01Z\n",
    " * 0Z1\n",
    " * Z10\n",
    " * Z01\n",
    " \n",
    " # Programme\n",
    " \n",
    "Cela fournit bien 6 états possibles pour notre circuit à 3 fils. Nous allons **définir** (instruction *def*) un ensemble d'instructions permettant en fonction de l'ordre dans lequel sont passées les broches de réaliser l'état attendu. Il s'agit d'une  *fonction* (définie par la commande **def**)que nous nommerons du nom de l'état dans l'ordre des 3 broches [0,1,z] du circuit qu'elles provoquent, nous définissons aussi une *fonction* qui éteint toutes les leds. \n",
    "\n",
    "La figure ci-dessous présente l'état du branchement effectivement réalisé pour réaliser le chenillard et l'arc en ciel.\n",
    "\n",
    "![Détail CharliePlexing à 6 LED et diode RGB](images/detailchen+gb.jpg)\n",
    "                        ![licence : Gérard Vidal](images/Licence.jpg)\n"
   ]
  },
  {
   "cell_type": "code",
   "execution_count": 1,
   "metadata": {},
   "outputs": [],
   "source": [
    "import mraa, time"
   ]
  },
  {
   "cell_type": "code",
   "execution_count": 2,
   "metadata": {},
   "outputs": [],
   "source": [
    "led1 = mraa.Gpio(31) # extérieur du dispositif\n",
    "led2 = mraa.Gpio(32) # milieu\n",
    "led3 = mraa.Gpio(33) # intérieur"
   ]
  },
  {
   "cell_type": "code",
   "execution_count": 3,
   "metadata": {},
   "outputs": [],
   "source": [
    "dur = 0.04"
   ]
  },
  {
   "cell_type": "code",
   "execution_count": 4,
   "metadata": {},
   "outputs": [],
   "source": [
    "def etat_01Z(a,b,c) :\n",
    "    a.dir(mraa.DIR_OUT)\n",
    "    b.dir(mraa.DIR_OUT)\n",
    "    c.dir(mraa.DIR_IN)\n",
    "    a.write(0)\n",
    "    b.write(1)\n",
    "    time.sleep(dur)\n",
    "    return\n",
    "\n",
    "def etat_000(a,b,c) :\n",
    "    led1.dir(mraa.DIR_IN)\n",
    "    led2.dir(mraa.DIR_IN)\n",
    "    led3.dir(mraa.DIR_IN)\n",
    "    return"
   ]
  },
  {
   "cell_type": "markdown",
   "metadata": {},
   "source": [
    "Nous définisons enfin une dernière fonction qui décrit l'enchainement des états des broches pour réaliser le chenillard' une 7ème qui assurera l'enchaînement des états blink6."
   ]
  },
  {
   "cell_type": "code",
   "execution_count": 12,
   "metadata": {},
   "outputs": [],
   "source": [
    "def blink6(leda,ledb,ledc) :\n",
    "    for i in range(100) :\n",
    "        etat_01Z(leda,ledb,ledc)\n",
    "        etat_01Z(ledb,leda,ledc)\n",
    "        etat_01Z(leda,ledc,ledb)\n",
    "        etat_01Z(ledc,leda,ledb)\n",
    "        etat_01Z(ledb,ledc,leda)\n",
    "        etat_01Z(ledc,ledb,leda)\n",
    "        etat_000(leda,ledb,ledc)\n",
    "        etat_01Z(ledc,ledb,leda)\n",
    "        etat_01Z(ledb,ledc,leda)\n",
    "        etat_01Z(ledc,leda,ledb)\n",
    "        etat_01Z(leda,ledc,ledb)\n",
    "        etat_01Z(ledb,leda,ledc)\n",
    "        etat_01Z(leda,ledb,ledc)\n",
    "        etat_000(leda,ledb,ledc)\n",
    "    etat_000(leda,ledb,ledc)\n",
    "    return"
   ]
  },
  {
   "cell_type": "markdown",
   "metadata": {},
   "source": [
    "L'exécution est lancée ici :"
   ]
  },
  {
   "cell_type": "code",
   "execution_count": 13,
   "metadata": {},
   "outputs": [],
   "source": [
    "blink6(led1,led2,led3)"
   ]
  },
  {
   "cell_type": "markdown",
   "metadata": {},
   "source": [
    "## Création d'un arc-en-ciel avec une LED RGB\n",
    "\n",
    "La Led RGB permet de mélanger les couleurs comme cela se passe dans un téléviseur à LED. Chaque point de l'écran crée la couleur requise en mélangeant les trois couleurs Rouge Vert Bleu dans les proportions adéquates. Une nouvelle bibliothèque est ajoutée afin de déyecter les entrées au clavier pendant l'excution des tâches."
   ]
  },
  {
   "cell_type": "code",
   "execution_count": 39,
   "metadata": {},
   "outputs": [],
   "source": [
    "import RPi.GPIO as gpio, time\n",
    "gpio.setmode(gpio.BOARD)  # choisir BCM ou BOARD pour identifier les broches. Ici BOARD\n",
    "import _thread as thread\n",
    "\n",
    "gpio.setup(15, gpio.OUT)# GPIO 22 broche 15 output  \n",
    "gpio.setup(16, gpio.OUT)# GPIO 23 broche 16 output \n",
    "gpio.setup(18, gpio.OUT)# GPIO 24 broche 18 output  \n",
    "\n",
    "pb = gpio.PWM(15, 200)    # led bleue crée un objet pg  PWM sur le port GPIO22 à 200 Hertz  T=5ms \n",
    "pg = gpio.PWM(16, 200)    # led verte crée un objet pb  PWM sur le port GPIO23 à 200 Hertz  T=5ms \n",
    "pr = gpio.PWM(18, 200)    # led rouge crée un objet pr  PWM sur le port GPIO24 à 200 Hertz  T=5ms "
   ]
  },
  {
   "cell_type": "markdown",
   "metadata": {},
   "source": [
    "AVant de traiter la question de l'arc en ciel il est nécessaire de vérifier que les branchements sont corrects en allumant successivement les led Rouge verte et bleue de la led RGB. Les led sont allumées tour à tour pendant 3 secondes à 50% de leur capacité."
   ]
  },
  {
   "cell_type": "code",
   "execution_count": 40,
   "metadata": {},
   "outputs": [],
   "source": [
    "dur = 3\n",
    "pr.start(50)\n",
    "time.sleep(dur)\n",
    "pr.stop()"
   ]
  },
  {
   "cell_type": "code",
   "execution_count": 41,
   "metadata": {},
   "outputs": [],
   "source": [
    "pg.start(50)\n",
    "time.sleep(dur)\n",
    "pg.stop()"
   ]
  },
  {
   "cell_type": "code",
   "execution_count": 42,
   "metadata": {},
   "outputs": [],
   "source": [
    "pb.start(50)\n",
    "time.sleep(dur)\n",
    "pb.stop()            "
   ]
  },
  {
   "cell_type": "code",
   "execution_count": 43,
   "metadata": {},
   "outputs": [
    {
     "name": "stdout",
     "output_type": "stream",
     "text": [
      "Type \"stop\" to stop modulation\n",
      "stop\n"
     ]
    }
   ],
   "source": [
    "\n",
    "dur = 0.15\n",
    "\n",
    "# veille sur l'input\n",
    "def input_thread(CheckInput):\n",
    "    check = input()\n",
    "#    CheckInput = CheckInput.append(check)\n",
    "    CheckInput.append(check)\n",
    "    return\n",
    "\n",
    "def rainbow():\n",
    "    CheckInput = []\n",
    "    thread.start_new_thread(input_thread, (CheckInput,))\n",
    "    print ('Type \"stop\" to stop modulation')\n",
    "    \n",
    "    pr.start(0)             # allumage à 0 % (0% duty cycle) \n",
    "    for i in range(0,100,5) :\n",
    "        pr.ChangeDutyCycle(i)   # de 0 à 100% par pas de 5% par 0.25s\n",
    "        time.sleep(dur)\n",
    "        \n",
    "    while True :\n",
    "        pg.start(0)             # allumage à 0 % (0% duty cycle) \n",
    "        for i in range(0,100,5) :\n",
    "            pg.ChangeDutyCycle(i)   # de 0 à 100% par pas de 5% par 0.25s\n",
    "            time.sleep(dur)\n",
    "        for i in range(100,0,-5) :\n",
    "            pr.ChangeDutyCycle(i)   # de 0 à 100% par pas de 5% par 0.25s\n",
    "            time.sleep(dur)\n",
    "        pr.stop()\n",
    "        pb.start(0)             # allumage à 0 % (0% duty cycle) \n",
    "        for i in range(0,100,5) :\n",
    "            pb.ChangeDutyCycle(i)   # de 0 à 100% par pas de 5% par 0.25s\n",
    "            time.sleep(dur)\n",
    "        for i in range(100,0,-5) :\n",
    "            pg.ChangeDutyCycle(i)   # de 0 à 100% par pas de 5% par 0.25s\n",
    "            time.sleep(dur)\n",
    "        pg.stop()\n",
    "        pr.start(0)             # allumage à 0 % (0% duty cycle) \n",
    "        for i in range(0,100,5) :\n",
    "            pr.ChangeDutyCycle(i)   # de 0 à 100% par pas de 5% par 0.25s\n",
    "            time.sleep(dur)\n",
    "        for i in range(100,0,-5) :\n",
    "            pb.ChangeDutyCycle(i)   # de 0 à 100% par pas de 5% par 0.25s\n",
    "            time.sleep(dur)\n",
    "        pb.stop()\n",
    "        \n",
    "        # Sortie de boucle infinie\n",
    "        if CheckInput == ['stop']  : \n",
    "            pr.stop()\n",
    "            pg.stop()\n",
    "            pb.stop()            \n",
    "            break\n",
    "    return\n",
    "\n",
    "\n",
    "rainbow()\n"
   ]
  },
  {
   "cell_type": "code",
   "execution_count": 5,
   "metadata": {},
   "outputs": [],
   "source": [
    "pr.stop()\n",
    "pg.stop()\n",
    "pb.stop()"
   ]
  },
  {
   "cell_type": "code",
   "execution_count": 31,
   "metadata": {},
   "outputs": [],
   "source": [
    "gpio.cleanup()          #nettoyage de l'état du gpio  "
   ]
  },
  {
   "cell_type": "code",
   "execution_count": null,
   "metadata": {
    "collapsed": true
   },
   "outputs": [],
   "source": []
  }
 ],
 "metadata": {
  "kernelspec": {
   "display_name": "Python 3",
   "language": "python",
   "name": "python3"
  },
  "language_info": {
   "codemirror_mode": {
    "name": "ipython",
    "version": 3
   },
   "file_extension": ".py",
   "mimetype": "text/x-python",
   "name": "python",
   "nbconvert_exporter": "python",
   "pygments_lexer": "ipython3",
   "version": "3.6.5rc1"
  }
 },
 "nbformat": 4,
 "nbformat_minor": 2
}
