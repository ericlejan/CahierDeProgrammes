{
 "cells": [
  {
   "cell_type": "markdown",
   "metadata": {},
   "source": [
    "# Rudiments de l'affichage sur un écran 16 x 2 Grove\n",
    "\n",
    "Ce cahier d'exercices permet d'observer le comportement d'un afficheur LED 2x16 puis d'explorer les différentes possibilités d'affichage proposées. On utilisera le pilote UPM et l'interface MRAA.\n",
    "Le premier bloc de code proposé permet un affichage simple d'une chaîne de caractères.\n",
    "description ligne à ligne :\n",
    " * importation des bibliothèques mraa et time\n",
    " * importation de la bibliothèque de pilotage de l'afficheur Jdh1313m1\n",
    " * déclaration du bus i2c utilisé\n",
    " * déclaration des deux adresses de communication (texte et couleur gérées automatiquement par les commandes)\n",
    " \n",
    "Pour faire les exercices ci-dessous il suffit d'effectuer les déclarations du premier bloc une seule fois, les instructions suivantes peuvent être répétées autant de fois que souhaité."
   ]
  },
  {
   "cell_type": "code",
   "execution_count": 1,
   "metadata": {},
   "outputs": [],
   "source": [
    "import mraa, time\n",
    "from upm import pyupm_jhd1313m1 as jdm\n",
    "\n",
    "bus1 = 0\n",
    "lcdAddress = 0x3E\n",
    "rgbAddress = 0x62\n",
    "\n",
    "lcd = jdm.Jhd1313m1(bus1,lcdAddress,rgbAddress)"
   ]
  },
  {
   "cell_type": "markdown",
   "metadata": {},
   "source": [
    "L'écriture se fait avec la fonction `write()`"
   ]
  },
  {
   "cell_type": "code",
   "execution_count": 2,
   "metadata": {},
   "outputs": [],
   "source": [
    "status = lcd.write(\"Coucou le monde\")"
   ]
  },
  {
   "cell_type": "markdown",
   "metadata": {},
   "source": [
    "L'effaçage se fait avec la fonction `clear()`"
   ]
  },
  {
   "cell_type": "code",
   "execution_count": 3,
   "metadata": {},
   "outputs": [],
   "source": [
    "status = lcd.clear()"
   ]
  },
  {
   "cell_type": "markdown",
   "metadata": {},
   "source": [
    "L'extinction de l'écran se fait avec la fonction `lcd.backlightOff()`"
   ]
  },
  {
   "cell_type": "code",
   "execution_count": 4,
   "metadata": {},
   "outputs": [],
   "source": [
    "status = lcd.backlightOff()"
   ]
  },
  {
   "cell_type": "markdown",
   "metadata": {},
   "source": [
    "## Gestion de l'affichage et des couleurs\n",
    "L'affichage du texte et du fond est géré indépendamment avec les fonctions:\n",
    "* backlightOn() Allume l'écran\t\t\n",
    "* backlightOff() Éteint l'écran\n",
    "* displayOn() Démarre l'affichage\n",
    "* displayOff() Interrompt l'affichage\n",
    "La couleur et l'intensité de l'éclairage est contrôlé par la fonction `setColor(r,g,b)`\n",
    " * r désigne l'intensité du rouge et varie de 0 (pas de rouge) à 255 (rouge maximum)\n",
    " * v désigne l'intensité du vert et varie de 0 (pas de vert) à 255 (vert maximum)\n",
    " * g désigne l'intensité du bleu et varie de 0 (pas de bleu) à 255 (bleu maximum)\n",
    "La composition des couleurs est la même que celle des écrans de télévision ou des images numériques codées sur 24 bits RGB Dans l'exemple ci dessous on affiche \"Bonjour !\"  su fond jaune moyen pendant 10 secondes"
   ]
  },
  {
   "cell_type": "code",
   "execution_count": 41,
   "metadata": {},
   "outputs": [],
   "source": [
    "lcd.setColor(128,128,0)\n",
    "status = lcd.write(\"Bonjour !\")\n",
    "status = lcd.backlightOn()\n",
    "time.sleep(10)\n",
    "status = lcd.backlightOff()\n",
    "status = lcd.clear()"
   ]
  },
  {
   "cell_type": "markdown",
   "metadata": {},
   "source": [
    "### Exercices\n",
    " * Affichez \"Hello !\" sur fond rouge sombre\n",
    " * Affichez \"hello friends :-)\" sur fond violet"
   ]
  },
  {
   "cell_type": "code",
   "execution_count": null,
   "metadata": {},
   "outputs": [],
   "source": []
  },
  {
   "cell_type": "markdown",
   "metadata": {},
   "source": [
    "## Gestion du curseur\n",
    "Plusieurs types d'opérations sont posssibles syr le curseur, il est possible de contrôler sa position, son affichage et son clignottement. les opérations disponibles sont : \n",
    " * Positionnement\n",
    "      * home() Retour à l'origine\n",
    "      * setCursor(int row, int column) \t_row position en ligne, column position en colonne_\n",
    " * Clignottement\n",
    "      * cursorBlinkOn() \t\n",
    "      * cursorBlinkOff()\n",
    "      * cursorOn()\n",
    "      * cursorOff()\n",
    "Dans l'exemple ci-dessous le curseur est affiché puis déplacé"
   ]
  },
  {
   "cell_type": "code",
   "execution_count": 23,
   "metadata": {},
   "outputs": [],
   "source": [
    "lcd.setColor(128,128,128)\n",
    "status = lcd.setCursor(1,8)\n",
    "status = lcd.backlightOn()\n",
    "status = lcd.cursorOn()\n",
    "time.sleep(5)\n",
    "status = lcd.setCursor(2,4)\n",
    "status = lcd.cursorOff()\n",
    "status = lcd.cursorBlinkOn()\n",
    "time.sleep(5)\n",
    "status = lcd.backlightOff()\n",
    "status = lcd.cursorOff()\n",
    "status = lcd.cursorBlinkOff()"
   ]
  },
  {
   "cell_type": "markdown",
   "metadata": {},
   "source": [
    "### Exercice\n",
    "Affichez \"Bonjour\" sur la première ligne à partir de la 5ème colonne puis allumez le fond d'écran en turquoise"
   ]
  },
  {
   "cell_type": "code",
   "execution_count": null,
   "metadata": {},
   "outputs": [],
   "source": []
  },
  {
   "cell_type": "markdown",
   "metadata": {},
   "source": [
    "## Gestion du mode d'affichage\n",
    "Le mode d'affichage peut être controlé de différentes façons, il est possible d'agir sur le défilement et sur le côté par le quel sont ajoutés les caractères. \n",
    " * Défilement\n",
    "     * scrollDisplayLeft()\n",
    "     * scrollDisplayRight()\n",
    "     * autoscrollOn()\n",
    "     * autoscrollOff()\n",
    "     * scroll(bool direction) \t_met en route le défilement 1 vers la droite 0 vers la gauche\n",
    " * Arrivée des caractères\n",
    "     * entryLeftToRight()\n",
    "     * entryRightToLeft()\n",
    " * dessiner un caractère\n",
    "     * createChar(uint8_t charSlot, std::vector< uint8_t > charData) \t"
   ]
  },
  {
   "cell_type": "code",
   "execution_count": 40,
   "metadata": {},
   "outputs": [
    {
     "data": {
      "text/plain": [
       "0"
      ]
     },
     "execution_count": 40,
     "metadata": {},
     "output_type": "execute_result"
    }
   ],
   "source": [
    "heart = (\n",
    "    0b00000,\n",
    "    0b01010,\n",
    "    0b11111,\n",
    "    0b11111,\n",
    "    0b11111,\n",
    "    0b01110,\n",
    "    0b00100,\n",
    "    0b00000)\n",
    "\n",
    "lcd.createChar(0,heart)\n",
    "lcd.setCursor(2,4)\n",
    "lcd.write(chr(0))"
   ]
  },
  {
   "cell_type": "markdown",
   "metadata": {},
   "source": [
    "### Exercice\n",
    "Écrivez la phrase que vous souhaitez et faites la défiler vers la droite puis vers la gauche"
   ]
  },
  {
   "cell_type": "code",
   "execution_count": null,
   "metadata": {},
   "outputs": [],
   "source": []
  }
 ],
 "metadata": {
  "kernelspec": {
   "display_name": "Python 3",
   "language": "python",
   "name": "python3"
  },
  "language_info": {
   "codemirror_mode": {
    "name": "ipython",
    "version": 3
   },
   "file_extension": ".py",
   "mimetype": "text/x-python",
   "name": "python",
   "nbconvert_exporter": "python",
   "pygments_lexer": "ipython3",
   "version": "3.6.5rc1"
  }
 },
 "nbformat": 4,
 "nbformat_minor": 2
}
