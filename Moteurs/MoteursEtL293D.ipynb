{
 "cells": [
  {
   "cell_type": "markdown",
   "metadata": {},
   "source": [
    "\n",
    "|  |\n",
    "| ------------------------------------------------------- | \n",
    "| ![Tremplin des sciences](images/tremplinColorSmall.png) | \n",
    "\n",
    "Cahier d'exercices pour l'enseignement et l'apprentissage de programmation issu de la collection \"Climat et météo tremplin pour l'enseignement des sciences\" (PIA IFÉ ENS de Lyon - Météofrance ENM Toulouse). Le dispositif clef en main repose sur l'utilisation d'une RaspberryPi chargée avec le système d'exploitation Debian enrichi, fourni par le projet. Les sources et les exécutables sont accessibles dans [l'espace collaboratif de la forge github](https://github.com/g-vidal/CahierDeProgrammes); plus d'information sur les [blogs d'accompagnement](http://blog.climatetmeteo.fr/GerardVidal/) systèmes d'exploitation sur [la page des OS  de Raspberries Pi](http://mediaserv.climatetmeteo.fr/images/RaspBerry/DebianStretchPi3/).  Toutes les ressources issues du projet sont fournies sous licence [Creative Commons](https://creativecommons.org/licenses/by-nc/4.0/) ou sous les licences libres d'origine des outils utilisés. Les ressources  du projet peuvent être utilisées dans tout autre environnement compatible.![Licence : Creative Commons](images/Licence.jpg) \n",
    "\n",
    "Auteurs : C-H. Eyraud, G. Vidal, E. le Jan\n",
    "\n",
    "------------------------------------------------------------"
   ]
  },
  {
   "cell_type": "markdown",
   "metadata": {},
   "source": [
    "# Le circuit L293D\n",
    "    \n",
    "Le circuit intégré  L293D est un circuit de 4 canaux pouvant délivrer 600mA par canal. Il permet d'alimenter deux moteurs indépendamment.\n",
    "\n",
    "Les broches du L293D sont numérotées de 1 à 16.\n",
    "* Le L293D doit être alimenté sur la broche 16 : il le sera en 5V par la RaspberryPi.\n",
    "* L'alimentation externe pour les moteurs doit être branchée sur la broche 8\n",
    "* Le premier moteur sera branché sur les broches 3 et 6, le deuxième moteur sur les broches 11 et 14\n",
    "* Les broches 1 et 16 permettent d'activer les canaux 1-2 et 3-4 respectivement\n",
    "* Les broches 4-5 et 12-13 sont reliées à la terre\n",
    "\n",
    "![L293](images/L293D.jpg)\n",
    "![licence : Charles-Henri Eyraud](images/Licence.jpg)\n",
    "\n",
    "[Datasheet du circuit L293D](http://www.ti.com/lit/ds/symlink/l293d.pdf)"
   ]
  },
  {
   "cell_type": "markdown",
   "metadata": {},
   "source": [
    "#  Contrôle du moteur 1\n",
    "\n",
    "\n",
    "![montage](images/RaspberryPi_Moteur1_L293D.jpg)\n",
    "![licence : Charles-Henri Eyraud](images/Licence.jpg)"
   ]
  },
  {
   "cell_type": "code",
   "execution_count": 34,
   "metadata": {},
   "outputs": [
    {
     "name": "stdout",
     "output_type": "stream",
     "text": [
      "0\n",
      "Le moteur 2 tourne en sens direct, rapide.\n"
     ]
    }
   ],
   "source": [
    "## Contrôle du premier moteur de la Raspberry Pi\n",
    "import mraa, RPi.GPIO as gpio\n",
    "gpio.setmode(gpio.BOARD)  # Choix de BOARD pour identifier les broches\n",
    "\n",
    "gpio.setup(11, gpio.OUT)# broche 11 en sortie\n",
    "control1 = gpio.PWM(11, 200)    # PWM sur la broche à 200 Hertz  T=5ms \n",
    "\n",
    "\n",
    "input11 = mraa.Gpio(13)\n",
    "input12 = mraa.Gpio(37)\n",
    "print(input11.dir(mraa.DIR_OUT)) # imprimer l'état de la broche 13 (0 correct, 7 erreur)\n",
    "input12.dir(mraa.DIR_OUT)\n",
    "\n",
    "control1.start(50) # rapport cyclique de 50%\n",
    "input11.write(1)\n",
    "input12.write(0)\n",
    "print (\"Le moteur 2 tourne en sens direct, rapide.\")"
   ]
  },
  {
   "cell_type": "code",
   "execution_count": 24,
   "metadata": {},
   "outputs": [],
   "source": [
    "control1.ChangeDutyCycle(30) ## rapport cyclique de 30%"
   ]
  },
  {
   "cell_type": "code",
   "execution_count": 25,
   "metadata": {},
   "outputs": [
    {
     "name": "stdout",
     "output_type": "stream",
     "text": [
      "Le moteur 1 tourne en sens inverse, lent.\n"
     ]
    }
   ],
   "source": [
    "input11.write(0)\n",
    "input12.write(1)\n",
    "print (\"Le moteur 1 tourne en sens inverse, lent.\")"
   ]
  },
  {
   "cell_type": "code",
   "execution_count": 35,
   "metadata": {},
   "outputs": [],
   "source": [
    "control1.stop() # Arrêt du moteur"
   ]
  },
  {
   "cell_type": "markdown",
   "metadata": {},
   "source": [
    "#  Contrôle du moteur 2\n",
    "\n",
    "![montage avec 2 moteurs](images/RaspberryPi_2Moteurs_L293D.jpg)\n",
    "![licence : Charles-Henri Eyraud](images/Licence.jpg)\n",
    "![Détail](images/L293DConnexions.jpg)\n",
    "![licence : Charles-Henri Eyraud](images/Licence.jpg)"
   ]
  },
  {
   "cell_type": "code",
   "execution_count": 29,
   "metadata": {},
   "outputs": [
    {
     "name": "stdout",
     "output_type": "stream",
     "text": [
      "0\n"
     ]
    },
    {
     "data": {
      "text/plain": [
       "0"
      ]
     },
     "execution_count": 29,
     "metadata": {},
     "output_type": "execute_result"
    }
   ],
   "source": [
    "import mraa, RPi.GPIO as gpio\n",
    "gpio.setmode(gpio.BOARD)  # Choix de BOARD pour identifier les broches\n",
    "\n",
    "gpio.setup(12, gpio.OUT)# Déclaration de la broche 12 en sortie \n",
    "control2 = gpio.PWM(12, 200)    # PWM sur la broche 12 à 200 Hertz  T=5ms \n",
    "#print(mraa.pinModeTest(12,2))\n",
    "\n",
    "\n",
    "input21 = mraa.Gpio(16)\n",
    "input22 = mraa.Gpio(22)\n",
    "print(input21.dir(mraa.DIR_OUT)) # imprimer l'état de la broche 16 (0 correct, 7 erreur)\n",
    "input22.dir(mraa.DIR_OUT)\n",
    "\n",
    "control2.start(50) ## rapport cyclique de 50%\n",
    "input21.write(1)\n",
    "input22.write(0)"
   ]
  },
  {
   "cell_type": "code",
   "execution_count": 30,
   "metadata": {},
   "outputs": [
    {
     "name": "stdout",
     "output_type": "stream",
     "text": [
      "Le moteur 2 tourne en sens inverse, lent.\n"
     ]
    }
   ],
   "source": [
    "control2.start(30) ## rapport cyclique de 30%\n",
    "input21.write(0)\n",
    "input22.write(1)\n",
    "print (\"Le moteur 2 tourne en sens inverse, lent.\")"
   ]
  },
  {
   "cell_type": "code",
   "execution_count": 31,
   "metadata": {},
   "outputs": [],
   "source": [
    "control2.stop() ## Arrêt du moteur"
   ]
  },
  {
   "cell_type": "markdown",
   "metadata": {},
   "source": [
    "## Biblio\n",
    "\n",
    "http://iotdk.intel.com/docs/master/mraa/classmraa_1_1_pwm.html\n",
    "\n",
    "### En cas de broche \"hors service\"\n",
    "\n",
    "En cas de déclaration multiple de la broche xy, celle-ci peut se trouver dans un état \"hors service\": la situation est récupérable en déclarant la broche en entrée IN, puis à nouveau en sortie OUT avec les instructions :"
   ]
  },
  {
   "cell_type": "code",
   "execution_count": 2,
   "metadata": {},
   "outputs": [
    {
     "data": {
      "text/plain": [
       "0"
      ]
     },
     "execution_count": 2,
     "metadata": {},
     "output_type": "execute_result"
    }
   ],
   "source": [
    "inputxy.dir(mraa.DIR_IN)\n",
    "#inputxy.dir(mraa.DIR_OUT)"
   ]
  },
  {
   "cell_type": "markdown",
   "metadata": {},
   "source": [
    "Toutefois si l'indisponibilité persiste ouvrir un terminal depuis la page de garde du \"Cahier de programmes\" et exécuter l'instruction \"mraa-gpio set xy 0\""
   ]
  }
 ],
 "metadata": {
  "kernelspec": {
   "display_name": "Python 3",
   "language": "python",
   "name": "python3"
  },
  "language_info": {
   "codemirror_mode": {
    "name": "ipython",
    "version": 3
   },
   "file_extension": ".py",
   "mimetype": "text/x-python",
   "name": "python",
   "nbconvert_exporter": "python",
   "pygments_lexer": "ipython3",
   "version": "3.5.3"
  }
 },
 "nbformat": 4,
 "nbformat_minor": 2
}
