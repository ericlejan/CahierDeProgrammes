{
 "cells": [
  {
   "cell_type": "markdown",
   "metadata": {},
   "source": [
    "# Test nouveau cahier mixte\n",
    "\n",
    "Débogage pas à pas du programme  d'alerte de température.\n",
    "Bloc1 : importation des bibliothèques pour Leds et capteurs. Les tests ont été effectués avec une alimentation basse tension et des transistors et une alimentation 5V sans transistor. Les autres capteurs de la ministation 3 capteurs ont été retirés.\n",
    "\n",
    "![montage 2leds + MCP9808](images/led+MCP.jpg)\n",
    "                        ![licence : Gérard Vidal](images/Licence.jpg)"
   ]
  },
  {
   "cell_type": "code",
   "execution_count": 34,
   "metadata": {
    "collapsed": true
   },
   "outputs": [],
   "source": [
    "import mraa, time\n",
    "import upm\n",
    "from upm import pyupm_mcp9808 as mcp"
   ]
  },
  {
   "cell_type": "markdown",
   "metadata": {},
   "source": [
    "Bloc2 : déclaration des variables statiques (bus) de mesure (mycmp) d'état (ledgreen, ledred)"
   ]
  },
  {
   "cell_type": "code",
   "execution_count": 35,
   "metadata": {
    "collapsed": true
   },
   "outputs": [],
   "source": [
    "bus = 0\n",
    "mymcp = mcp.MCP9808(bus)\n",
    "ledgreen = mraa.Gpio(38)\n",
    "ledred = mraa.Gpio(40)\n"
   ]
  },
  {
   "cell_type": "markdown",
   "metadata": {},
   "source": [
    "Bloc3 : Configuration des broches portant lesLEDs"
   ]
  },
  {
   "cell_type": "code",
   "execution_count": 36,
   "metadata": {
    "collapsed": true
   },
   "outputs": [],
   "source": [
    "statusgreen = ledgreen.dir(mraa.DIR_OUT)\n",
    "statusred = ledred.dir(mraa.DIR_OUT)\n",
    "#print ('Return status : {0:2d}\\t{1:2d}'.format(statusgreen,statusred))"
   ]
  },
  {
   "cell_type": "markdown",
   "metadata": {},
   "source": [
    "Bloc4 :  test de l'allumage des LEDs"
   ]
  },
  {
   "cell_type": "code",
   "execution_count": 37,
   "metadata": {
    "collapsed": true
   },
   "outputs": [],
   "source": [
    "# Vérification du fonctionnement des LEDS\n",
    "statusgreen = ledgreen.write(1)\n",
    "time.sleep(1)\n",
    "statusred = ledred.write(1)\n",
    "time.sleep(1)\n",
    "statusgreen = ledgreen.write(0)\n",
    "time.sleep(1)\n",
    "statusred = ledred.write(0)\n",
    "#print ('Return status : {0:2d}\\t{1:2d}'.format(statusgreen,statusred))"
   ]
  },
  {
   "cell_type": "markdown",
   "metadata": {},
   "source": [
    "Bloc5 : Programme de déclenchement du changement de couleur en fonction de la température mesurée"
   ]
  },
  {
   "cell_type": "code",
   "execution_count": 38,
   "metadata": {
    "collapsed": false
   },
   "outputs": [
    {
     "name": "stdout",
     "output_type": "stream",
     "text": [
      "Température mesurée : 24.50 °C\n",
      "24.50; 24.50; 24.50; 24.56; 24.50; 24.50; 24.50; 24.50; 24.50; 24.50; 24.44; 24.44; 24.38; 24.44; 24.38; 24.38; 24.44; 24.44; 24.38; 24.44; 24.50; 24.44; 24.44; 24.44; 24.50; 24.44; 24.44; 24.44; 24.44; 24.44; 24.69; 24.62; 24.56; 24.56; 24.62; 24.56; 24.56; 24.56; 24.50; 24.56; 24.56; 24.56; 24.56; 24.56; 24.56; 24.50; 24.56; 24.56; 24.50; 24.50; "
     ]
    }
   ],
   "source": [
    "refTempMCP = mymcp.getTemp()\n",
    "print (\"Température mesurée : {0:.2f} °C\".format(refTempMCP))\n",
    "for i in range(50)  :\n",
    "    tempMCP = mymcp.getTemp()\n",
    "    if tempMCP < refTempMCP:\n",
    "        ledgreen.write(1)\n",
    "        ledred.write(0)\n",
    "    else:\n",
    "        ledgreen.write(0)\n",
    "        ledred.write(1)\n",
    "    print ('{0:.2f};'.format(tempMCP),end=' ')\n",
    "    time.sleep(2)\n"
   ]
  },
  {
   "cell_type": "markdown",
   "metadata": {},
   "source": [
    "Bloc6 : Extinction des deux LEDs"
   ]
  },
  {
   "cell_type": "code",
   "execution_count": 39,
   "metadata": {
    "collapsed": true
   },
   "outputs": [],
   "source": [
    "statusgreen = ledgreen.write(0)\n",
    "statusred = ledred.write(0)\n",
    "#print ('Return status : {0:2d}\\t{1:2d}'.format(statusgreen,statusred))"
   ]
  },
  {
   "cell_type": "code",
   "execution_count": null,
   "metadata": {
    "collapsed": true
   },
   "outputs": [],
   "source": []
  }
 ],
 "metadata": {
  "kernelspec": {
   "display_name": "Python 3",
   "language": "python",
   "name": "python3"
  },
  "language_info": {
   "codemirror_mode": {
    "name": "ipython",
    "version": 3
   },
   "file_extension": ".py",
   "mimetype": "text/x-python",
   "name": "python",
   "nbconvert_exporter": "python",
   "pygments_lexer": "ipython3",
   "version": "3.5.3"
  }
 },
 "nbformat": 4,
 "nbformat_minor": 2
}
