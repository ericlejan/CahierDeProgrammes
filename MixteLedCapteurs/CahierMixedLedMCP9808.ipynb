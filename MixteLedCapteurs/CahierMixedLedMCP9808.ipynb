{
 "cells": [
  {
   "cell_type": "markdown",
   "metadata": {
    "deletable": true,
    "editable": true
   },
   "source": [
    "# Cahier de programme : Couplage Leds et Capteur de température.\n",
    "\n",
    "## objectif : \n",
    "\n",
    "Réaliser un programme qui donne une indication sur la température avec un changement de couleur de led."
   ]
  },
  {
   "cell_type": "code",
   "execution_count": 1,
   "metadata": {
    "collapsed": false,
    "deletable": true,
    "editable": true
   },
   "outputs": [
    {
     "ename": "NameError",
     "evalue": "name 'statusgreen' is not defined",
     "output_type": "error",
     "traceback": [
      "\u001b[0;31m---------------------------------------------------------------------------\u001b[0m",
      "\u001b[0;31mNameError\u001b[0m                                 Traceback (most recent call last)",
      "\u001b[0;32m<ipython-input-1-2cf8d01bbbe2>\u001b[0m in \u001b[0;36m<module>\u001b[0;34m()\u001b[0m\n\u001b[1;32m      9\u001b[0m \u001b[0mledred\u001b[0m \u001b[0;34m=\u001b[0m \u001b[0mmraa\u001b[0m\u001b[0;34m.\u001b[0m\u001b[0mGpio\u001b[0m\u001b[0;34m(\u001b[0m\u001b[0;36m33\u001b[0m\u001b[0;34m)\u001b[0m\u001b[0;34m\u001b[0m\u001b[0m\n\u001b[1;32m     10\u001b[0m \u001b[0;31m# Broches positionnées en sortie\u001b[0m\u001b[0;34m\u001b[0m\u001b[0;34m\u001b[0m\u001b[0m\n\u001b[0;32m---> 11\u001b[0;31m \u001b[0;32mwhile\u001b[0m \u001b[0mstatusgreen\u001b[0m \u001b[0;34m!=\u001b[0m \u001b[0;36m0\u001b[0m \u001b[0;34m:\u001b[0m\u001b[0;34m\u001b[0m\u001b[0m\n\u001b[0m\u001b[1;32m     12\u001b[0m     \u001b[0mstatusgreen\u001b[0m \u001b[0;34m=\u001b[0m \u001b[0mledgreen\u001b[0m\u001b[0;34m.\u001b[0m\u001b[0mdir\u001b[0m\u001b[0;34m(\u001b[0m\u001b[0mmraa\u001b[0m\u001b[0;34m.\u001b[0m\u001b[0mDIR_OUT\u001b[0m\u001b[0;34m)\u001b[0m\u001b[0;34m\u001b[0m\u001b[0m\n\u001b[1;32m     13\u001b[0m \u001b[0mprint\u001b[0m\u001b[0;34m(\u001b[0m\u001b[0mstatusgreen\u001b[0m\u001b[0;34m)\u001b[0m\u001b[0;34m\u001b[0m\u001b[0m\n",
      "\u001b[0;31mNameError\u001b[0m: name 'statusgreen' is not defined"
     ]
    }
   ],
   "source": [
    "#!/usr/bin/env python\n",
    "# -*- coding: utf-8 -*-\n",
    "\n",
    "import mraa, upm\n",
    "import time\n",
    "\n",
    "# LEDs pilotées par la broche 32 verte et la broche 33 rouge\n",
    "ledgreen = mraa.Gpio(32)\n",
    "ledred = mraa.Gpio(33)\n",
    "# Broches positionnées en sortie\n",
    "statusgreen = -1\n",
    "statusred =\n",
    "while statusgreen != 0 :\n",
    "    statusgreen = ledgreen.dir(mraa.DIR_OUT)\n",
    "print(statusgreen)\n",
    "while statusred != 0 :\n",
    "    statusred = ledred.dir(mraa.DIR_OUT)\n",
    "print(statusred)"
   ]
  },
  {
   "cell_type": "code",
   "execution_count": null,
   "metadata": {
    "collapsed": false,
    "deletable": true,
    "editable": true
   },
   "outputs": [
    {
     "name": "stdout",
     "output_type": "stream",
     "text": [
      "LED Verte allumée 5 secondes\n",
      "LED Rouge allumée 5 secondes\n"
     ]
    }
   ],
   "source": [
    "# Extinction des LEDs\n",
    "ledgreen.write(0)\n",
    "ledred.write(0)\n",
    "print (\"LED Verte allumée 5 secondes\")\n",
    "ledgreen.write(1)\n",
    "time.sleep(5)\n",
    "ledgreen.write(0)\n",
    "print (\"LED Rouge allumée 5 secondes\")\n",
    "ledred.write(1)\n",
    "time.sleep(5)\n",
    "print(\"LEDs éteintes\")\n",
    "ledred.write(0)"
   ]
  },
  {
   "cell_type": "markdown",
   "metadata": {
    "deletable": true,
    "editable": true
   },
   "source": [
    "# Alerte dépassement de température\n",
    "\n",
    "Ce programme vous permet d'allumer une led verte tant que la température est inférieure à 25 °C et une led rouge si la température dépasse 25 °C\n",
    "\n",
    "Repérez les déclarations liées au GPIO qui pilote vos leds rouge et verte. La nomenclature des ports du GPIO a été choisie pour correspondre à ce qui est écrit sur le T-Cobbler plus."
   ]
  },
  {
   "cell_type": "code",
   "execution_count": 6,
   "metadata": {
    "collapsed": false,
    "deletable": true,
    "editable": true
   },
   "outputs": [
    {
     "name": "stdout",
     "output_type": "stream",
     "text": [
      "Alerte rouge si la température dépasse 25 °C\n",
      "Saisissez le nombre de mesures souhaitées : 10\n",
      "Saisissez l'intervalle entre 2 mesures en secondes : 1\n"
     ]
    },
    {
     "ename": "ValueError",
     "evalue": "UPM Invalid Argument: Unknown error in I2c::readReg()",
     "output_type": "error",
     "traceback": [
      "\u001b[0;31m---------------------------------------------------------------------------\u001b[0m",
      "\u001b[0;31mValueError\u001b[0m                                Traceback (most recent call last)",
      "\u001b[0;32m<ipython-input-6-3f1382d7b88a>\u001b[0m in \u001b[0;36m<module>\u001b[0;34m()\u001b[0m\n\u001b[1;32m     15\u001b[0m \u001b[0mpause\u001b[0m\u001b[0;34m=\u001b[0m\u001b[0mint\u001b[0m\u001b[0;34m(\u001b[0m\u001b[0minput\u001b[0m\u001b[0;34m(\u001b[0m\u001b[0;34m\"Saisissez l'intervalle entre 2 mesures en secondes : \"\u001b[0m\u001b[0;34m)\u001b[0m\u001b[0;34m)\u001b[0m\u001b[0;34m\u001b[0m\u001b[0m\n\u001b[1;32m     16\u001b[0m \u001b[0;32mwhile\u001b[0m \u001b[0mcycle\u001b[0m \u001b[0;34m<\u001b[0m \u001b[0mnombremesures\u001b[0m\u001b[0;34m:\u001b[0m\u001b[0;34m\u001b[0m\u001b[0m\n\u001b[0;32m---> 17\u001b[0;31m     \u001b[0mtempMCP\u001b[0m \u001b[0;34m=\u001b[0m \u001b[0mmcp\u001b[0m\u001b[0;34m.\u001b[0m\u001b[0mgetTemp\u001b[0m\u001b[0;34m(\u001b[0m\u001b[0;34m)\u001b[0m\u001b[0;34m\u001b[0m\u001b[0m\n\u001b[0m\u001b[1;32m     18\u001b[0m     \u001b[0;32mif\u001b[0m \u001b[0mtempMCP\u001b[0m \u001b[0;34m<\u001b[0m \u001b[0;36m25\u001b[0m\u001b[0;34m:\u001b[0m\u001b[0;34m\u001b[0m\u001b[0m\n\u001b[1;32m     19\u001b[0m         \u001b[0mledgreen\u001b[0m\u001b[0;34m.\u001b[0m\u001b[0mwrite\u001b[0m\u001b[0;34m(\u001b[0m\u001b[0;36m1\u001b[0m\u001b[0;34m)\u001b[0m\u001b[0;34m\u001b[0m\u001b[0m\n",
      "\u001b[0;32m/usr/lib/python3.5/dist-packages/upm/pyupm_mcp9808.py\u001b[0m in \u001b[0;36mgetTemp\u001b[0;34m(self)\u001b[0m\n\u001b[1;32m    175\u001b[0m \u001b[0;34m\u001b[0m\u001b[0m\n\u001b[1;32m    176\u001b[0m         \"\"\"\n\u001b[0;32m--> 177\u001b[0;31m         \u001b[0;32mreturn\u001b[0m \u001b[0m_pyupm_mcp9808\u001b[0m\u001b[0;34m.\u001b[0m\u001b[0mMCP9808_getTemp\u001b[0m\u001b[0;34m(\u001b[0m\u001b[0mself\u001b[0m\u001b[0;34m)\u001b[0m\u001b[0;34m\u001b[0m\u001b[0m\n\u001b[0m\u001b[1;32m    178\u001b[0m \u001b[0;34m\u001b[0m\u001b[0m\n\u001b[1;32m    179\u001b[0m \u001b[0;34m\u001b[0m\u001b[0m\n",
      "\u001b[0;31mValueError\u001b[0m: UPM Invalid Argument: Unknown error in I2c::readReg()"
     ]
    }
   ],
   "source": [
    "#!/usr/bin/env python\n",
    "# -*- coding: utf-8 -*-\n",
    "\n",
    "print(\"Alerte rouge si la température dépasse 25 °C\")\n",
    "from upm import pyupm_mcp9808 as mcp\n",
    "mcp = mcp.MCP9808(0)\n",
    "#ledg = mraa.Gpio(32)\n",
    "#ledr = mraa.Gpio(33)\n",
    "# Broches positionnées en sortie\n",
    "#ledg.dir(mraa.DIR_OUT)\n",
    "#ledr.dir(mraa.DIR_OUT)\n",
    "#bme.update()\n",
    "nombremesures=int(input(\"Saisissez le nombre de mesures souhaitées : \"))\n",
    "cycle=0\n",
    "pause=int(input(\"Saisissez l'intervalle entre 2 mesures en secondes : \"))\n",
    "while cycle < nombremesures:\n",
    "    tempMCP = mcp.getTemp()\n",
    "    if tempMCP < 25:\n",
    "        ledgreen.write(1)\n",
    "        ledred.write(0)\n",
    "    else:\n",
    "        ledgreen.write(0)\n",
    "        ledred.write(1)\n",
    "    manufacturer=mcp.getManufacturer()\n",
    "    hysteresis=mcp.getHysteresis()\n",
    "    print (\"{0:.2f} °C\".format(tempMCP),\" ; \",end='')\n",
    "    time.sleep(pause)\n",
    "    cycle=cycle+1\n",
    "\n",
    "#print(manufacturer,\" ; \",end='')\n",
    "#print(hysteresis,\" ; \",end='')\n",
    "ledgreen.write(0)\n",
    "ledred.write(0)"
   ]
  },
  {
   "cell_type": "markdown",
   "metadata": {
    "deletable": true,
    "editable": true
   },
   "source": [
    "# Un premier test sur mcp9808\n",
    "\n",
    "On importe les librairies nécessaires puis on décide de choisir le nombre de mesure à effectuer et le délai entre deux mesures."
   ]
  },
  {
   "cell_type": "code",
   "execution_count": 7,
   "metadata": {
    "collapsed": false,
    "deletable": true,
    "editable": true
   },
   "outputs": [
    {
     "name": "stdout",
     "output_type": "stream",
     "text": [
      "Saisissez le nombre de mesures souhaitées : 10\n",
      "Saisissez l'intervalle entre 2 mesures en secondes : 1\n",
      "Température en °C\n"
     ]
    },
    {
     "ename": "ValueError",
     "evalue": "UPM Invalid Argument: Unknown error in I2c::readReg()",
     "output_type": "error",
     "traceback": [
      "\u001b[0;31m---------------------------------------------------------------------------\u001b[0m",
      "\u001b[0;31mValueError\u001b[0m                                Traceback (most recent call last)",
      "\u001b[0;32m<ipython-input-7-0d96958a49c1>\u001b[0m in \u001b[0;36m<module>\u001b[0;34m()\u001b[0m\n\u001b[1;32m      9\u001b[0m \u001b[0mprint\u001b[0m\u001b[0;34m(\u001b[0m\u001b[0;34m\"Température en °C\"\u001b[0m\u001b[0;34m)\u001b[0m\u001b[0;34m\u001b[0m\u001b[0m\n\u001b[1;32m     10\u001b[0m \u001b[0;32mwhile\u001b[0m \u001b[0mcycle\u001b[0m \u001b[0;34m<\u001b[0m \u001b[0mnombremesures\u001b[0m\u001b[0;34m:\u001b[0m\u001b[0;34m\u001b[0m\u001b[0m\n\u001b[0;32m---> 11\u001b[0;31m     \u001b[0mtempMCP\u001b[0m \u001b[0;34m=\u001b[0m \u001b[0mmcp\u001b[0m\u001b[0;34m.\u001b[0m\u001b[0mgetTemp\u001b[0m\u001b[0;34m(\u001b[0m\u001b[0;34m)\u001b[0m\u001b[0;34m\u001b[0m\u001b[0m\n\u001b[0m\u001b[1;32m     12\u001b[0m     \u001b[0mmanufacturer\u001b[0m\u001b[0;34m=\u001b[0m\u001b[0mmcp\u001b[0m\u001b[0;34m.\u001b[0m\u001b[0mgetManufacturer\u001b[0m\u001b[0;34m(\u001b[0m\u001b[0;34m)\u001b[0m\u001b[0;34m\u001b[0m\u001b[0m\n\u001b[1;32m     13\u001b[0m     \u001b[0mhysteresis\u001b[0m\u001b[0;34m=\u001b[0m\u001b[0mmcp\u001b[0m\u001b[0;34m.\u001b[0m\u001b[0mgetHysteresis\u001b[0m\u001b[0;34m(\u001b[0m\u001b[0;34m)\u001b[0m\u001b[0;34m\u001b[0m\u001b[0m\n",
      "\u001b[0;32m/usr/lib/python3.5/dist-packages/upm/pyupm_mcp9808.py\u001b[0m in \u001b[0;36mgetTemp\u001b[0;34m(self)\u001b[0m\n\u001b[1;32m    175\u001b[0m \u001b[0;34m\u001b[0m\u001b[0m\n\u001b[1;32m    176\u001b[0m         \"\"\"\n\u001b[0;32m--> 177\u001b[0;31m         \u001b[0;32mreturn\u001b[0m \u001b[0m_pyupm_mcp9808\u001b[0m\u001b[0;34m.\u001b[0m\u001b[0mMCP9808_getTemp\u001b[0m\u001b[0;34m(\u001b[0m\u001b[0mself\u001b[0m\u001b[0;34m)\u001b[0m\u001b[0;34m\u001b[0m\u001b[0m\n\u001b[0m\u001b[1;32m    178\u001b[0m \u001b[0;34m\u001b[0m\u001b[0m\n\u001b[1;32m    179\u001b[0m \u001b[0;34m\u001b[0m\u001b[0m\n",
      "\u001b[0;31mValueError\u001b[0m: UPM Invalid Argument: Unknown error in I2c::readReg()"
     ]
    }
   ],
   "source": [
    "#import mraa, upm\n",
    "#import time\n",
    "from upm import pyupm_mcp9808 as mcp\n",
    "mcp = mcp.MCP9808(0)\n",
    "#bme.update()\n",
    "nombremesures=int(input(\"Saisissez le nombre de mesures souhaitées : \"))\n",
    "cycle=0\n",
    "pause=int(input(\"Saisissez l'intervalle entre 2 mesures en secondes : \"))\n",
    "print(\"Température en °C\")\n",
    "while cycle < nombremesures:\n",
    "    tempMCP = mcp.getTemp()\n",
    "    manufacturer=mcp.getManufacturer()\n",
    "    hysteresis=mcp.getHysteresis()\n",
    "    print (\"{0:.2f} °C\".format(tempMCP),\" ; \")\n",
    "    time.sleep(pause)\n",
    "    cycle=cycle+1\n",
    "print(\"manufacturer = \",manufacturer,\" ; \",end='')\n",
    "print(\"hysteresis = \",hysteresis,\" ; \",end='')"
   ]
  },
  {
   "cell_type": "markdown",
   "metadata": {
    "deletable": true,
    "editable": true
   },
   "source": []
  }
 ],
 "metadata": {
  "kernelspec": {
   "display_name": "Python 3",
   "language": "python",
   "name": "python3"
  }
 },
 "nbformat": 4,
 "nbformat_minor": 2
}
