{
 "cells": [
  {
   "cell_type": "markdown",
   "metadata": {
    "deletable": true,
    "editable": true
   },
   "source": [
    "# Test Raspi GPio et I2C  Image ENS-Lyon Ife n-1\n",
    "\n",
    "\n",
    "L'image utilisée a été modifiée pour permettre l'utilisation du GPIO. La prochaine mise à jour de l'image intégrera ce réglage.\n",
    "L'image utilisée nécessite le lancement de jupyterhub en tant que root, ce mde de lancement sera inutile dans la prochaine mise à jour de l'image.\n",
    "\n",
    "Le cahier présente des situations variées pour explorer le fonctionnement des LED simples et RGB à Anode commune, ainsi que le moyen de récupérer la température du capteur mcp9808.\n",
    "\n",
    "L'appropriation de ces situations est proposée en couplant l'allumage des LEDs au franchissement d'un ou de plusieurs seuils de température.\n",
    "\n",
    "Un prologement pourrait être l'utilisatio d'un capteur d'humidité et l'affichage chromatique des palliers d'humidité relative.\n",
    "\n",
    "Le bredboard utilisé se présente comme sur l'illustration ci-dessous\n",
    "\n",
    "![BredBoard avec l'ensemble des outils mis en place](images/BredBoardTestTempLeds.jpg)\n",
    "                                \n",
    "![licence](images/Licence.jpg)\n",
    "    "
   ]
  },
  {
   "cell_type": "markdown",
   "metadata": {
    "deletable": true,
    "editable": true
   },
   "source": [
    "# Un premier test sur mcp9808\n",
    "\n",
    "On importe les librairies nécessaires puis on décide de choisir le nombre de mesure à effectuer et le délai entre deux mesures."
   ]
  },
  {
   "cell_type": "code",
   "execution_count": 1,
   "metadata": {
    "collapsed": true,
    "deletable": true,
    "editable": true
   },
   "outputs": [],
   "source": [
    "import mraa, upm\n",
    "import time\n",
    "from upm import pyupm_mcp9808 as mcp\n",
    "mcp = mcp.MCP9808(0)\n"
   ]
  },
  {
   "cell_type": "code",
   "execution_count": 2,
   "metadata": {
    "collapsed": false,
    "deletable": true,
    "editable": true
   },
   "outputs": [
    {
     "name": "stdout",
     "output_type": "stream",
     "text": [
      "24.62 °C  ;\n"
     ]
    }
   ],
   "source": [
    "tempMCP = mcp.getTemp()\n",
    "print (\"{0:.2f} °C\".format(tempMCP),\" ;\")"
   ]
  },
  {
   "cell_type": "code",
   "execution_count": 3,
   "metadata": {
    "collapsed": false,
    "deletable": true,
    "editable": true,
    "scrolled": true
   },
   "outputs": [
    {
     "name": "stdout",
     "output_type": "stream",
     "text": [
      "Saisissez le nombre de mesures souhaitées : 10\n",
      "Saisissez l'intervalle entre 2 mesures en secondes : 1\n",
      "24.62 °C  ;\n",
      "24.62 °C  ;\n",
      "24.62 °C  ;\n",
      "24.62 °C  ;\n",
      "24.62 °C  ;\n",
      "24.62 °C  ;\n",
      "24.62 °C  ;\n",
      "24.62 °C  ;\n",
      "24.62 °C  ;\n",
      "24.56 °C  ;\n",
      "Code fabricant : 84 ; Hysteresis 0.00 ;\n"
     ]
    }
   ],
   "source": [
    "nombremesures=int(input(\"Saisissez le nombre de mesures souhaitées : \"))\n",
    "cycle=0\n",
    "pause=int(input(\"Saisissez l'intervalle entre 2 mesures en secondes : \"))\n",
    "while cycle < nombremesures:\n",
    "    tempMCP = mcp.getTemp()\n",
    "    manufacturer=mcp.getManufacturer()\n",
    "    hysteresis=mcp.getHysteresis()\n",
    "    print (\"{0:.2f} °C\".format(tempMCP),\" ;\")\n",
    "    time.sleep(pause)\n",
    "    cycle=cycle+1\n",
    "print('Code fabricant : {0:d} ; Hysteresis {1:.2f} ;'.format(manufacturer,hysteresis))"
   ]
  },
  {
   "cell_type": "markdown",
   "metadata": {
    "deletable": true,
    "editable": true
   },
   "source": [
    "# Le capteur mcp9808 et la récupération de la Température.\n",
    "\n",
    "Ce programme plus élaboré est issu du Cahier de Programmes conçu par Gérard Vidal dans le cadre du PIA \"Météorologie et climat : Tremplin pour l'enseignement des sciences\".\n",
    "Il présente une utilisation des fonctions de Python."
   ]
  },
  {
   "cell_type": "code",
   "execution_count": 14,
   "metadata": {
    "collapsed": true,
    "deletable": true,
    "editable": true
   },
   "outputs": [],
   "source": [
    "#!/usr/bin/env python\n",
    "# -*- coding: utf-8 -*-\n",
    "\n",
    "# Imports from mraa and upm libraries\n",
    "#------------------------------------\n",
    "import mraa, upm\n",
    "import time, math\n",
    "import _thread\n",
    "\n",
    "from upm import pyupm_mcp9808\n",
    "\n",
    "# Constant declarations\n",
    "#----------------------\n",
    "# i2c bus 0 on RaspBerry Pi \n",
    "bus1 = 0\n",
    "mcpAddr = 0x60\n",
    "UPPER_TEMP = 0x02\n",
    "LOWER_TEMP = 0x03\n",
    "CRIT_TEMP = 0x04\n",
    "\n",
    "\n",
    "# create sensors on the bus 1\n",
    "mcp = pyupm_mcp9808.MCP9808(bus1)\n",
    "#mcp = pyupm_mcp9808.MCP9808(bus1, mcpAddr)\n"
   ]
  },
  {
   "cell_type": "code",
   "execution_count": 15,
   "metadata": {
    "collapsed": true,
    "deletable": true,
    "editable": true
   },
   "outputs": [],
   "source": [
    "#Functions\n",
    "#---------\n",
    "# MCP9808\n",
    "#********\n",
    "def get_mcpSensor():\n",
    "\tunity = mcp.isCelsius()\n",
    "\tupper = mcp.getMonitorReg (UPPER_TEMP)\n",
    "\tlower = mcp.getMonitorReg (LOWER_TEMP)\n",
    "\tcritic = mcp.getMonitorReg (CRIT_TEMP)\n",
    "\thyst = mcp.getHysteresis ()\n",
    "\tresol = mcp.getResolution ()\n",
    "\tidManuf = mcp.getManufacturer ()\n",
    "\tmcpId = mcp.getDevicedId ()\n",
    "\tif unity :\n",
    "\t\tprint ('We are measuring in Celsius')\n",
    "\telse :\n",
    "\t\tprint ('We are measuring in Fahrenheit')\n",
    "\tprint ('\\tLower T° : %.3f\\n'%lower + '\\tUpperT° : %.3f\\n'%upper + '\\tCritical T° : %.3f\\n'%critic)\n",
    "\tprint ('Hysteresis value : %.3f'%hyst)\n",
    "\tprint ('Resolution : %.4f'%resol)\n",
    "\tprint ('Manufacturer Id : %d'%idManuf)\n",
    "\tprint ('Device Id : %d\\n'%mcpId)\n",
    "\treturn\n",
    "\t\n",
    "def mes_mcpTemp():\n",
    "\tmcpTemp = mcp.getTemp ()\n",
    "\treturn (mcpTemp)\n",
    "\n",
    "#Activate or test some sensors\n",
    "#---------------------\n",
    "#mcp.shutDown(False)"
   ]
  },
  {
   "cell_type": "code",
   "execution_count": 16,
   "metadata": {
    "collapsed": false,
    "deletable": true,
    "editable": true,
    "scrolled": true
   },
   "outputs": [
    {
     "name": "stdout",
     "output_type": "stream",
     "text": [
      "Instructions :  \t\"start\" pour démarrer les mesures \"check\" pour la maintenance \"exit\" pour sortir.\n",
      "--> start\n",
      "Instructions :  \t\"stop\" pour arrêter les mesures.\n",
      "\n",
      "Temp(MCP) : \n",
      "24.4375 °C\t\n",
      "24.5000 °C\t\n",
      "stop\n",
      "Arrêt demandé.\n"
     ]
    }
   ],
   "source": [
    "# Main function\n",
    "###############\t\n",
    "def input_thread(CheckInput):\n",
    "\tcheck = input()\n",
    "\tCheckInput.append(check)\n",
    "\treturn\n",
    "\t\n",
    "def init_Thread () :\n",
    "\tCheckInput = []\n",
    "\t_thread.start_new_thread(input_thread, (CheckInput,))\n",
    "\tprint ('Instructions :  \\t\"stop\" pour arrêter les mesures.\\n')\n",
    "\treturn (CheckInput)\n",
    "\t   \n",
    "def measureMeteoParams():\n",
    "\tnbmes = 0\n",
    "\twhile True :\n",
    "\t\toption1 = input('Instructions :  \\t\"start\" pour démarrer les mesures \"check\" pour la maintenance \"exit\" pour sortir.\\n--> ')\n",
    "\t\tif option1 == 'exit' :\n",
    "\t\t\tbreak\n",
    "\t\telif option1 == 'start' :\n",
    "\t\t\tbreak\n",
    "\t\telif option1 == 'check' :\n",
    "\t\t\toption2 = 'ready'\n",
    "\t\t\twhile option2.strip != exit :\n",
    "\t\t\t\toption2 = input('Taper \"info\" pour avoir des informations, \"changer\" pour modifier les paramètres des capteurs, \"exit\" pour sortir.\\n---> ')\n",
    "\t\t\t\tif option2 == 'exit':\n",
    "\t\t\t\t\tbreak\n",
    "\t\t\t\telif option2 == 'info':\n",
    "\t\t\t\t\toption3 = 4\n",
    "\t\t\t\t\twhile option3 != 0 :\n",
    "\t\t\t\t\t\toption3 = input('Informations sur les capteurs : MCP9808 (1) exit (0)\\n----> ')\n",
    "\t\t\t\t\t\tif option3 == '0' :\n",
    "\t\t\t\t\t\t\tbreak\n",
    "\t\t\t\t\t\telif option3 == '1' :\n",
    "\t\t\t\t\t\t\tget_mcpSensor()\n",
    "\t\t\t\t\t\telse :\n",
    "\t\t\t\t\t\t\tprint ('Code inconnu : %s'%option3)\n",
    "\t\t\t\telif option2 == 'changer' :\n",
    "\t\t\t\t\toption3 = 3\n",
    "\t\t\t\t\twhile option3 != 0 :\n",
    "\t\t\t\t\t\toption3 = input('Changement des paramètres des capteurs :\\n\\tMCP9808-precision (1)\\n\\tMCP9808-hysteresis (2)\\n\\t sortir (0)\\n----> ')\n",
    "\t\t\t\t\t\tif option3 == '0' :\n",
    "\t\t\t\t\t\t\tbreak\n",
    "\t\t\t\t\t\telif option3 == '1' :\n",
    "\t\t\t\t\t\t\tval = input(\"precision value (LOW MED HI MAX) : \")\n",
    "\t\t\t\t\t\t\tif val == 'LOW' :\n",
    "\t\t\t\t\t\t\t\tmcp.setResolution (0x00)\n",
    "\t\t\t\t\t\t\telif val == 'MED' :\n",
    "\t\t\t\t\t\t\t\tmcp.setResolution (0x01)\n",
    "\t\t\t\t\t\t\telif val == 'HI' :\n",
    "\t\t\t\t\t\t\t\tmcp.setResolution (0x02)\n",
    "\t\t\t\t\t\t\telif val == 'MAX' :\n",
    "\t\t\t\t\t\t\t\tmcp.setResolution (0x03)\n",
    "\t\t\t\t\t\t\telse :\n",
    "\t\t\t\t\t\t\t\tprint ('Commande inconnue : \"%s\"\\n'%val)\n",
    "\t\t\t\t\t\telif option3 == '2' :\n",
    "\t\t\t\t\t\t\tval = input(\"Hysteresis value  (HYST_0 HYST_1_5 HYST_3_0 HYST_6_0) : \")\n",
    "\t\t\t\t\t\t\tif val == 'HYST_0' :\n",
    "\t\t\t\t\t\t\t\tmcp.setHysteresis (0x0000)\n",
    "\t\t\t\t\t\t\telif val == 'HYST_1_5' :\n",
    "\t\t\t\t\t\t\t\tmcp.setHysteresis (0x0002)\n",
    "\t\t\t\t\t\t\telif val == 'HYST_3_0' :\n",
    "\t\t\t\t\t\t\t\tmcp.setHysteresis (0x0004)\n",
    "\t\t\t\t\t\t\telif val == 'HYST_6_0' :\n",
    "\t\t\t\t\t\t\t\tmcp.setHysteresis (0x0006)\n",
    "\t\t\t\t\t\t\telse :\n",
    "\t\t\t\t\t\t\t\tprint ('Commande inconnue : \"%s\"\\n'%val)\n",
    "\t\t\t\t\t\telse :\n",
    "\t\t\t\t\t\t\tprint ('Code inconnu : \"%s\"\\n'%option3)\n",
    "\t\t\t\telse :\n",
    "\t\t\t\t\tprint ('Commande inconnue : \"%s\"\\n'%option2)\n",
    "\t\telse :\n",
    "\t\t\tprint ('Commande inconnue : \"%s\"\\n'%option1)\n",
    "# Main loop\n",
    "\tif option1.strip() == 'start' :\n",
    "\t\tCheckInput = init_Thread()\n",
    "\t\twhile True :\n",
    "\t\t\tif CheckInput == ['stop']: \n",
    "\t\t\t\tprint ('Arrêt demandé.')\n",
    "\t\t\t\tbreak\n",
    "\t\t\telif CheckInput != [] :\n",
    "\t\t\t\tprint ('Commande inconnue : \"%s\"\\n'%CheckInput)\n",
    "\t\t\t\tthread.start_new_thread(input_thread, (CheckInput,))\n",
    "\t\t\t\tdel CheckInput[:]\n",
    "\t\t\telse :\n",
    "\t\t\t\ttime.sleep (0.5)\n",
    "\t\t\ttempHR = mcp.getTemp()\n",
    "\t\t\tif nbmes == 0 :\n",
    "\t\t\t\tprint ('Temp(MCP) : ') \n",
    "\t\t\t\tnbmes += 1\n",
    "\t\t\telif nbmes == 9 :\n",
    "\t\t\t\tnbmes = 0\n",
    "\t\t\telse :\n",
    "\t\t\t\tnbmes += 1\n",
    "\t\t\tprint ('%.4f °C\\t' %tempHR)\n",
    "\t\t\t\n",
    "\t\t\ttime.sleep (5)\n",
    "\telse :\n",
    "\t\tprint ('Bye...')\n",
    "\treturn\n",
    "\n",
    "measureMeteoParams()"
   ]
  },
  {
   "cell_type": "markdown",
   "metadata": {
    "deletable": true,
    "editable": true
   },
   "source": [
    "# Allumage de deux leds \n",
    "\n",
    "Ce programme vous permet de comprendre comment on définit les états de ports GPIO pour qu'ils puissent allumer une led pendant un temps donné."
   ]
  },
  {
   "cell_type": "code",
   "execution_count": 7,
   "metadata": {
    "collapsed": false,
    "deletable": true,
    "editable": true
   },
   "outputs": [
    {
     "data": {
      "text/plain": [
       "7"
      ]
     },
     "execution_count": 7,
     "metadata": {},
     "output_type": "execute_result"
    }
   ],
   "source": [
    "import mraa, time\n",
    "\n",
    "# LEDs pilotées par la broche 32 verte et la broche 33 rouge\n",
    "ledgreen = mraa.Gpio(38)\n",
    "ledred = mraa.Gpio(40)\n",
    "# Broches positionnées en sortie\n",
    "ledgreen.dir(mraa.DIR_OUT)\n",
    "ledred.dir(mraa.DIR_OUT)"
   ]
  },
  {
   "cell_type": "code",
   "execution_count": 5,
   "metadata": {
    "collapsed": false,
    "deletable": true,
    "editable": true
   },
   "outputs": [
    {
     "name": "stdout",
     "output_type": "stream",
     "text": [
      "LED Verte allumée 5 secondes\n",
      "LED Rouge allumée 5 secondes\n",
      "LEDs éteintes\n"
     ]
    },
    {
     "data": {
      "text/plain": [
       "99"
      ]
     },
     "execution_count": 5,
     "metadata": {},
     "output_type": "execute_result"
    }
   ],
   "source": [
    "# Extinction des LEDs\n",
    "ledgreen.write(0)\n",
    "ledred.write(0)\n",
    "print (\"LED Verte allumée 5 secondes\")\n",
    "ledgreen.write(1)\n",
    "time.sleep(5)\n",
    "ledgreen.write(0)\n",
    "print (\"LED Rouge allumée 5 secondes\")\n",
    "ledred.write(1)\n",
    "time.sleep(5)\n",
    "print(\"LEDs éteintes\")\n",
    "ledred.write(0)"
   ]
  },
  {
   "cell_type": "markdown",
   "metadata": {
    "deletable": true,
    "editable": true
   },
   "source": [
    "# Alerte dépassement de température\n",
    "\n",
    "Ce programme vous permet d'allumer une led verte tant que la température est inférieure à 25 °C et une led rouge si la température dépasse 25 °C\n",
    "\n",
    "Repérez les déclarations liées au GPIO qui pilote vos leds rouge et verte. La nomenclature des ports du GPIO a été choisie pour correspondre à ce qui est écrit sur le T-Cobbler plus."
   ]
  },
  {
   "cell_type": "code",
   "execution_count": 16,
   "metadata": {
    "collapsed": false,
    "deletable": true,
    "editable": true,
    "scrolled": true
   },
   "outputs": [
    {
     "name": "stdout",
     "output_type": "stream",
     "text": [
      "Alerte rouge si la température dépasse 25 °C\n",
      "Saisissez le nombre de mesures souhaitées : 100\n",
      "Saisissez l'intervalle entre 2 mesures en secondes : 1\n",
      "24.31 °C  ; 24.38 °C  ; 24.31 °C  ; 24.31 °C  ; 24.31 °C  ; 24.31 °C  ; 24.31 °C  ; 24.44 °C  ; 24.50 °C  ; 24.50 °C  ; 24.44 °C  ; 24.56 °C  ; 24.50 °C  ; 24.50 °C  ; 24.50 °C  ; 24.56 °C  ; 24.56 °C  ; 24.50 °C  ; 24.56 °C  ; 24.50 °C  ; 24.50 °C  ; 24.56 °C  ; 24.50 °C  ; 24.50 °C  ; 24.50 °C  ; 24.50 °C  ; 24.50 °C  ; 24.50 °C  ; 24.50 °C  ; 24.50 °C  ; 24.50 °C  ; "
     ]
    },
    {
     "ename": "KeyboardInterrupt",
     "evalue": "",
     "output_type": "error",
     "traceback": [
      "\u001b[0;31m---------------------------------------------------------------------------\u001b[0m",
      "\u001b[0;31mKeyboardInterrupt\u001b[0m                         Traceback (most recent call last)",
      "\u001b[0;32m<ipython-input-16-b8d44d546170>\u001b[0m in \u001b[0;36m<module>\u001b[0;34m()\u001b[0m\n\u001b[1;32m     28\u001b[0m     \u001b[0mhysteresis\u001b[0m\u001b[0;34m=\u001b[0m\u001b[0mmcp\u001b[0m\u001b[0;34m.\u001b[0m\u001b[0mgetHysteresis\u001b[0m\u001b[0;34m(\u001b[0m\u001b[0;34m)\u001b[0m\u001b[0;34m\u001b[0m\u001b[0m\n\u001b[1;32m     29\u001b[0m     \u001b[0mprint\u001b[0m \u001b[0;34m(\u001b[0m\u001b[0;34m\"{0:.2f} °C\"\u001b[0m\u001b[0;34m.\u001b[0m\u001b[0mformat\u001b[0m\u001b[0;34m(\u001b[0m\u001b[0mtempMCP\u001b[0m\u001b[0;34m)\u001b[0m\u001b[0;34m,\u001b[0m\u001b[0;34m\" ; \"\u001b[0m\u001b[0;34m,\u001b[0m\u001b[0mend\u001b[0m\u001b[0;34m=\u001b[0m\u001b[0;34m''\u001b[0m\u001b[0;34m)\u001b[0m\u001b[0;34m\u001b[0m\u001b[0m\n\u001b[0;32m---> 30\u001b[0;31m     \u001b[0mtime\u001b[0m\u001b[0;34m.\u001b[0m\u001b[0msleep\u001b[0m\u001b[0;34m(\u001b[0m\u001b[0mpause\u001b[0m\u001b[0;34m)\u001b[0m\u001b[0;34m\u001b[0m\u001b[0m\n\u001b[0m\u001b[1;32m     31\u001b[0m     \u001b[0mcycle\u001b[0m\u001b[0;34m=\u001b[0m\u001b[0mcycle\u001b[0m\u001b[0;34m+\u001b[0m\u001b[0;36m1\u001b[0m\u001b[0;34m\u001b[0m\u001b[0m\n\u001b[1;32m     32\u001b[0m \u001b[0;34m\u001b[0m\u001b[0m\n",
      "\u001b[0;31mKeyboardInterrupt\u001b[0m: "
     ]
    }
   ],
   "source": [
    "#!/usr/bin/env python\n",
    "# -*- coding: utf-8 -*-\n",
    "\n",
    "import time\n",
    "import mraa, upm\n",
    "print(\"Alerte rouge si la température dépasse 25 °C\")\n",
    "from upm import pyupm_mcp9808 as mcp\n",
    "mcp = mcp.MCP9808(0)\n",
    "# LEDs pilotées par la broche 32 verte et la broche 33 rouge\n",
    "ledg = mraa.Gpio(32)\n",
    "ledr = mraa.Gpio(33)\n",
    "# Broches positionnées en sortie\n",
    "ledg.dir(mraa.DIR_OUT)\n",
    "ledr.dir(mraa.DIR_OUT)\n",
    "#bme.update()\n",
    "nombremesures=int(input(\"Saisissez le nombre de mesures souhaitées : \"))\n",
    "cycle=0\n",
    "pause=int(input(\"Saisissez l'intervalle entre 2 mesures en secondes : \"))\n",
    "while cycle < nombremesures:\n",
    "    tempMCP = mcp.getTemp()\n",
    "    if tempMCP < 25:\n",
    "        ledg.write(1)\n",
    "        ledr.write(0)\n",
    "    else:\n",
    "        ledg.write(0)\n",
    "        ledr.write(1)\n",
    "    manufacturer=mcp.getManufacturer()\n",
    "    hysteresis=mcp.getHysteresis()\n",
    "    print (\"{0:.2f} °C\".format(tempMCP),\" ; \",end='')\n",
    "    time.sleep(pause)\n",
    "    cycle=cycle+1\n",
    "\n",
    "#print(manufacturer,\" ; \",end='')\n",
    "#print(hysteresis,\" ; \",end='')\n",
    "ledg.write(0)\n",
    "ledr.write(0)"
   ]
  },
  {
   "cell_type": "markdown",
   "metadata": {
    "deletable": true,
    "editable": true
   },
   "source": [
    "# La LED RGB anode commune : Une tension nulle quand le GPIO est à HIGH\n",
    "\n",
    "Pour travailler avec une seule led pour indiquer l'alerte on peut utiliser une LED RVB cela enrichira aussi les possibilités d'illustration des valeurs de température.\n",
    "\n",
    "Voyons d'abord le programme qui démontre que le GPIO à LOW allume les LEDs Verte puis Rouge"
   ]
  },
  {
   "cell_type": "code",
   "execution_count": 4,
   "metadata": {
    "collapsed": false,
    "deletable": true,
    "editable": true,
    "scrolled": true
   },
   "outputs": [
    {
     "name": "stdout",
     "output_type": "stream",
     "text": [
      "Led Verte et Rouge de la RGB éteintes 2 secondes\n",
      "Led Verte de la RGB allumée 5 secondes\n",
      "Led Rouge de la RGB allumée 5 secondes\n",
      "Led Verte et Rouge de la RGB éteintes\n"
     ]
    }
   ],
   "source": [
    "#!/usr/bin/env python\n",
    "# -*- coding: utf-8 -*-\n",
    "\n",
    "import mraa, time\n",
    "ledg = mraa.Gpio(20)\n",
    "ledr = mraa.Gpio(21)\n",
    "ledb = mraa.Gpio(22)\n",
    "# Broches positionnées en sortie\n",
    "ledg.dir(mraa.DIR_OUT)\n",
    "ledr.dir(mraa.DIR_OUT)\n",
    "ledr.dir(mraa.DIR_OUT)\n",
    "print(\"Led Verte et Rouge de la RGB éteintes 2 secondes\")\n",
    "ledg.write(1)\n",
    "ledr.write(1)\n",
    "time.sleep(2)\n",
    "print(\"Led Verte de la RGB allumée 5 secondes\")\n",
    "ledg.write(0)\n",
    "time.sleep(5)\n",
    "print(\"Led Rouge de la RGB allumée 5 secondes\")\n",
    "ledr.write(0)\n",
    "ledg.write(1)\n",
    "time.sleep(5)\n",
    "print(\"Led Verte et Rouge de la RGB éteintes\")\n",
    "ledr.write(1)"
   ]
  },
  {
   "cell_type": "markdown",
   "metadata": {
    "deletable": true,
    "editable": true
   },
   "source": [
    "# Alerte dépassement de température\n",
    "\n",
    "Cette fois le programme doit vous permettre d'allumer la led verte de la Led RVB  tant que la température est inférieure à 25 °C et la led rouge si la température dépasse 25 °C"
   ]
  },
  {
   "cell_type": "code",
   "execution_count": 5,
   "metadata": {
    "collapsed": false,
    "deletable": true,
    "editable": true,
    "scrolled": false
   },
   "outputs": [
    {
     "name": "stdout",
     "output_type": "stream",
     "text": [
      "Alerte rouge si la température dépasse 25 °C\n",
      "Saisissez le nombre de mesures souhaitées : 16\n",
      "Saisissez l'intervalle entre 2 mesures en secondes : 1.5\n",
      "19.94 °C  ; 19.94 °C  ; 20.38 °C  ; 25.12 °C  ; 25.94 °C  ; 24.19 °C  ; 22.69 °C  ; 22.06 °C  ; 21.75 °C  ; 21.50 °C  ; 21.38 °C  ; 21.31 °C  ; 21.12 °C  ; 21.06 °C  ; 21.00 °C  ; 20.94 °C  ; "
     ]
    }
   ],
   "source": [
    "#!/usr/bin/env python\n",
    "# -*- coding: utf-8 -*-\n",
    "\n",
    "import RPi.GPIO as GPIO\n",
    "import time\n",
    "import mraa, upm\n",
    "print(\"Alerte rouge si la température dépasse 25 °C\")\n",
    "from upm import pyupm_mcp9808 as mcp\n",
    "mcp = mcp.MCP9808(0)\n",
    "GPIO.setmode(GPIO.BCM)\n",
    "GPIO.setwarnings(False)\n",
    "GPIO.setup(20,GPIO.OUT)\n",
    "GPIO.setup(21,GPIO.OUT)\n",
    "# mise à l'extinction des deux leds\n",
    "GPIO.output(21,GPIO.HIGH)\n",
    "GPIO.output(20,GPIO.HIGH)\n",
    "#bme.update()\n",
    "nombremesures=int(input(\"Saisissez le nombre de mesures souhaitées : \"))\n",
    "cycle=0\n",
    "pause=float(input(\"Saisissez l'intervalle entre 2 mesures en secondes : \"))\n",
    "while cycle < nombremesures:\n",
    "    tempMCP = mcp.getTemp()\n",
    "    if tempMCP < 25:\n",
    "        GPIO.output(20,GPIO.LOW)\n",
    "        GPIO.output(21,GPIO.HIGH)\n",
    "    else:\n",
    "        GPIO.output(21,GPIO.LOW)\n",
    "        GPIO.output(20,GPIO.HIGH)\n",
    "    manufacturer=mcp.getManufacturer()\n",
    "    hysteresis=mcp.getHysteresis()\n",
    "    print (\"{0:.2f} °C\".format(tempMCP),\" ; \",end='')\n",
    "    time.sleep(pause)\n",
    "    cycle=cycle+1\n",
    "\n",
    "#print(manufacturer,\" ; \",end='')\n",
    "#print(hysteresis,\" ; \",end='')\n",
    "GPIO.output(21,GPIO.HIGH)\n",
    "GPIO.output(20,GPIO.HIGH)"
   ]
  },
  {
   "cell_type": "markdown",
   "metadata": {
    "deletable": true,
    "editable": true
   },
   "source": [
    "# La gestion des couleurs avec la led RGB\n",
    "\n",
    "Pour pouvoir créer un indicateur de température à 3 états on peut utiliser la led RGB et coder par exemple \n",
    "\n",
    "- Vert pour T ≤ 22 °C\n",
    "- Orange pour 22 °C < T ≤ 25 °C\n",
    "- Rouge pour 25 °C < T"
   ]
  },
  {
   "cell_type": "code",
   "execution_count": 8,
   "metadata": {
    "collapsed": false,
    "deletable": true,
    "editable": true
   },
   "outputs": [
    {
     "name": "stdout",
     "output_type": "stream",
     "text": [
      "Orange : La température est entre 22 °C et 25 °C\n",
      "Rouge : La température est supérieure ou égale à 25 °C\n",
      "Vert : La température est inférieure ou égale à 22 °C\n"
     ]
    }
   ],
   "source": [
    "import RPi.GPIO as gpio, time\n",
    "gpio.setmode(gpio.BCM)  # choisir BCM ou BOARD pour identifier les broches. Ici BOARD\n",
    "gpio.setwarnings(False)\n",
    "\n",
    "gpio.setup(24, gpio.OUT)# GPIO 22 broche 15 output  \n",
    "gpio.setup(20, gpio.OUT)# GPIO 23 broche 16 output \n",
    "gpio.setup(21, gpio.OUT)# GPIO 24 broche 18 output \n",
    "\n",
    "\n",
    "pb = gpio.PWM(24, 50)    # led bleue crée un objet pg  PWM sur le port GPIO22 à 50 Hertz  T=20ms \n",
    "pg = gpio.PWM(21, 50)    # led verte crée un objet pb  PWM sur le port GPIO23 à 50 Hertz  T=20ms \n",
    "pr = gpio.PWM(20, 50)    # led rouge crée un objet pr  PWM sur le port GPIO24 à 50 Hertz  T=20ms \n",
    "\n",
    "loadr = 0\n",
    "loadg = 30\n",
    "loadb = 100\n",
    "print(\"Orange : La température est entre 22 °C et 25 °C\")\n",
    "pr.start(loadr)             # allumage à load % (load% duty cycle) \n",
    "pg.start(loadg)             # allumage à load % (load% duty cycle)   \n",
    "pb.start(loadb)             # allumage à load % (load% duty cycle)   \n",
    "\n",
    "time.sleep(5)\n",
    "\n",
    "loadr = 0\n",
    "loadg = 100\n",
    "loadb = 100\n",
    "print(\"Rouge : La température est supérieure ou égale à 25 °C\")\n",
    "pr.start(loadr)             # allumage à load % (load% duty cycle) \n",
    "pg.start(loadg)             # allumage à load % (load% duty cycle)   \n",
    "pb.start(loadb)             # allumage à load % (load% duty cycle)   \n",
    "\n",
    "time.sleep(5)\n",
    "\n",
    "loadr = 100\n",
    "loadg = 0\n",
    "loadb = 100\n",
    "print(\"Vert : La température est inférieure ou égale à 22 °C\")\n",
    "pr.start(loadr)             # allumage à load % (load% duty cycle) \n",
    "pg.start(loadg)             # allumage à load % (load% duty cycle)   \n",
    "pb.start(loadb)             # allumage à load % (load% duty cycle) \n",
    "\n",
    "time.sleep(5)\n",
    "\n",
    "load = 100 \n",
    "\n",
    "pr.start(load)             # allumage à load % (load% duty cycle) \n",
    "pg.start(load)             # allumage à load % (load% duty cycle)   \n",
    "pb.start(load)             # allumage à load % (load% duty cycle)  \n",
    "\n",
    "gpio.cleanup()"
   ]
  },
  {
   "cell_type": "markdown",
   "metadata": {
    "deletable": true,
    "editable": true
   },
   "source": [
    "# Un indicateur de température ambiante \n",
    "\n",
    "On utilise le capteur mpc9808 pour lire la température au voisinnage du capteur, on réutilise les données du programme de gamme de couleur pour le coupler à une condition de valeur de la température.\n"
   ]
  },
  {
   "cell_type": "code",
   "execution_count": 9,
   "metadata": {
    "collapsed": false,
    "deletable": true,
    "editable": true,
    "scrolled": true
   },
   "outputs": [
    {
     "name": "stdout",
     "output_type": "stream",
     "text": [
      "Température ambiante : Repère de confort thermique\n",
      "Saisissez le nombre de mesures souhaitées : 25\n",
      "Saisissez l'intervalle entre 2 mesures en secondes : 2\n",
      "20.00 °C  ; 20.00 °C  ; 20.00 °C  ; 23.81 °C  ; 25.44 °C  ; 25.94 °C  ; 26.25 °C  ; 26.44 °C  ; 26.56 °C  ; 26.56 °C  ; 24.25 °C  ; 23.38 °C  ; 22.94 °C  ; 22.62 °C  ; 22.44 °C  ; 22.25 °C  ; 22.12 °C  ; 22.06 °C  ; 21.94 °C  ; 21.88 °C  ; 21.75 °C  ; 21.62 °C  ; 21.56 °C  ; 21.50 °C  ; 21.38 °C  ; "
     ]
    }
   ],
   "source": [
    "#!/usr/bin/env python\n",
    "# -*- coding: utf-8 -*-\n",
    "\n",
    "# On importe l'ensemble des libraries utiles dans le programme\n",
    "import RPi.GPIO as GPIO\n",
    "import time\n",
    "import mraa, upm\n",
    "print(\"Température ambiante : Repère de confort thermique\")\n",
    "# On renomme la librairie pyupm_mcp9808 pour faciliter l'écriture du programme\n",
    "from upm import pyupm_mcp9808 as mcp\n",
    "# on déclare le port I2C au Numéro 0\n",
    "mcp = mcp.MCP9808(0)\n",
    "# on défini le mode de codage du GPIO \n",
    "GPIO.setmode(GPIO.BCM)\n",
    "GPIO.setwarnings(False)\n",
    "GPIO.setup(24, GPIO.OUT)# GPIO 24 broche 24 output  \n",
    "GPIO.setup(20, GPIO.OUT)# GPIO 20 broche 20 output \n",
    "GPIO.setup(21, GPIO.OUT)# GPIO 21 broche 21 output\n",
    "# Création des objets R G B de la led\n",
    "pb = GPIO.PWM(24, 50)    # led bleue crée un objet pg  PWM sur le port GPIO24 à 50 Hertz  T=20ms \n",
    "pg = GPIO.PWM(21, 50)    # led verte crée un objet pb  PWM sur le port GPIO21 à 50 Hertz  T=20ms \n",
    "pr = GPIO.PWM(20, 50)    # led rouge crée un objet pr  PWM sur le port GPIO20 à 50 Hertz  T=20ms \n",
    "# Mise à 0 de la led RGB anode commune\n",
    "load=100\n",
    "pr.start(load)             # extinction à load % (load% duty cycle) \n",
    "pg.start(load)             # extinction à load % (load% duty cycle)   \n",
    "pb.start(load)             # extinction à load % (load% duty cycle)  \n",
    "loadr=load\n",
    "loadg=load\n",
    "loadb=load\n",
    "\n",
    "nombremesures=int(input(\"Saisissez le nombre de mesures souhaitées : \"))\n",
    "cycle=0\n",
    "pause=float(input(\"Saisissez l'intervalle entre 2 mesures en secondes : \"))\n",
    "\n",
    "while cycle < nombremesures:\n",
    "    tempMCP = mcp.getTemp()\n",
    "    if tempMCP < 22:\n",
    "        loadr = 100\n",
    "        loadg = 0\n",
    "        loadb = 100\n",
    "        pr.start(loadr)             # allumage à load % (load% duty cycle) \n",
    "        pg.start(loadg)             # allumage à load % (load% duty cycle)   \n",
    "        pb.start(loadb)             # allumage à load % (load% duty cycle) \n",
    "    elif tempMCP >= 25:\n",
    "        loadr = 0\n",
    "        loadg = 100\n",
    "        loadb = 100\n",
    "        pr.start(loadr)             # allumage à load % (load% duty cycle) \n",
    "        pg.start(loadg)             # allumage à load % (load% duty cycle)   \n",
    "        pb.start(loadb)             # allumage à load % (load% duty cycle) \n",
    "    else:\n",
    "        loadr = 0\n",
    "        loadg = 30\n",
    "        loadb = 100\n",
    "        pr.start(loadr)             # allumage à load % (load% duty cycle) \n",
    "        pg.start(loadg)             # allumage à load % (load% duty cycle)   \n",
    "        pb.start(loadb)             # allumage à load % (load% duty cycle)   \n",
    "\n",
    "    manufacturer=mcp.getManufacturer()\n",
    "    hysteresis=mcp.getHysteresis()\n",
    "    print (\"{0:.2f} °C\".format(tempMCP),\" ; \",end='')\n",
    "    time.sleep(pause)\n",
    "    cycle=cycle+1\n",
    "load=100\n",
    "pr.start(load)             # extinction à load % (load% duty cycle) \n",
    "pg.start(load)             # extinction à load % (load% duty cycle)   \n",
    "pb.start(load)             # extinction à load % (load% duty cycle)  \n",
    "\n",
    "GPIO.cleanup()"
   ]
  },
  {
   "cell_type": "code",
   "execution_count": null,
   "metadata": {
    "collapsed": true,
    "deletable": true,
    "editable": true
   },
   "outputs": [],
   "source": []
  }
 ],
 "metadata": {
  "kernelspec": {
   "display_name": "Python 3",
   "language": "python",
   "name": "python3"
  },
  "language_info": {
   "codemirror_mode": {
    "name": "ipython",
    "version": 3
   },
   "file_extension": ".py",
   "mimetype": "text/x-python",
   "name": "python",
   "nbconvert_exporter": "python",
   "pygments_lexer": "ipython3",
   "version": "3.5.3"
  }
 },
 "nbformat": 4,
 "nbformat_minor": 2
}
