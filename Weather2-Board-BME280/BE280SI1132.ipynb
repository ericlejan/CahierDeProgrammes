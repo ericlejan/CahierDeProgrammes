{
 "cells": [
  {
   "cell_type": "markdown",
   "metadata": {},
   "source": [
    "# Test interface nodeJS pour le weatherboard\n",
    "/*\n",
    " * Author: Jon Trulson <jtrulson@ics.com>\n",
    " * Copyright (c) 2016 Intel Corporation.\n",
    " *\n",
    " * Permission is hereby granted, free of charge, to any person obtaining\n",
    " * a copy of this software and associated documentation files (the\n",
    " * \"Software\"), to deal in the Software without restriction, including\n",
    " * without limitation the rights to use, copy, modify, merge, publish,\n",
    " * distribute, sublicense, and/or sell copies of the Software, and to\n",
    " * permit persons to whom the Software is furnished to do so, subject to\n",
    " * the following conditions:\n",
    " *\n",
    " * The above copyright notice and this permission notice shall be\n",
    " * included in all copies or substantial portions of the Software.\n",
    " *\n",
    " * THE SOFTWARE IS PROVIDED \"AS IS\", WITHOUT WARRANTY OF ANY KIND,\n",
    " * EXPRESS OR IMPLIED, INCLUDING BUT NOT LIMITED TO THE WARRANTIES OF\n",
    " * MERCHANTABILITY, FITNESS FOR A PARTICULAR PURPOSE AND\n",
    " * NONINFRINGEMENT. IN NO EVENT SHALL THE AUTHORS OR COPYRIGHT HOLDERS BE\n",
    " * LIABLE FOR ANY CLAIM, DAMAGES OR OTHER LIABILITY, WHETHER IN AN ACTION\n",
    " * OF CONTRACT, TORT OR OTHERWISE, ARISING FROM, OUT OF OR IN CONNECTION\n",
    " * WITH THE SOFTWARE OR THE USE OR OTHER DEALINGS IN THE SOFTWARE.\n",
    " */"
   ]
  },
  {
   "cell_type": "code",
   "execution_count": 1,
   "metadata": {},
   "outputs": [
    {
     "ename": "Javascript Error",
     "evalue": "Cannot find module 'jsupm_bmp280'",
     "output_type": "error",
     "traceback": [
      "Error: Cannot find module 'jsupm_bmp280'\n    at Function.Module._resolveFilename (module.js:470:15)\n    at Function.Module._load (module.js:418:25)\n    at Module.require (module.js:498:17)\n    at require (internal/module.js:20:19)\n    at /home/vidal/Logiciels/Jupyter/jupyter-nodejs/build/context.js:78:16\n    at require (/home/vidal/Logiciels/Jupyter/jupyter-nodejs/build/context.js:58:27)\n    at evalmachine.<anonymous>:1:17\n    at ContextifyScript.Script.runInContext (vm.js:32:29)\n    at Object.runInContext (vm.js:87:6)\n    at Context.rawRun (/home/vidal/Logiciels/Jupyter/jupyter-nodejs/build/context.js:184:30)"
     ]
    }
   ],
   "source": [
    "var sensorObj = require('jsupm_bmp280');"
   ]
  },
  {
   "cell_type": "code",
   "execution_count": null,
   "metadata": {
    "collapsed": true
   },
   "outputs": [],
   "source": [
    "var sensorObj = require('jsupm_bmp280');\n",
    "\n",
    "// Instantiate a BMP280 instance using default i2c bus and address\n",
    "var sensor = new sensorObj.BMP280();\n",
    "\n",
    "// For SPI, bus 0, you would pass -1 as the address, and a valid pin for CS:\n",
    "// BMP280(0, -1, 10);\n",
    "\n",
    "setInterval(function()\n",
    "{\n",
    "    // update our values from the sensor\n",
    "    sensor.update();\n",
    "\n",
    "    console.log(\"Compensation Temperature: \"\n",
    "                + sensor.getTemperature()\n",
    "                + \" C / \"\n",
    "                + sensor.getTemperature(true)\n",
    "                + \" F\");\n",
    "\n",
    "    console.log(\"Pressure: \"\n",
    "                + sensor.getPressure()\n",
    "                + \" Pa\");\n",
    "\n",
    "    console.log(\"Computed Altitude: \"\n",
    "                + sensor.getAltitude()\n",
    "                + \" m\");\n",
    "\n",
    "    console.log();\n",
    "\n",
    "}, 1000);\n",
    "\n",
    "// exit on ^C\n",
    "process.on('SIGINT', function()\n",
    "{\n",
    "    sensor = null;\n",
    "    sensorObj.cleanUp();\n",
    "    sensorObj = null;\n",
    "    console.log(\"Exiting.\");\n",
    "    process.exit(0);\n",
    "});\n"
   ]
  },
  {
   "cell_type": "code",
   "execution_count": null,
   "metadata": {
    "collapsed": true
   },
   "outputs": [],
   "source": []
  }
 ],
 "metadata": {
  "kernelspec": {
   "display_name": "NodeJS",
   "language": "javascript",
   "name": "nodejs"
  },
  "language_info": {
   "codemirror_mode": "javascript",
   "file_extension": ".js",
   "mimetype": "text/javascript",
   "name": "nodejs",
   "pygments_lexer": "javascript",
   "version": "0.10"
  }
 },
 "nbformat": 4,
 "nbformat_minor": 2
}
