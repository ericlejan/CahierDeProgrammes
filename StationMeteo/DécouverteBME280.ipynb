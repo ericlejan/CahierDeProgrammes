{
 "cells": [
  {
   "cell_type": "markdown",
   "metadata": {},
   "source": [
    "# Mesurer avec un capteur Press-Hygro-Temp : Adafruit BME280#\n",
    "\n",
    "Activité réalisée avec un capteur Adafruit BME280, une raspberry Pi3 fonctionnant avec une image Debian Stretch fournie par l'IFÉ ENS de Lyon, disposant des librairies INTEL mraa et upm.\n",
    "\n",
    "Sur le site de Adafruit https://learn.adafruit.com/adafruit-bme280-humidity-barometric-pressure-temperature-sensor-breakout/pinouts on lit que 4 broches doivent être connectées au raspberryPi lorsqu'on travaille avec le bus I2C contient de nombreux capteurs cela devient possible.\n",
    "* Vin - C'est la broche d'alimentation : elle peut-être relié à 3,3V ou 5V (Nous le relierons au 3,3V dans cet exercice). \n",
    "* GND - broche à relier à une broche ground du RasberryPi\n",
    "* SCK - c'est la broche d'horloge du bus I2C à relier à la broche 5 (SCL)\n",
    "* SDI - c'est la broche de données du bus I2C à relier à la broche 3 (SDA)\n",
    "\n",
    "<span style='color:red'>ATTENTION : il ne faut pas brancher la broche Vin du capteur directement au 5V du RaspberryPi car le transfert des données se ferait aussi en 5V ce qui risquerait d'endommager le GPIO, par contre lorsque le bus `i2c` . </span> Nous verrons dans un autre exercice qu'il faut utiliser, pour les capteurs necessitant du 5V et ne fonctionnant pas en 3.3V, un [levelshifter (convertisseur de tension)](https://www.adafruit.com/product/757)\n",
    "\n",
    "![Capteur BME280 branché sur le bus I2C d'un RaspberryPi](images/RaspberryPi_BME280L.jpg)\n",
    "\n",
    "![Capteur BME280 branché sur le bus I2C d'un RaspberryPi](images/RaspberryPi_BME280Detail.jpg)\n",
    "\n",
    "\n",
    "## Mesurer puis écrire la température en 6 lignes ##\n",
    "\n",
    "Chaque ligne de texte ci-dessous est traduite dans le bloc suivant en une instruction dans un langage interprétable par la machine, à chaque alinéa correspond une instruction, la somme des instructions constitue un programme.\n",
    "\n",
    " * Demander l'utilisation des outils nécessaires, il sagit de deux bibliothèques de programmes de base qui permettent d'interagir et de piloter les capteurs que nous avons choisis. Le nom de ces bibliothèques est mraa et upm\n",
    " * parmi tous les pilotes disponibles nous devons utiliser le pilote pyupm_bmp280 (py pour python, upm nom de la librairie, _ séparateur, bme280 nom du capteur)\n",
    " * Déclarer le nom du capteur qu'on va utiliser (bme)\n",
    " * Mettre à jour le capteur (on utilise la commande préprogrammée dans le pilote \"update\")\n",
    " * Mesurer la température (on utilise la fonction préprogrammée dans le pilote \"getTemperature()\" on appelle la température tempBME)\n",
    " * Imprimer la température"
   ]
  },
  {
   "cell_type": "code",
   "execution_count": 1,
   "metadata": {},
   "outputs": [
    {
     "name": "stdout",
     "output_type": "stream",
     "text": [
      "20.56 °C\n"
     ]
    }
   ],
   "source": [
    "import mraa, upm\n",
    "from upm import pyupm_bmp280 as bmp\n",
    "bme = bmp.BME280(0,0x77)\n",
    "bme.update()\n",
    "tempBME = bme.getTemperature()\n",
    "print (\"{0:.2f} °C\".format(tempBME))"
   ]
  },
  {
   "cell_type": "markdown",
   "metadata": {},
   "source": [
    "## Afficher la température mesurée sur  l'afficheur\n",
    "Le bloc de code suivant permet d'afficher la température mesurée  par le capteur BME280 sur l'afficheur vu précédemment"
   ]
  },
  {
   "cell_type": "code",
   "execution_count": 2,
   "metadata": {},
   "outputs": [],
   "source": [
    "import mraa, time\n",
    "from upm import pyupm_bmp280 as bmp\n",
    "from upm import pyupm_jhd1313m1 as jdm\n",
    "lcdAddress = 0x3E\n",
    "rgbAddress = 0x62\n",
    "\n",
    "bus1 = 0\n",
    "bmeAddr = 0x77\n",
    "bme = bmp.BME280(bus1,bmeAddr)\n",
    "lcd = jdm.Jhd1313m1(bus1,lcdAddress,rgbAddress)\n",
    "bme.update()\n",
    "tempBME = bme.getTemperature()\n",
    "lcd.setCursor(1, 0)\n",
    "status = lcd.write(\"Temp : {0:.2f} C\".format(tempBME))\n",
    "time.sleep(10)\n",
    "status = lcd.clear()\n",
    "status = lcd.backlightOff()"
   ]
  },
  {
   "cell_type": "markdown",
   "metadata": {},
   "source": [
    "### Exercice \n",
    "Améliorer l'affichage de la température (couleur défilement...)"
   ]
  },
  {
   "cell_type": "code",
   "execution_count": null,
   "metadata": {},
   "outputs": [],
   "source": []
  },
  {
   "cell_type": "markdown",
   "metadata": {},
   "source": [
    "## Afficher plusieurs mesures sur l'afficheur\n",
    "\n",
    "Le bloc de code ci-dessous illustre les 3 mesures que  peut réaliser le capteur BME280,  les mesures sont affichées sur l'afficheur et le caractère spécial degré et ajouté."
   ]
  },
  {
   "cell_type": "code",
   "execution_count": 3,
   "metadata": {},
   "outputs": [
    {
     "name": "stdout",
     "output_type": "stream",
     "text": [
      "Humidité : \tTempérature : \tPression :\n",
      "35.07 %\t\t20.56 °C\t1008.75 hPa\n"
     ]
    }
   ],
   "source": [
    "import mraa, time\n",
    "from upm import pyupm_bmp280 as bmp\n",
    "from upm import pyupm_jhd1313m1 as jdm\n",
    "\n",
    "lcdAddress = 0x3E\n",
    "rgbAddress = 0x62\n",
    "bus1 = 0\n",
    "bmeAddr = 0x77\n",
    "\n",
    "degree = (\n",
    "    0b01100,\n",
    "    0b10010,\n",
    "    0b01100,\n",
    "    0b00000,\n",
    "    0b00000,\n",
    "    0b00000,\n",
    "    0b00000,\n",
    "    0b00000)\n",
    "\n",
    "lcd.createChar(0,degree)\n",
    "\n",
    "\n",
    "bme =bmp.BME280(bus1,bmeAddr)\n",
    "lcd = jdm.Jhd1313m1(bus1,lcdAddress,rgbAddress)\n",
    "\n",
    "bme.update()\n",
    "tempBME = bme.getTemperature()\n",
    "pressBME = bme.getPressure() / 100.0\n",
    "hygroBME = bme.getHumidity()\n",
    "\n",
    "print ('Humidité : \\tTempérature : \\tPression :')\n",
    "print (\"{0:.2f} %\\t\\t{1:.2f} °C\\t{2:.2f} hPa\".format(hygroBME,tempBME,pressBME))\n",
    "\n",
    "status = lcd.backlightOff()\n",
    "status = lcd.clear()\n",
    "lcd.setColor(128,32,0)\n",
    "lcd.setCursor(1, 0)\n",
    "status = lcd.backlightOn()\n",
    "status = lcd.write(\"Temp : {0:.2f} \".format(tempBME))\n",
    "status = lcd.write(chr(0))\n",
    "status = lcd.write(\"C Hum : {0:.2f} %\".format(hygroBME))\n",
    "lcd.setCursor(2, 0)\n",
    "status = lcd.write(\"Press : {0:6.2f} hPa\".format(pressBME))\n",
    "for i in range(0,68,1) :\n",
    "    lcd.scroll(True)\n",
    "    time.sleep(0.5)\n",
    "time.sleep(1)\n",
    "status = lcd.clear()\n",
    "status = lcd.backlightOff()"
   ]
  },
  {
   "cell_type": "markdown",
   "metadata": {},
   "source": [
    "### Exercice\n",
    "Afficher toutes les mesures effectuées par le capteur BME280"
   ]
  },
  {
   "cell_type": "code",
   "execution_count": null,
   "metadata": {},
   "outputs": [],
   "source": []
  },
  {
   "cell_type": "markdown",
   "metadata": {},
   "source": [
    "# Transposer l'affichage des codes ci-dessous sur l'afficheur"
   ]
  },
  {
   "cell_type": "markdown",
   "metadata": {},
   "source": [
    "## Ajouter une fonction pour calculer la pression au niveau de la mer ##\n",
    "\n",
    "La pression atmosphérique en un lieu dépend de son altitude. Pour pouvoir faire de la météorologie ou simplement comparer des mesures faites en différents endroits il faut partager une référence commune et le niveau de la mer est une solution simple et efficace. On convertit donc  notre mesure locale à la valeur qu'elle aurait  si nous étions au niveau de la mer. Il nous faut donc connaître notre altitude et importer des outils mathématiques. pour cela on ajoute la constante localAlt au programme et on importe la bibliothèque d'outils mathématiques de python.\n",
    "Il est probable que nous ayons à réutiliser ce calcul  dans d'autres programmes et il serait malin de pouvoir réutiliser simplement les lignes de code que nous allons écrire. Plutôt que les noyer dans le programme nous allons _définir une fonction_ qui prendra un _paramètre_ (la pression mesurée m_Pressure) et qui nous _retournera_ la valeur à laquelle cette mesure correspond au niveau de la mer (sl_Pressure pour sea-level pressure). Le paramètre est une variable tout comme la valeur retournée.\n",
    "La fonction est appelée ici convertSeaLevel() elle prend comme paramètre la variable mesurée par le capteur pressBME et fournit la variable décrivant  la pression au niveau de la mer seaLevelPress. On voit que les variables _locales_ utilisées par la fonction (m_Pressure, sl_Pressure) n'ont pas forcément le même nom que les variables _globales_ du programme principal (pressBME, seaLevelPress), cela permet de manipuler des noms de variables signifiants et cohérents avec leur contexte. Vous noterez que pouur souligner cette différence le nom des variables _locales à la fonction_ utilisent un système de séparation des mots (des \"\\_\") différent de celui du programme principal ( le CamelCase)."
   ]
  },
  {
   "cell_type": "code",
   "execution_count": 5,
   "metadata": {},
   "outputs": [
    {
     "name": "stdout",
     "output_type": "stream",
     "text": [
      "Humidité : \tTempérature : \tPression : \tPression(mer) : \n",
      "31.29 %\t\t32.55 °C\t996.78 hPa\t1015.48 hPa\n"
     ]
    }
   ],
   "source": [
    "import mraa, upm, math\n",
    "from upm import pyupm_bmp280 as bmp\n",
    "bus1 = 0\n",
    "bme = bmp.BME280(bus1)\n",
    "localAlt = 156.5\n",
    "# Calcul de la pression au niveau de la mer\n",
    "def convertSeaLevel (m_Pressure):\n",
    "\tsl_Pressure = m_Pressure / math.pow(1.0 - localAlt/44330, 5.255)\n",
    "\treturn sl_Pressure\n",
    "# fin du calcul\n",
    "bme.update()\n",
    "tempBME = bme.getTemperature()\n",
    "pressBME = bme.getPressure() / 100.0\n",
    "hygroBME = bme.getHumidity()\n",
    "seaLevelPress = convertSeaLevel (pressBME)\n",
    "print ('Humidité : \\tTempérature : \\tPression : \\tPression(mer) : ')\n",
    "print (\"{0:.2f} %\\t\\t{1:.2f} °C\\t{2:.2f} hPa\\t{3:.2f} hPa\".format(hygroBME,tempBME,pressBME,seaLevelPress))"
   ]
  },
  {
   "cell_type": "markdown",
   "metadata": {},
   "source": [
    "## Faire une mesure toutes les 5 secondes ##\n",
    "\n",
    "Lorsque l'on dispose d'un capteur et d'une alimentation suffisante il est bien sûr extrêmement intéressant de faire des mesures **en continu**. En fait on ne peut pas réellement mesurer de façon continue, on effectue des mesures les unes à la suite des autres en ménageant un temps (qui peut êetre très court) entre deux mesures pour transmettre le résultat et permettre au capteur d'être prêt pour la mesure suivante. La valeur du temps de pause est ici de 5 secondes valeur fournie à la fonction sleep (dors pendant....) de la librairie des programmes de gestion du temps (qui est incluse au début du programme).\n",
    "Nous avons vu précédemment comment faire **une** mesure, nous venons de voir comment _ne rien faire_ pendant un temps donné, il nous faut donc enchaîner Mesure->Repos->Mesure->Repos-> c'est ce que l'on appelle une _boucle_. Pour le moment nous ne nous préoccupons pas de savoir comment arrêter les mesures et nous nous lançons dans une _boucle sans fin_; pour cela nous utilisons un _mot réservé_ : \"True\" (qui veut dire vrai) et nous utilisons l'instruction  \"Tant que c'est vrai mesure puis attends 5s et recommence\" comme nous déclarons que c'est vrai et que nous ne touchons pas cette valeur cela reste toujours vrai et on recommence toujours la série \"mesure puis attends 5s\". La _condition_ ayant pour valeur _\"Tant que\"_ que nous avons utilisée se traduit par _while_ et tout ce qui suit les \":\" et est décalé de 4 caractères est répété à l'infini dans l'ordre des lignes."
   ]
  },
  {
   "cell_type": "code",
   "execution_count": null,
   "metadata": {},
   "outputs": [
    {
     "name": "stdout",
     "output_type": "stream",
     "text": [
      "Humidité : \tTempérature : \tPression : \tPression(mer) : \n",
      "36.67 %\t\t21.69 °C\t990.49 hPa\t1009.07 hPa\n",
      "36.53 %\t\t21.68 °C\t990.47 hPa\t1009.05 hPa\n",
      "36.57 %\t\t21.68 °C\t990.49 hPa\t1009.07 hPa\n",
      "36.41 %\t\t21.68 °C\t990.47 hPa\t1009.05 hPa\n",
      "36.58 %\t\t21.68 °C\t990.47 hPa\t1009.05 hPa\n",
      "36.59 %\t\t21.69 °C\t990.47 hPa\t1009.05 hPa\n"
     ]
    }
   ],
   "source": [
    "import mraa, upm, math, time\n",
    "from upm import pyupm_bmp280 as bmp\n",
    "bus1 = 0\n",
    "pauseVal = 5\n",
    "bme = bmp.BME280(bus1)\n",
    "localAlt = 156.5\n",
    "# Calcul de la pression au niveau de la mer\n",
    "def convertSeaLevel (m_Pressure):\n",
    "\tsl_Pressure = m_Pressure / math.pow(1.0 - localAlt/44330, 5.255)\n",
    "\treturn sl_Pressure\n",
    "# fin du calcul\n",
    "print ('Humidité : \\tTempérature : \\tPression : \\tPression(mer) : ')\n",
    "while True :\n",
    "    bme.update()\n",
    "    tempBME = bme.getTemperature()\n",
    "    pressBME = bme.getPressure() / 100.0\n",
    "    hygroBME = bme.getHumidity()\n",
    "    seaLevelPress = convertSeaLevel (pressBME)\n",
    "    print (\"{0:.2f} %\\t\\t{1:.2f} °C\\t{2:.2f} hPa\\t{3:.2f} hPa\".format(hygroBME,tempBME,pressBME,seaLevelPress))\n",
    "    time.sleep (pauseVal)"
   ]
  },
  {
   "cell_type": "code",
   "execution_count": null,
   "metadata": {
    "collapsed": true
   },
   "outputs": [],
   "source": []
  }
 ],
 "metadata": {
  "kernelspec": {
   "display_name": "Python 3",
   "language": "python",
   "name": "python3"
  },
  "language_info": {
   "codemirror_mode": {
    "name": "ipython",
    "version": 3
   },
   "file_extension": ".py",
   "mimetype": "text/x-python",
   "name": "python",
   "nbconvert_exporter": "python",
   "pygments_lexer": "ipython3",
   "version": "3.6.3"
  }
 },
 "nbformat": 4,
 "nbformat_minor": 1
}
