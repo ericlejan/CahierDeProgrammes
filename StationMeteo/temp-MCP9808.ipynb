{
 "cells": [
  {
   "cell_type": "markdown",
   "metadata": {},
   "source": [
    "# Découverte  du capteur MCP9808\n",
    "\n",
    "Ce cahier permet de découvrir le capteurMCP9808 qui est un capteur température de précision :\n",
    "\n",
    "\n",
    "Figure du montage :\n",
    "![Licence Charles-Henri Eyraud](images/Licence.jpg)\n",
    "\n",
    "Photo du Montage :\n",
    "![Licence Charles-Henri Eyraud](images/Licence.jpg)\n",
    "\n",
    "\n",
    "## **Bloc1** : déclaration des bibliothèques de programmes et des pilotes de capteurs\n",
    "\n",
    "La première ligne permet d'importer puis d'utiliser les bibliothèques de programmes qui sont utilisés pour interagir avec le capteur. MRAA fournit les programmes de bas niveau alors que UPM fournit les pilotes des capteurs. La seconde ligne  permet d'importer et de renommer la partie de la librairie dédiée au capteur MCP9808 en langage python"
   ]
  },
  {
   "cell_type": "code",
   "execution_count": 1,
   "metadata": {},
   "outputs": [],
   "source": [
    "import _thread, mraa, upm, time\n",
    "\n",
    "from upm import pyupm_mcp9808 as mcp"
   ]
  },
  {
   "cell_type": "markdown",
   "metadata": {},
   "source": [
    "## **Bloc2** : déclaration des constantes statiques\n",
    " * adresses du bus et des capteurs utilisés; \n",
    " * adresses de l'altitude du lieu \n",
    " * paramètres de contrôle du capteur de précision \n",
    "\n",
    "Pour plus de précisions voir [site de description du pilote](https://iotdk.intel.com/docs/master/upm/classupm_1_1_m_c_p9808.html)."
   ]
  },
  {
   "cell_type": "code",
   "execution_count": 2,
   "metadata": {},
   "outputs": [],
   "source": [
    "# Constant declarations\n",
    "#----------------------\n",
    "# i2c bus 1 on RaspBerry Pi\n",
    "bus1 = 0\n",
    "mcpAddr = 0x18\n",
    "\n",
    "localAlt = 169 #Altitude de Lyon\n",
    "UPPER_TEMP = 0x02\n",
    "LOWER_TEMP = 0x03\n",
    "CRIT_TEMP = 0x04\n"
   ]
  },
  {
   "cell_type": "markdown",
   "metadata": {},
   "source": [
    "## **Bloc3** : Déclaration du capteur utilisé et choix de son nom : temp."
   ]
  },
  {
   "cell_type": "code",
   "execution_count": 3,
   "metadata": {},
   "outputs": [],
   "source": [
    "# create sensor on the bus 1\n",
    "temp = mcp.MCP9808(bus1,mcpAddr)"
   ]
  },
  {
   "cell_type": "markdown",
   "metadata": {},
   "source": [
    "## **Bloc4** : Acquisition et impression d'une mesure de température"
   ]
  },
  {
   "cell_type": "code",
   "execution_count": 4,
   "metadata": {},
   "outputs": [
    {
     "name": "stdout",
     "output_type": "stream",
     "text": [
      "Temp(MCP) : 26.6875 °C\n"
     ]
    }
   ],
   "source": [
    "tempHR = temp.getTemp ()\n",
    "print ('Temp(MCP) : {0:.4f} °C'.format(tempHR))"
   ]
  },
  {
   "cell_type": "markdown",
   "metadata": {},
   "source": [
    "## **Bloc5** : Déclaration des fonctions \n",
    "\n",
    "Lorsqu'on souhaite raliser des séries de mesures pour simplifier le code on utilise des fonctions.\n",
    "\n",
    "Une fonction est un groupe de commandes  utilisées à plusieurs reprises et écrites une seule fois. On les utilise aussi pour structurer ou organiser la programmation."
   ]
  },
  {
   "cell_type": "code",
   "execution_count": 11,
   "metadata": {},
   "outputs": [],
   "source": [
    "# Sensor Functions\n",
    "#---------\n",
    "\n",
    "# MCP9808\n",
    "#********\n",
    "def get_mcpSensor(thisSensor):\n",
    "    unity = thisSensor.isCelsius()\n",
    "    upper = thisSensor.getMonitorReg (UPPER_TEMP)\n",
    "    lower = thisSensor.getMonitorReg (LOWER_TEMP)\n",
    "    critic = thisSensor.getMonitorReg (CRIT_TEMP)\n",
    "    hyst = thisSensor.getHysteresis ()\n",
    "    resol = thisSensor.getResolution ()\n",
    "    idManuf = thisSensor.getManufacturer ()\n",
    "    mcpId = thisSensor.getDevicedId ()\n",
    "    if unity :\n",
    "        print ('We are measuring in Celsius')\n",
    "    else :\n",
    "        print ('We are measuring in Fahrenheit')\n",
    "    print ('\\tLower T° : %.3f\\n'%lower + '\\tUpperT° : %.3f\\n'%upper + '\\tCritical T° : %.3f\\n'%critic)\n",
    "    print ('Hysteresis value : %.3f'%hyst)\n",
    "    print ('Resolution : %.4f'%resol)\n",
    "    print ('Manufacturer Id : %d'%idManuf)\n",
    "    print ('Device Id : %d\\n'%mcpId)\n",
    "    return\n",
    "\n",
    "def mes_mcpTemp(thisSensor):\n",
    "    mcpTemp = thisSensor.getTemp ()\n",
    "    return (mcpTemp)\n",
    "\n",
    "def input_thread(CheckInput):\n",
    "    check = input()\n",
    "    CheckInput.append(check)\n",
    "    return\n",
    "\n",
    "def init_Thread () :\n",
    "    CheckInput = []\n",
    "    _thread.start_new_thread(input_thread, (CheckInput,))\n",
    "    print ('Instructions :  \\t\"stop\" pour arrêter les mesures.\\n')\n",
    "    print ('\\t\\t\"resetBME\" pour redémarrer le capteur BME280')\n",
    "    return (CheckInput)\n",
    "#Activate or test some sensors\n",
    "#---------------------\n",
    "#mcp.shutDown(False)\n"
   ]
  },
  {
   "cell_type": "code",
   "execution_count": 22,
   "metadata": {},
   "outputs": [
    {
     "data": {
      "text/plain": [
       "26.875"
      ]
     },
     "execution_count": 22,
     "metadata": {},
     "output_type": "execute_result"
    }
   ],
   "source": [
    "mes_mcpTemp(temp)"
   ]
  },
  {
   "cell_type": "markdown",
   "metadata": {},
   "source": [
    "## **Bloc6** : Fonction principale comprenant un bloc de dialogue pour recevoir des commandes en ligne"
   ]
  },
  {
   "cell_type": "code",
   "execution_count": 18,
   "metadata": {
    "scrolled": true
   },
   "outputs": [
    {
     "name": "stdout",
     "output_type": "stream",
     "text": [
      "Instructions :  \t\"start\" pour démarrer les mesures \"check\" pour la maintenance \"exit\" pour sortir.\n",
      "--> start\n",
      "Instructions :  \t\"stop\" pour arrêter les mesures.\n",
      "\n",
      "\t\t\"resetBME\" pour redémarrer le capteur BME280\n",
      "Temp(MCP) : \n",
      "26.6250 °C\n",
      "t\n",
      "Commande inconnue : \"['t']\" \n",
      "Reprise des mesures\n",
      "\n",
      "Temp(MCP) : \n",
      "26.6250 °C\n",
      "stop\n",
      "Arrêt demandé.\n"
     ]
    }
   ],
   "source": [
    "# Main function\n",
    "###############\n",
    "def measureMeteoParams():\n",
    "    nbmes = 0\n",
    "    while True :\n",
    "        option1 = input('Instructions :  \\t\"start\" pour démarrer les mesures \"check\" pour la maintenance \"exit\" pour sortir.\\n--> ')\n",
    "        if option1 == 'exit' :\n",
    "            break\n",
    "        elif option1 == 'start' :\n",
    "            break\n",
    "        elif option1 == 'check' :\n",
    "            option2 = 'ready'\n",
    "            while option2.strip != exit :\n",
    "                option2 = input('Taper \"info\" pour avoir des informations, \"changer\" pour modifier les paramètres des capteurs, \"exit\" pour sortir.\\n---> ')\n",
    "                if option2 == 'exit':\n",
    "                    break\n",
    "                elif option2 == 'info':\n",
    "                    option3 = 4\n",
    "                    while option3 != 0 :\n",
    "                        option3 = input('Informations sur les capteurs : MCP9808 (1) exit (0)\\n----> ')\n",
    "                        if option3 == '0' :\n",
    "                            break\n",
    "                        elif option3 == '1' :\n",
    "                            get_mcpSensor(temp)\n",
    "                        else :\n",
    "                            print ('Code inconnu : %s'%option3)\n",
    "                elif option2 == 'changer' :\n",
    "                    option3 = 3\n",
    "                    while option3 != 0 :\n",
    "                        option3 = input('Changement des paramètres des capteurs :\\n\\tMCP9808-precision (1)\\n\\tMCP9808-hysteresis (2)\\n\\tBME280_mode (3)\\n\\t sortir (0)\\n----> ')\n",
    "                        if option3 == '0' :\n",
    "                            break\n",
    "                        elif option3 == '1' :\n",
    "                            val = input(\"precision value (LOW MED HI MAX) : \")\n",
    "                            if val == 'LOW' :\n",
    "                                temp.setResolution (0x00)\n",
    "                            elif val == 'MED' :\n",
    "                                temp.setResolution (0x01)\n",
    "                            elif val == 'HI' :\n",
    "                                temp.setResolution (0x02)\n",
    "                            elif val == 'MAX' :\n",
    "                                temp.setResolution (0x03)\n",
    "                            else :\n",
    "                                print ('Commande inconnue : \"%s\"\\n'%val)\n",
    "                        elif option3 == '2' :\n",
    "                            val = input(\"Hysteresis value  (HYST_0 HYST_1_5 HYST_3_0 HYST_6_0) : \")\n",
    "                            if val == 'HYST_0' :\n",
    "                                temp.setHysteresis (0x0000)\n",
    "                            elif val == 'HYST_1_5' :\n",
    "                                temp.setHysteresis (0x0002)\n",
    "                            elif val == 'HYST_3_0' :\n",
    "                                temp.setHysteresis (0x0004)\n",
    "                            elif val == 'HYST_6_0' :\n",
    "                                temp.setHysteresis (0x0006)\n",
    "                            else :\n",
    "                                print ('Commande inconnue : \"%s\"\\n'%val)\n",
    "                        else :\n",
    "                            print ('Code inconnu : \"%s\"\\n'%option3)\n",
    "                else :\n",
    "                        print ('Commande inconnue : \"%s\"\\n'%option2)\n",
    "        else :\n",
    "            print ('Commande inconnue : \"%s\"\\n'%option1)\n",
    "# Main loop\n",
    "    if option1.strip() == 'start' :\n",
    "        CheckInput = init_Thread()\n",
    "        while True :\n",
    "            if CheckInput == ['stop']: \n",
    "                print ('Arrêt demandé.')\n",
    "                break\n",
    "            elif CheckInput != [] :\n",
    "                print ('Commande inconnue : \"%s\" \\nReprise des mesures\\n'%CheckInput)\n",
    "                CheckInput = []\n",
    "                _thread.start_new_thread(input_thread, (CheckInput,))\n",
    "                nbmes = 0\n",
    "            else :\n",
    "                time.sleep (0.5)\n",
    "            tempHR = mes_mcpTemp(temp)\n",
    "            if nbmes == 0 :\n",
    "                print ('Temp(MCP) : ' )\n",
    "                nbmes += 1\n",
    "            elif nbmes == 9 :\n",
    "                nbmes = 0\n",
    "            else :\n",
    "                nbmes += 1\n",
    "            print ('{0:.4f} °C'.format(tempHR))\n",
    "            time.sleep (5)\n",
    "    else :\n",
    "        print ('Bye...')\n",
    "    return\n",
    "    \n",
    "\n",
    "measureMeteoParams()\n"
   ]
  },
  {
   "cell_type": "code",
   "execution_count": null,
   "metadata": {},
   "outputs": [],
   "source": []
  }
 ],
 "metadata": {
  "kernelspec": {
   "display_name": "Python 2",
   "language": "python",
   "name": "python2"
  },
  "language_info": {
   "codemirror_mode": {
    "name": "ipython",
    "version": 3
   },
   "file_extension": ".py",
   "mimetype": "text/x-python",
   "name": "python",
   "nbconvert_exporter": "python",
   "pygments_lexer": "ipython3",
   "version": "3.6.5rc1"
  }
 },
 "nbformat": 4,
 "nbformat_minor": 2
}
