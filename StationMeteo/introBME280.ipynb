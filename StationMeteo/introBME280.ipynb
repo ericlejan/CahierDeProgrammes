{
 "cells": [
  {
   "cell_type": "markdown",
   "metadata": {},
   "source": [
    "# Mesurer avec un capteur Press-Hygro-Temp : Adafruit BME280#\n",
    "\n",
    "Activité réalisée avec un capteur Adafruit BME280, une raspberry Pi3 fonctionnant avec une image Debian Stretch fournie par l'IFÉ ENS de Lyon, disposant des librairies INTEL mraa et upm.\n",
    "\n",
    "Sur le site de Adafruit https://learn.adafruit.com/adafruit-bme280-humidity-barometric-pressure-temperature-sensor-breakout/pinouts on lit que 4 broches doivent être connectées au raspberryPi lorsqu'on travaille avec le bus I2C\n",
    "* Vin - C'est la broche d'alimentation : elle peut-être relié à 3,3V ou 5V (Nous le relierons au 3,3V dans cet exercice). \n",
    "* GND - broche à relier à une broche ground du RasberryPi\n",
    "* SCK - c'est la broche d'horloge du bus I2C à relier à la broche 5 (SCL)\n",
    "* SDI - c'est la broche de données du bus I2C à relier à la broche 3 (SDA)\n",
    "\n",
    "<span style='color:red'>ATTENTION : il ne faut pas brancher la broche Vin du capteur directement au 5V du RaspberryPi car le transfert des données se ferait aussi en 5V ce qui endommagerait le GPIO. </span> Nous verrons dans un autre exercice qu'il faut utiliser, pour les capteurs necessitant du 5V et ne fonctionnant pas en 3.3V, un [levelshifter (convertisseur de tension)](https://www.adafruit.com/product/757)\n",
    "\n",
    "![Capteur BME280 branché sur le bus I2C d'un RaspberryPi](images/RaspberryPi_BME280L.jpg)\n",
    "\n",
    "![Capteur BME280 branché sur le bus I2C d'un RaspberryPi](images/RaspberryPi_BME280Detail.jpg)\n",
    "\n",
    "\n",
    "## Mesurer puis écrire la température en 6 lignes ##\n",
    "\n",
    "Chaque ligne de texte ci-dessous est traduite dans le bloc suivant en une instruction dans un langage interprétable par la machine, à chaque alinéa correspond une instruction, la somme des instructions constitue un programme.\n",
    "\n",
    " * Demander l'utilisation des outils nécessaires, il sagit de deux bibliothèques de programmes de base qui permettent d'interagir et de piloter les capteurs que nous avons choisis. Le nom de ces bibliothèques est mraa et upm\n",
    " * parmi tous les pilotes disponibles nous devons utiliser le pilote pyupm_bmp280 (py pour python, upm nom de la librairie, _ séparateur, bme280 nom du capteur)\n",
    " * Déclarer le nom du capteur qu'on va utiliser (bme)\n",
    " * Mettre à jour le capteur (on utilise la commande préprogrammée dans le pilote \"update\")\n",
    " * Mesurer la température (on utilise la fonction préprogrammée dans le pilote \"getTemperature()\" on appelle la température tempBME)\n",
    " * Imprimer la température"
   ]
  },
  {
   "cell_type": "code",
   "execution_count": 2,
   "metadata": {},
   "outputs": [
    {
     "ename": "RuntimeError",
     "evalue": "UPM Runtime Error: BMP280: bmp280_init() failed",
     "output_type": "error",
     "traceback": [
      "\u001b[0;31m---------------------------------------------------------------------------\u001b[0m",
      "\u001b[0;31mRuntimeError\u001b[0m                              Traceback (most recent call last)",
      "\u001b[0;32m<ipython-input-2-49c547bf8a8f>\u001b[0m in \u001b[0;36m<module>\u001b[0;34m()\u001b[0m\n\u001b[1;32m      1\u001b[0m \u001b[0;32mimport\u001b[0m \u001b[0mmraa\u001b[0m\u001b[0;34m,\u001b[0m \u001b[0mupm\u001b[0m\u001b[0;34m\u001b[0m\u001b[0m\n\u001b[1;32m      2\u001b[0m \u001b[0;32mfrom\u001b[0m \u001b[0mupm\u001b[0m \u001b[0;32mimport\u001b[0m \u001b[0mpyupm_bmp280\u001b[0m \u001b[0;32mas\u001b[0m \u001b[0mbmp\u001b[0m\u001b[0;34m\u001b[0m\u001b[0m\n\u001b[0;32m----> 3\u001b[0;31m \u001b[0mbme\u001b[0m \u001b[0;34m=\u001b[0m \u001b[0mbmp\u001b[0m\u001b[0;34m.\u001b[0m\u001b[0mBME280\u001b[0m\u001b[0;34m(\u001b[0m\u001b[0;36m0\u001b[0m\u001b[0;34m,\u001b[0m\u001b[0;36m0x77\u001b[0m\u001b[0;34m)\u001b[0m\u001b[0;34m\u001b[0m\u001b[0m\n\u001b[0m\u001b[1;32m      4\u001b[0m \u001b[0mbme\u001b[0m\u001b[0;34m.\u001b[0m\u001b[0mupdate\u001b[0m\u001b[0;34m(\u001b[0m\u001b[0;34m)\u001b[0m\u001b[0;34m\u001b[0m\u001b[0m\n\u001b[1;32m      5\u001b[0m \u001b[0mtempBME\u001b[0m \u001b[0;34m=\u001b[0m \u001b[0mbme\u001b[0m\u001b[0;34m.\u001b[0m\u001b[0mgetTemperature\u001b[0m\u001b[0;34m(\u001b[0m\u001b[0;34m)\u001b[0m\u001b[0;34m\u001b[0m\u001b[0m\n",
      "\u001b[0;32m/usr/lib/python3.6/dist-packages/upm/pyupm_bmp280.py\u001b[0m in \u001b[0;36m__init__\u001b[0;34m(self, bus, addr, cs)\u001b[0m\n\u001b[1;32m    398\u001b[0m \u001b[0;34m\u001b[0m\u001b[0m\n\u001b[1;32m    399\u001b[0m     \u001b[0;32mdef\u001b[0m \u001b[0m__init__\u001b[0m\u001b[0;34m(\u001b[0m\u001b[0mself\u001b[0m\u001b[0;34m,\u001b[0m \u001b[0mbus\u001b[0m\u001b[0;34m=\u001b[0m\u001b[0;36m0\u001b[0m\u001b[0;34m,\u001b[0m \u001b[0maddr\u001b[0m\u001b[0;34m=\u001b[0m\u001b[0;36m0x77\u001b[0m\u001b[0;34m,\u001b[0m \u001b[0mcs\u001b[0m\u001b[0;34m=\u001b[0m\u001b[0;34m-\u001b[0m\u001b[0;36m1\u001b[0m\u001b[0;34m)\u001b[0m\u001b[0;34m:\u001b[0m\u001b[0;34m\u001b[0m\u001b[0m\n\u001b[0;32m--> 400\u001b[0;31m         \u001b[0mthis\u001b[0m \u001b[0;34m=\u001b[0m \u001b[0m_pyupm_bmp280\u001b[0m\u001b[0;34m.\u001b[0m\u001b[0mnew_BME280\u001b[0m\u001b[0;34m(\u001b[0m\u001b[0mbus\u001b[0m\u001b[0;34m,\u001b[0m \u001b[0maddr\u001b[0m\u001b[0;34m,\u001b[0m \u001b[0mcs\u001b[0m\u001b[0;34m)\u001b[0m\u001b[0;34m\u001b[0m\u001b[0m\n\u001b[0m\u001b[1;32m    401\u001b[0m         \u001b[0;32mtry\u001b[0m\u001b[0;34m:\u001b[0m\u001b[0;34m\u001b[0m\u001b[0m\n\u001b[1;32m    402\u001b[0m             \u001b[0mself\u001b[0m\u001b[0;34m.\u001b[0m\u001b[0mthis\u001b[0m\u001b[0;34m.\u001b[0m\u001b[0mappend\u001b[0m\u001b[0;34m(\u001b[0m\u001b[0mthis\u001b[0m\u001b[0;34m)\u001b[0m\u001b[0;34m\u001b[0m\u001b[0m\n",
      "\u001b[0;31mRuntimeError\u001b[0m: UPM Runtime Error: BMP280: bmp280_init() failed"
     ]
    }
   ],
   "source": [
    "import mraa, upm\n",
    "from upm import pyupm_bmp280 as bmp\n",
    "bme = bmp.BME280(0,0x77)\n",
    "bme.update()\n",
    "tempBME = bme.getTemperature()\n",
    "print (\"{0:.2f} °C\".format(tempBME))"
   ]
  },
  {
   "cell_type": "markdown",
   "metadata": {},
   "source": [
    "## Nommer une _constante_ puis utiliser toutes les capacités du capteur ##\n",
    "\n",
    "Il est utile et efficace de nommer les constantes et les variables qu'on utilise dans un programme. Ici par exemple quand on déclare le capteur bme on utilise le nombre \"0\" dont il est difficile de connaître l'origine et l'usage. Il s'agit  du numéro du \"bus\" sur lequel est connecté notre capteur, il peut y avoir dans ceratins cas plusieurs \"bus\" sur lesquels sont connectés plusieurs capteurs on exprime sur la seconde ligne que le premier bus porte le numéro 0 et sera utilisé pour trouver le capteur bme; bus1 est une _constante_ qui vaut 0.\n",
    "Dans le code précédent tempBME est une _variable_ qui prend la valeur fournie par le capteur BME280 qui mesure la température. Ce capteur est capable de mesurer d'autres grandeurs physiques **variables** : la pression et le pourcentage d'hygrométrie. On peut donc utiliser 3 _variables_ tempBME pour la température, pressBME pour la pression et hygroBME pour l'hygrométrie. On peut choisir le nom que l'on veut pour les variables mais il est d'usage de choisir des noms qui donnent des indications sur leur contenu.\n",
    "On utilise 3 fonctions préprogrammées fournies par le pilote que nous avons choisi.\n",
    "L'instruction d'impression a été augmentée pour afficher les 3 mesures effectuées."
   ]
  },
  {
   "cell_type": "code",
   "execution_count": 3,
   "metadata": {},
   "outputs": [
    {
     "name": "stdout",
     "output_type": "stream",
     "text": [
      "30.95 %\t\t32.58 °C\t996.76 hPa\n"
     ]
    }
   ],
   "source": [
    "import mraa, upm\n",
    "from upm import pyupm_bmp280 as bmp\n",
    "bus1 = 0\n",
    "bme = bmp.BME280(bus1)\n",
    "bme.update()\n",
    "tempBME = bme.getTemperature()\n",
    "pressBME = bme.getPressure() / 100.0\n",
    "hygroBME = bme.getHumidity()\n",
    "print (\"{0:.2f} %\\t\\t{1:.2f} °C\\t{2:.2f} hPa\".format(hygroBME,tempBME,pressBME))"
   ]
  },
  {
   "cell_type": "markdown",
   "metadata": {},
   "source": [
    "## Imprimer un commentaire (le nom des variables mesurées) ##\n",
    "\n",
    "M€me si les unités affichées sont une indication sur la grandeur mesurée, il est souhaitable d'indiquer quelle est cette grandeur soit en en-tête des colonnes d'un tableau, soit dans la légende d'un graphique."
   ]
  },
  {
   "cell_type": "code",
   "execution_count": 4,
   "metadata": {},
   "outputs": [
    {
     "name": "stdout",
     "output_type": "stream",
     "text": [
      "Humidité : \tTempérature : \tPression :\n",
      "31.40 %\t\t32.54 °C\t996.77 hPa\n"
     ]
    }
   ],
   "source": [
    "import mraa, upm\n",
    "from upm import pyupm_bmp280 as bmp\n",
    "bus1 = 0\n",
    "bme =bmp.BME280(bus1)\n",
    "bme.update()\n",
    "tempBME = bme.getTemperature()\n",
    "pressBME = bme.getPressure() / 100.0\n",
    "hygroBME = bme.getHumidity()\n",
    "print ('Humidité : \\tTempérature : \\tPression :')\n",
    "print (\"{0:.2f} %\\t\\t{1:.2f} °C\\t{2:.2f} hPa\".format(hygroBME,tempBME,pressBME))"
   ]
  },
  {
   "cell_type": "markdown",
   "metadata": {},
   "source": [
    "## Ajouter une fonction pour calculer la pression au niveau de la mer ##\n",
    "\n",
    "La pression atmosphérique en un lieu dépend de son altitude. Pour pouvoir faire de la météorologie ou simplement comparer des mesures faites en différents endroits il faut partager une référence commune et le niveau de la mer est une solution simple et efficace. On convertit donc  notre mesure locale à la valeur qu'elle aurait  si nous étions au niveau de la mer. Il nous faut donc connaître notre altitude et importer des outils mathématiques. pour cela on ajoute la constante localAlt au programme et on importe la bibliothèque d'outils mathématiques de python.\n",
    "Il est probable que nous ayons à réutiliser ce calcul  dans d'autres programmes et il serait malin de pouvoir réutiliser simplement les lignes de code que nous allons écrire. Plutôt que les noyer dans le programme nous allons _définir une fonction_ qui prendra un _paramètre_ (la pression mesurée m_Pressure) et qui nous _retournera_ la valeur à laquelle cette mesure correspond au niveau de la mer (sl_Pressure pour sea-level pressure). Le paramètre est une variable tout comme la valeur retournée.\n",
    "La fonction est appelée ici convertSeaLevel() elle prend comme paramètre la variable mesurée par le capteur pressBME et fournit la variable décrivant  la pression au niveau de la mer seaLevelPress. On voit que les variables _locales_ utilisées par la fonction (m_Pressure, sl_Pressure) n'ont pas forcément le même nom que les variables _globales_ du programme principal (pressBME, seaLevelPress), cela permet de manipuler des noms de variables signifiants et cohérents avec leur contexte. Vous noterez que pouur souligner cette différence le nom des variables _locales à la fonction_ utilisent un système de séparation des mots (des \"\\_\") différent de celui du programme principal ( le CamelCase)."
   ]
  },
  {
   "cell_type": "code",
   "execution_count": 5,
   "metadata": {},
   "outputs": [
    {
     "name": "stdout",
     "output_type": "stream",
     "text": [
      "Humidité : \tTempérature : \tPression : \tPression(mer) : \n",
      "31.29 %\t\t32.55 °C\t996.78 hPa\t1015.48 hPa\n"
     ]
    }
   ],
   "source": [
    "import mraa, upm, math\n",
    "from upm import pyupm_bmp280 as bmp\n",
    "bus1 = 0\n",
    "bme = bmp.BME280(bus1)\n",
    "localAlt = 156.5\n",
    "# Calcul de la pression au niveau de la mer\n",
    "def convertSeaLevel (m_Pressure):\n",
    "\tsl_Pressure = m_Pressure / math.pow(1.0 - localAlt/44330, 5.255)\n",
    "\treturn sl_Pressure\n",
    "# fin du calcul\n",
    "bme.update()\n",
    "tempBME = bme.getTemperature()\n",
    "pressBME = bme.getPressure() / 100.0\n",
    "hygroBME = bme.getHumidity()\n",
    "seaLevelPress = convertSeaLevel (pressBME)\n",
    "print ('Humidité : \\tTempérature : \\tPression : \\tPression(mer) : ')\n",
    "print (\"{0:.2f} %\\t\\t{1:.2f} °C\\t{2:.2f} hPa\\t{3:.2f} hPa\".format(hygroBME,tempBME,pressBME,seaLevelPress))"
   ]
  },
  {
   "cell_type": "markdown",
   "metadata": {},
   "source": [
    "## Faire une mesure toutes les 5 secondes ##\n",
    "\n",
    "Lorsque l'on dispose d'un capteur et d'une alimentation suffisante il est bien sûr extrêmement intéressant de faire des mesures **en continu**. En fait on ne peut pas réellement mesurer de façon continue, on effectue des mesures les unes à la suite des autres en ménageant un temps (qui peut êetre très court) entre deux mesures pour transmettre le résultat et permettre au capteur d'être prêt pour la mesure suivante. La valeur du temps de pause est ici de 5 secondes valeur fournie à la fonction sleep (dors pendant....) de la librairie des programmes de gestion du temps (qui est incluse au début du programme).\n",
    "Nous avons vu précédemment comment faire **une** mesure, nous venons de voir comment _ne rien faire_ pendant un temps donné, il nous faut donc enchaîner Mesure->Repos->Mesure->Repos-> c'est ce que l'on appelle une _boucle_. Pour le moment nous ne nous préoccupons pas de savoir comment arrêter les mesures et nous nous lançons dans une _boucle sans fin_; pour cela nous utilisons un _mot réservé_ : \"True\" (qui veut dire vrai) et nous utilisons l'instruction  \"Tant que c'est vrai mesure puis attends 5s et recommence\" comme nous déclarons que c'est vrai et que nous ne touchons pas cette valeur cela reste toujours vrai et on recommence toujours la série \"mesure puis attends 5s\". La _condition_ ayant pour valeur _\"Tant que\"_ que nous avons utilisée se traduit par _while_ et tout ce qui suit les \":\" et est décalé de 4 caractères est répété à l'infini dans l'ordre des lignes."
   ]
  },
  {
   "cell_type": "code",
   "execution_count": 6,
   "metadata": {},
   "outputs": [
    {
     "name": "stdout",
     "output_type": "stream",
     "text": [
      "Humidité : \tTempérature : \tPression : \tPression(mer) : \n",
      "31.20 %\t\t32.57 °C\t996.77 hPa\t1015.47 hPa\n"
     ]
    },
    {
     "ename": "KeyboardInterrupt",
     "evalue": "",
     "output_type": "error",
     "traceback": [
      "\u001b[0;31m---------------------------------------------------------------------------\u001b[0m",
      "\u001b[0;31mKeyboardInterrupt\u001b[0m                         Traceback (most recent call last)",
      "\u001b[0;32m<ipython-input-6-2e9e2e4db4a2>\u001b[0m in \u001b[0;36m<module>\u001b[0;34m()\u001b[0m\n\u001b[1;32m     18\u001b[0m     \u001b[0mseaLevelPress\u001b[0m \u001b[0;34m=\u001b[0m \u001b[0mconvertSeaLevel\u001b[0m \u001b[0;34m(\u001b[0m\u001b[0mpressBME\u001b[0m\u001b[0;34m)\u001b[0m\u001b[0;34m\u001b[0m\u001b[0m\n\u001b[1;32m     19\u001b[0m     \u001b[0mprint\u001b[0m \u001b[0;34m(\u001b[0m\u001b[0;34m\"{0:.2f} %\\t\\t{1:.2f} °C\\t{2:.2f} hPa\\t{3:.2f} hPa\"\u001b[0m\u001b[0;34m.\u001b[0m\u001b[0mformat\u001b[0m\u001b[0;34m(\u001b[0m\u001b[0mhygroBME\u001b[0m\u001b[0;34m,\u001b[0m\u001b[0mtempBME\u001b[0m\u001b[0;34m,\u001b[0m\u001b[0mpressBME\u001b[0m\u001b[0;34m,\u001b[0m\u001b[0mseaLevelPress\u001b[0m\u001b[0;34m)\u001b[0m\u001b[0;34m)\u001b[0m\u001b[0;34m\u001b[0m\u001b[0m\n\u001b[0;32m---> 20\u001b[0;31m     \u001b[0mtime\u001b[0m\u001b[0;34m.\u001b[0m\u001b[0msleep\u001b[0m \u001b[0;34m(\u001b[0m\u001b[0mpauseVal\u001b[0m\u001b[0;34m)\u001b[0m\u001b[0;34m\u001b[0m\u001b[0m\n\u001b[0m",
      "\u001b[0;31mKeyboardInterrupt\u001b[0m: "
     ]
    }
   ],
   "source": [
    "import mraa, upm, math, time\n",
    "from upm import pyupm_bmp280 as bmp\n",
    "bus1 = 0\n",
    "pauseVal = 5\n",
    "bme = bmp.BME280(bus1)\n",
    "localAlt = 156.5\n",
    "# Calcul de la pression au niveau de la mer\n",
    "def convertSeaLevel (m_Pressure):\n",
    "\tsl_Pressure = m_Pressure / math.pow(1.0 - localAlt/44330, 5.255)\n",
    "\treturn sl_Pressure\n",
    "# fin du calcul\n",
    "print ('Humidité : \\tTempérature : \\tPression : \\tPression(mer) : ')\n",
    "while True :\n",
    "    bme.update()\n",
    "    tempBME = bme.getTemperature()\n",
    "    pressBME = bme.getPressure() / 100.0\n",
    "    hygroBME = bme.getHumidity()\n",
    "    seaLevelPress = convertSeaLevel (pressBME)\n",
    "    print (\"{0:.2f} %\\t\\t{1:.2f} °C\\t{2:.2f} hPa\\t{3:.2f} hPa\".format(hygroBME,tempBME,pressBME,seaLevelPress))\n",
    "    time.sleep (pauseVal)"
   ]
  },
  {
   "cell_type": "code",
   "execution_count": null,
   "metadata": {
    "collapsed": true
   },
   "outputs": [],
   "source": []
  }
 ],
 "metadata": {
  "kernelspec": {
   "display_name": "Python 3",
   "language": "python",
   "name": "python3"
  },
  "language_info": {
   "codemirror_mode": {
    "name": "ipython",
    "version": 3
   },
   "file_extension": ".py",
   "mimetype": "text/x-python",
   "name": "python",
   "nbconvert_exporter": "python",
   "pygments_lexer": "ipython3",
   "version": "3.6.3"
  }
 },
 "nbformat": 4,
 "nbformat_minor": 1
}
