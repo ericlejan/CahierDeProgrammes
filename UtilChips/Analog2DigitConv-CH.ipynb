{
 "cells": [
  {
   "cell_type": "markdown",
   "metadata": {
    "extensions": {
     "jupyter_dashboards": {
      "version": 1,
      "views": {
       "grid_default": {
        "hidden": true
       },
       "report_default": {}
      }
     }
    }
   },
   "source": [
    "# Utilisation de convertisseurs Analogique --> digital\n",
    "\n",
    "Ce cahier démontre l'utilisation des convertisseurs analogique numérique (exemple du convertisseur Adafruit ADS1015 (12 bits)\n",
    " * L'exploitation de ces éléments requiert le calibrage des capteurs analogiques et le choix des bons paramètres de configuration. L'exemple présenté ici a été réalisé en mode différentiel avec le capteur UV sur les broches A3 et A2 (relié à ground), un 2ième capteur gas Grove sur les broches A1 et A0 (relié à ground)\n",
    "Le schéma et la photo ci-dessous permettent de comprendre le cablage :\n",
    "\n",
    "![ Schéma du convertisseur avec 2 capteurs en différentiel](images/dac_2CapteursSchema.jpg)\n",
    "                        ![licence : Charles-Henri Eyraud](images/Licence.jpg)\n",
    "                        \n",
    "* Le câblage du convertisseur est simple, le point requérant un peu d'attention est le choix de l'adresse qui repose sur la connexion entre la broche `ADDR` et l'une des 4 broches `VDD` `GND` `SCL` `SDA`  permettant d'affecter le convertisseur à l'adresse `0x49` `0x48` `0x4B` `0x4A`. Les signaux différentiels sont issus des cables jaune/bleu connectés sur les broches `A0 A1` et `A2 A3` :\n",
    "\n",
    "![ Photo du convertisseur avec 2 capteurs en différentiel](images/dac_2CapteursPhoto.jpg)\n",
    "                        ![licence : Charles-Henri Eyraud](images/Licence.jpg)"
   ]
  },
  {
   "cell_type": "code",
   "execution_count": 1,
   "metadata": {},
   "outputs": [
    {
     "name": "stdout",
     "output_type": "stream",
     "text": [
      "ads1015 : -2.60000\n",
      "ads1015 : -2.63200\n",
      "ads1015 : 0.00000\n",
      "ads1015 : 0.00000\n",
      "ads1015 : -1.50800\n"
     ]
    }
   ],
   "source": [
    "# Programme de base pour lire les données du capteur UV (A3 relié à Out du capteur et A2 relié à ground)\n",
    "# appel de la bibliothèque upm du convertisseur ADS 1015 (et ADS1115)\n",
    "from upm import pyupm_ads1x15 as upm\n",
    "from time import sleep\n",
    "\n",
    "# Initialize et configure le convertisseur ADS1015\n",
    "ads1015 = upm.ADS1015(0, 0x48)\n",
    "                      \n",
    "# Lecture de la donnée différentielle entre les broche A2 et A3\n",
    "# ads1015.getSample(upm.ADS1X15.DIFF_2_3)\n",
    "ads1015.getSample(upm.ADS1X15.DIFF_0_1)\n",
    "                      \n",
    "# Lecture de la donnée sur la broche A3\n",
    "# ads1015.getSample(upm.ADS1X15.SINGLE_3)\n",
    "                      \n",
    "# Fixation du gain\n",
    "# ads1015.setGain(upm.ADS1X15.GAIN_ONE)\n",
    "                      \n",
    "for num in range(0,5):\n",
    "    print('ads1015 : %.5f' % ads1015.getSample())\n",
    "    sleep(2)                              "
   ]
  },
  {
   "cell_type": "code",
   "execution_count": 11,
   "metadata": {
    "extensions": {
     "jupyter_dashboards": {
      "version": 1,
      "views": {
       "grid_default": {
        "col": 8,
        "height": 4,
        "hidden": false,
        "row": 0,
        "width": 4
       },
       "report_default": {}
      }
     }
    }
   },
   "outputs": [
    {
     "name": "stdout",
     "output_type": "stream",
     "text": [
      "Reading ADS1x15 channel 0 for 5 seconds...\n",
      "Channel 0: -3.332000255584717\n",
      "Channel 0: -3.3360002040863037\n",
      "Channel 0: -3.3400001525878906\n",
      "Channel 0: -3.3380000591278076\n",
      "Channel 0: -3.330000162124634\n",
      "Channel 0: -3.330000162124634\n",
      "Channel 0: -3.3400001525878906\n",
      "Channel 0: -3.332000255584717\n",
      "Channel 0: -3.328000068664551\n",
      "Channel 0: -3.324000120162964\n"
     ]
    },
    {
     "ename": "NameError",
     "evalue": "name 'adc' is not defined",
     "output_type": "error",
     "traceback": [
      "\u001b[0;31m---------------------------------------------------------------------------\u001b[0m",
      "\u001b[0;31mNameError\u001b[0m                                 Traceback (most recent call last)",
      "\u001b[0;32m<ipython-input-11-9969d1638638>\u001b[0m in \u001b[0;36m<module>\u001b[0;34m()\u001b[0m\n\u001b[1;32m     65\u001b[0m \u001b[0;34m\u001b[0m\u001b[0m\n\u001b[1;32m     66\u001b[0m \u001b[0;31m# Stop continuous conversion.  After this point you can't get data from get_last_result!\u001b[0m\u001b[0;34m\u001b[0m\u001b[0;34m\u001b[0m\u001b[0m\n\u001b[0;32m---> 67\u001b[0;31m \u001b[0madc\u001b[0m\u001b[0;34m.\u001b[0m\u001b[0mstop_adc\u001b[0m\u001b[0;34m(\u001b[0m\u001b[0;34m)\u001b[0m\u001b[0;34m\u001b[0m\u001b[0m\n\u001b[0m",
      "\u001b[0;31mNameError\u001b[0m: name 'adc' is not defined"
     ]
    }
   ],
   "source": [
    "# Simple demo of continuous ADC conversion mode for channel 0 of the ADS1x15 ADC.\n",
    "# Author: Tony DiCola\n",
    "# License: Public Domain\n",
    "# Import du module ADS1x15\n",
    "from upm import pyupm_ads1x15 as upm\n",
    "    # Initialize and configure the ADS1015\n",
    "    # 0x48 gives access to pins A0 - A3\n",
    "ads1015 = upm.ADS1015(0, 0x48)\n",
    "\n",
    "    # Place le convertisseur ADC en mode différentiel pour les pins A0 et A1\n",
    "ads1015.getSample(upm.ADS1X15.DIFF_0_1)\n",
    "    # Place le convertissuer ADC en mode différentiel pour les pins A2 et A3\n",
    "    # ads1015.getSample(upm.ADS1X15.DIFF_2_3)\n",
    "\n",
    "    # Fixe le gain basé sur une plage de tension attendue VIN  de -/+ 2.048 V\n",
    "    # Le gain peut être ajusté aussi bas que -/+ 0.256 V, en fonction des d'applications \n",
    "    # Voir documentation des API pour plus de details\n",
    "ads1015.setGain(upm.ADS1X15.GAIN_ONE)\n",
    "\n",
    "    # Fixe le taux d'échantillonnage à 128 (3300 échantillons par seconde,  maximum)\n",
    "    # Lancement de l'échantillonage en continu\n",
    "ads1015.setSPS(upm.ADS1015.SPS_128)\n",
    "ads1015.setContinuous(True)\n",
    "import time\n",
    "\n",
    "\n",
    "# Note you can change the I2C address from its default (0x48), and/or the I2C\n",
    "# bus by passing in these optional parameters:\n",
    "#adc = Adafruit_ADS1x15.ADS1015(address=0x49, busnum=1)\n",
    "\n",
    "# Choose a gain of 1 for reading voltages from 0 to 4.09V.\n",
    "# Or pick a different gain to change the range of voltages that are read:\n",
    "#  - 2/3 = +/-6.144V\n",
    "#  -   1 = +/-4.096V\n",
    "#  -   2 = +/-2.048V\n",
    "#  -   4 = +/-1.024V\n",
    "#  -   8 = +/-0.512V\n",
    "#  -  16 = +/-0.256V\n",
    "# See table 3 in the ADS1015/ADS1115 datasheet for more info on gain.\n",
    "GAIN = 1\n",
    "\n",
    "# Start continuous ADC conversions on channel 0 using the previously set gain\n",
    "# value.  Note you can also pass an optional data_rate parameter, see the simpletest.py\n",
    "# example and read_adc function for more infromation.\n",
    "# ads1015.start_ads1015(0, gain=GAIN)\n",
    "# Once continuous ADC conversions are started you can call get_last_result() to\n",
    "# retrieve the latest result, or stop_adc() to stop conversions.\n",
    "\n",
    "# Note you can also call start_adc_difference() to take continuous differential\n",
    "# readings.  See the read_adc_difference() function in differential.py for more\n",
    "# information and parameter description.\n",
    "\n",
    "# Read channel 0 for 5 seconds and print out its values.\n",
    "print('Reading ADS1x15 channel 0 for 5 seconds...')\n",
    "start = time.time()\n",
    "while (time.time() - start) <= 5.0:\n",
    "    # Read the last ADC conversion value and print it out.\n",
    "    value = ads1015.getSample()\n",
    "    # WARNING! If you try to read any other ADC channel during this continuous\n",
    "    # conversion (like by calling read_adc again) it will disable the\n",
    "    # continuous conversion!\n",
    "    print('Channel 0: {0}'.format(value))\n",
    "    # Sleep for half a second.\n",
    "    time.sleep(0.5)\n",
    "\n",
    "# Stop continuous conversion.  After this point you can't get data from get_last_result!\n",
    "adc.stop_adc()\n"
   ]
  },
  {
   "cell_type": "code",
   "execution_count": null,
   "metadata": {
    "collapsed": true,
    "extensions": {
     "jupyter_dashboards": {
      "version": 1,
      "views": {
       "grid_default": {
        "col": 0,
        "height": 4,
        "hidden": false,
        "row": 0,
        "width": 4
       },
       "report_default": {}
      }
     }
    }
   },
   "outputs": [],
   "source": [
    "# Author: Charles-Henri Eyraud\n",
    "# d'après Mihai Tudor Panu <mihai.tudor.panu@intel.com>\n",
    "# https://github.com/intel-iot-devkit/upm/blob/master/examples/python/ads1015.py\n",
    "# Copyright (c) 2016 Intel Corporation.\n",
    "#\n",
    "# Permission is hereby granted, free of charge, to any person obtaining\n",
    "# a copy of this software and associated documentation files (the\n",
    "# \"Software\"), to deal in the Software without restriction, including\n",
    "# without limitation the rights to use, copy, modify, merge, publish,\n",
    "# distribute, sublicense, and/or sell copies of the Software, and to\n",
    "# permit persons to whom the Software is furnished to do so, subject to\n",
    "# the following conditions:\n",
    "#\n",
    "# The above copyright notice and this permission notice shall be\n",
    "# included in all copies or substantial portions of the Software.\n",
    "#\n",
    "# THE SOFTWARE IS PROVIDED \"AS IS\", WITHOUT WARRANTY OF ANY KIND,\n",
    "# EXPRESS OR IMPLIED, INCLUDING BUT NOT LIMITED TO THE WARRANTIES OF\n",
    "# MERCHANTABILITY, FITNESS FOR A PARTICULAR PURPOSE AND\n",
    "# NONINFRINGEMENT. IN NO EVENT SHALL THE AUTHORS OR COPYRIGHT HOLDERS BE\n",
    "# WITH THE SOFTWARE OR THE USE OR OTHER DEALINGS IN THE SOFTWARE.\n",
    "# LIABLE FOR ANY CLAIM, DAMAGES OR OTHER LIABILITY, WHETHER IN AN ACTION\n",
    "# OF CONTRACT, TORT OR OTHERWISE, ARISING FROM, OUT OF OR IN CONNECTION\n",
    "\n",
    "# This example demonstrates how to use one the ADS1015 ADC on the Grove Joule\n",
    "# Shield or the Sparkfun ADC Block for Edison with devices that output a small\n",
    "# differential voltage (e.g. geophones, piezoelectric bands or pads, thermocouples).\n",
    "\n",
    "from __future__ import print_function\n",
    "from threading import Timer\n",
    "from time import sleep\n",
    "from upm import pyupm_ads1x15 as upm\n",
    "\n",
    "def stop():\n",
    "    global running\n",
    "    running = False\n",
    "\n",
    "def main():\n",
    "    global running\n",
    "    running = True\n",
    "    fileName = './ads1015.data' # Nom du fichier de sortie\n",
    "    id = 0 # Nombre d'échantillons\n",
    "\n",
    "    # Initialize et configure le ADS1015\n",
    "    # 0x48 donne accès aux pins A0 - A3\n",
    "    ads1015 = upm.ADS1015(0, 0x48)\n",
    "\n",
    "    # Place le convertisseur ADC en mode différentiel pour les pins A0 et A1\n",
    "    ads1015.getSample(upm.ADS1X15.DIFF_0_1)\n",
    "    # Place le convertissuer ADC en mode différentiel pour les pins A2 et A3\n",
    "    # ads1015.getSample(upm.ADS1X15.DIFF_2_3)\n",
    "    # Place le convertissuer ADC en mode simple pour le pin A2\n",
    "    # ads1015.getSample(upm.ADS1X15.SINGLE_2)\n",
    "\n",
    "    # Fixe le gain basé sur une plage de tension attendue VIN  de -/+ 2.048 V\n",
    "    # Le gain peut être ajusté aussi bas que -/+ 0.256 V, en fonction des applications \n",
    "    # Voir documentation des API pour plus de details\n",
    "    ads1015.setGain(upm.ADS1X15.GAIN_ONE)\n",
    "\n",
    "    # Fixe le taux d'échantillonnage à 128 échantillons par seconde (3300 valeur maximum)\n",
    "    # Lancement de l'échantillonage en continu\n",
    "    ads1015.setSPS(upm.ADS1015.SPS_128)\n",
    "    ads1015.setContinuous(True)\n",
    "\n",
    "    # Ouverture du fichier de sortie\n",
    "    try:\n",
    "        f = open(fileName, 'w')\n",
    "    except OSError as e:\n",
    "        print('Cannot open output file:', e)\n",
    "        return\n",
    "\n",
    "    # Mise en route d'un timer pour stopper la connexion après 3600 seconds\n",
    "    t = Timer(60, stop)\n",
    "    t.start()\n",
    "\n",
    "    # Lecture des données du capteur et écriture dans le fichier toutes les 10s\n",
    "    while running:\n",
    "        f.write(str(id) + ' %.7f' % ads1015.getSample() + '\\n')\n",
    "        id += 1\n",
    "        sleep(10)\n",
    "\n",
    "    # Fermeture du fichier et fin\n",
    "    f.close()\n",
    "    print('Ecriture de', id, 'échantillons dans le fichier:', fileName)\n",
    "    return\n",
    "\n",
    "if __name__ == '__main__':\n",
    "    main()"
   ]
  },
  {
   "cell_type": "code",
   "execution_count": 5,
   "metadata": {
    "extensions": {
     "jupyter_dashboards": {
      "version": 1,
      "views": {
       "grid_default": {
        "col": 0,
        "height": 6,
        "hidden": false,
        "row": 4,
        "width": 4
       },
       "report_default": {}
      }
     }
    }
   },
   "outputs": [
    {
     "ename": "ImportError",
     "evalue": "No module named 'Adafruit_ADS1x15'",
     "output_type": "error",
     "traceback": [
      "\u001b[0;31m---------------------------------------------------------------------------\u001b[0m",
      "\u001b[0;31mImportError\u001b[0m                               Traceback (most recent call last)",
      "\u001b[0;32m<ipython-input-5-20941def98ce>\u001b[0m in \u001b[0;36m<module>\u001b[0;34m()\u001b[0m\n\u001b[1;32m      5\u001b[0m \u001b[0;34m\u001b[0m\u001b[0m\n\u001b[1;32m      6\u001b[0m \u001b[0;31m# Import the ADS1x15 module.\u001b[0m\u001b[0;34m\u001b[0m\u001b[0;34m\u001b[0m\u001b[0m\n\u001b[0;32m----> 7\u001b[0;31m \u001b[0;32mimport\u001b[0m \u001b[0mAdafruit_ADS1x15\u001b[0m\u001b[0;34m\u001b[0m\u001b[0m\n\u001b[0m\u001b[1;32m      8\u001b[0m \u001b[0;34m\u001b[0m\u001b[0m\n\u001b[1;32m      9\u001b[0m \u001b[0;34m\u001b[0m\u001b[0m\n",
      "\u001b[0;31mImportError\u001b[0m: No module named 'Adafruit_ADS1x15'"
     ]
    }
   ],
   "source": [
    "# Simple demo of reading the difference between channel 1 and 0 on an ADS1x15 ADC.\n",
    "# Author: Tony DiCola\n",
    "# License: Public Domain\n",
    "import time\n",
    "\n",
    "# Import the ADS1x15 module.\n",
    "import Adafruit_ADS1x15\n",
    "\n",
    "\n",
    "# Create an ADS1115 ADC (16-bit) instance.\n",
    "adc = Adafruit_ADS1x15.ADS1115()\n",
    "\n",
    "# Or create an ADS1015 ADC (12-bit) instance.\n",
    "#adc = Adafruit_ADS1x15.ADS1015()\n",
    "\n",
    "# Note you can change the I2C address from its default (0x48), and/or the I2C\n",
    "# bus by passing in these optional parameters:\n",
    "#adc = Adafruit_ADS1x15.ADS1015(address=0x49, busnum=1)\n",
    "\n",
    "# Choose a gain of 1 for reading voltages from 0 to 4.09V.\n",
    "# Or pick a different gain to change the range of voltages that are read:\n",
    "#  - 2/3 = +/-6.144V\n",
    "#  -   1 = +/-4.096V\n",
    "#  -   2 = +/-2.048V\n",
    "#  -   4 = +/-1.024V\n",
    "#  -   8 = +/-0.512V\n",
    "#  -  16 = +/-0.256V\n",
    "# See table 3 in the ADS1015/ADS1115 datasheet for more info on gain.\n",
    "GAIN = 1\n",
    "\n",
    "print('Press Ctrl-C to quit...')\n",
    "while True:\n",
    "    # Read the difference between channel 0 and 1 (i.e. channel 0 minus channel 1).\n",
    "    # Note you can change the differential value to the following:\n",
    "    #  - 0 = Channel 0 minus channel 1\n",
    "    #  - 1 = Channel 0 minus channel 3\n",
    "    #  - 2 = Channel 1 minus channel 3\n",
    "    #  - 3 = Channel 2 minus channel 3\n",
    "    value = adc.read_adc_difference(0, gain=GAIN)\n",
    "    # Note you can also pass an optional data_rate parameter above, see\n",
    "    # simpletest.py and the read_adc function for more information.\n",
    "    # Value will be a signed 12 or 16 bit integer value (depending on the ADC\n",
    "    # precision, ADS1015 = 12-bit or ADS1115 = 16-bit).\n",
    "    print('Channel 0 minus 1: {0}'.format(value))\n",
    "    # Pause for half a second.\n",
    "    time.sleep(0.5)"
   ]
  },
  {
   "cell_type": "code",
   "execution_count": null,
   "metadata": {
    "collapsed": true
   },
   "outputs": [],
   "source": []
  }
 ],
 "metadata": {
  "extensions": {
   "jupyter_dashboards": {
    "activeView": "grid_default",
    "version": 1,
    "views": {
     "grid_default": {
      "cellMargin": 10,
      "defaultCellHeight": 20,
      "maxColumns": 12,
      "name": "grid",
      "type": "grid"
     },
     "report_default": {
      "name": "report",
      "type": "report"
     }
    }
   }
  },
  "kernelspec": {
   "display_name": "Python 3",
   "language": "python",
   "name": "python3"
  },
  "language_info": {
   "codemirror_mode": {
    "name": "ipython",
    "version": 3
   },
   "file_extension": ".py",
   "mimetype": "text/x-python",
   "name": "python",
   "nbconvert_exporter": "python",
   "pygments_lexer": "ipython3",
   "version": "3.5.3"
  }
 },
 "nbformat": 4,
 "nbformat_minor": 2
}
