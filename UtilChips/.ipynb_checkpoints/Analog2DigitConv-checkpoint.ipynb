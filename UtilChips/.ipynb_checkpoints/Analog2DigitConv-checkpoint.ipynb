{
 "cells": [
  {
   "cell_type": "code",
   "execution_count": 4,
   "metadata": {
    "collapsed": false
   },
   "outputs": [
    {
     "name": "stdout",
     "output_type": "stream",
     "text": [
      "ads1015 : 0.0000000 ; ads1115 : 0.0000000\n",
      "ads1015 : 0.0000000 ; ads1115 : 0.0000000\n",
      "ads1015 : 0.0000000 ; ads1115 : 0.0000000\n",
      "ads1015 : 0.0000000 ; ads1115 : 0.0000000\n",
      "ads1015 : 0.0000000 ; ads1115 : 0.0000000\n",
      "ads1015 : 0.0000000 ; ads1115 : 0.0000000\n",
      "ads1015 : 0.0000000 ; ads1115 : 0.0000000\n",
      "ads1015 : 0.0000000 ; ads1115 : 0.0000000\n",
      "ads1015 : 0.0000000 ; ads1115 : 0.0000000\n",
      "ads1015 : 0.0000000 ; ads1115 : 0.0000000\n",
      "ads1015 : 0.0000000 ; ads1115 : 0.0000000\n",
      "ads1015 : 0.0000000 ; ads1115 : 0.0000000\n",
      "ads1015 : 0.0000000 ; ads1115 : 0.0000000\n",
      "ads1015 : 0.0000000 ; ads1115 : 0.0000000\n",
      "ads1015 : 0.0000000 ; ads1115 : 0.0000000\n",
      "ads1015 : 0.0000000 ; ads1115 : 0.0000000\n",
      "ads1015 : 0.0000000 ; ads1115 : 0.0000000\n",
      "ads1015 : 0.0000000 ; ads1115 : 0.0000000\n",
      "ads1015 : 0.0000000 ; ads1115 : 0.0000000\n",
      "ads1015 : 0.0000000 ; ads1115 : 0.0000000\n",
      "ads1015 : 0.0000000 ; ads1115 : 0.0000000\n",
      "ads1015 : 0.0000000 ; ads1115 : 0.0000000\n",
      "ads1015 : 0.0000000 ; ads1115 : 0.0000000\n",
      "ads1015 : 0.0000000 ; ads1115 : 0.0000000\n",
      "ads1015 : 0.0000000 ; ads1115 : 0.0000000\n",
      "ads1015 : 0.0000000 ; ads1115 : 0.0000000\n",
      "ads1015 : 0.0000000 ; ads1115 : 0.0000000\n",
      "ads1015 : 0.0000000 ; ads1115 : 0.0000000\n",
      "ads1015 : 0.0000000 ; ads1115 : 0.0000000\n",
      "ads1015 : 0.0000000 ; ads1115 : 0.0000000\n",
      "ads1015 : 0.0000000 ; ads1115 : 0.0000000\n",
      "ads1015 : 0.0000000 ; ads1115 : 0.0000000\n",
      "ads1015 : 0.0000000 ; ads1115 : 0.0000000\n",
      "ads1015 : 0.0000000 ; ads1115 : 0.0000000\n",
      "ads1015 : 0.0000000 ; ads1115 : 0.0000000\n",
      "ads1015 : 0.0000000 ; ads1115 : 0.0000000\n",
      "ads1015 : 0.0000000 ; ads1115 : 0.0000000\n",
      "ads1015 : 0.0000000 ; ads1115 : 0.0000000\n",
      "ads1015 : 0.0000000 ; ads1115 : 0.0000000\n",
      "ads1015 : 0.0000000 ; ads1115 : 0.0000000\n",
      "ads1015 : 0.0000000 ; ads1115 : 0.0000000\n",
      "ads1015 : 0.0000000 ; ads1115 : 0.0000000\n",
      "ads1015 : 0.0000000 ; ads1115 : 0.0000000\n",
      "ads1015 : 0.0000000 ; ads1115 : 0.0000000\n",
      "ads1015 : 0.0000000 ; ads1115 : 0.0000000\n",
      "ads1015 : 0.0000000 ; ads1115 : 0.0000000\n",
      "ads1015 : 0.0000000 ; ads1115 : 0.0000000\n",
      "ads1015 : 0.0000000 ; ads1115 : 0.0000000\n",
      "ads1015 : 0.0000000 ; ads1115 : 0.0000000\n",
      "ads1015 : 0.0000000 ; ads1115 : 0.0000000\n"
     ]
    }
   ],
   "source": [
    "from time import sleep\n",
    "from upm import pyupm_ads1x15 as upm\n",
    "ads1015 = upm.ADS1015(0, 0x48)\n",
    "ads1115 = upm.ADS1115(0, 0x49)\n",
    "ads1015.getSample(upm.ADS1X15.SINGLE_1)\n",
    "ads1115.getSample(upm.ADS1X15.SINGLE_0)\n",
    "\n",
    "ads1015.setGain(upm.ADS1X15.GAIN_TWO)\n",
    "ads1015.setSPS(upm.ADS1015.SPS_128)\n",
    "ads1115.setGain(upm.ADS1X15.GAIN_TWO)\n",
    "ads1115.setSPS(upm.ADS1115.SPS_16)\n",
    "for num in range(0,50):\n",
    "    print('ads1015 : %.7f' % ads1015.getLastSample() + ' ; ' + 'ads1115 : %.7f' % ads1115.getLastSample())"
   ]
  },
  {
   "cell_type": "code",
   "execution_count": null,
   "metadata": {
    "collapsed": true
   },
   "outputs": [],
   "source": []
  }
 ],
 "metadata": {
  "kernelspec": {
   "display_name": "Python 3",
   "language": "python",
   "name": "python3"
  },
  "language_info": {
   "codemirror_mode": {
    "name": "ipython",
    "version": 3
   },
   "file_extension": ".py",
   "mimetype": "text/x-python",
   "name": "python",
   "nbconvert_exporter": "python",
   "pygments_lexer": "ipython3",
   "version": "3.5.3"
  }
 },
 "nbformat": 4,
 "nbformat_minor": 2
}
