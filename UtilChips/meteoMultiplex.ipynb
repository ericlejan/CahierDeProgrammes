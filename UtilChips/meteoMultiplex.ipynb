{
 "cells": [
  {
   "cell_type": "markdown",
   "metadata": {},
   "source": [
    "# Mise en place d'un système de multiplexage de 8 canaux i2c\n",
    "\n",
    "Importation des librairies générales et importation des binaires pour les différents capteurs utilisés en exemple dans les montages ci-dessous. La figure ci dessous est un exemple de montage avec 3 ministations météo.\n",
    "\n",
    "\n",
    "![Montage 3 ministations météorologiques](images/multiplex-Ex-small.jpg)\n",
    "                        ![licence : Gérard Vidal](images/Licence.jpg)\n"
   ]
  },
  {
   "cell_type": "code",
   "execution_count": 1,
   "metadata": {
    "collapsed": true
   },
   "outputs": [],
   "source": [
    "import mraa, upm\n",
    "import _thread, time, math\n",
    "\n",
    "from upm import pyupm_tca9548a as multi\n",
    "\n",
    "from upm import pyupm_mcp9808 as mcp\n",
    "from upm import pyupm_bmp280 as bme\n",
    "from upm import pyupm_bmpx8x as bmpx\n",
    "from upm import pyupm_tsl2561 as tsl\n",
    "from upm import pyupm_htu21d as htud\n",
    "from upm import pyupm_mpl3115a2 as mpl\n",
    "from upm import pyupm_si1132 as si"
   ]
  },
  {
   "cell_type": "markdown",
   "metadata": {},
   "source": [
    "## Déclaration des capteurs\n",
    "\n",
    "Déclaration des adresses des capteurs et des constantes utilisées pour les mesures."
   ]
  },
  {
   "cell_type": "code",
   "execution_count": 2,
   "metadata": {
    "collapsed": true
   },
   "outputs": [],
   "source": [
    "# Constant declarations\n",
    "#----------------------\n",
    "# i2c bus 1 on RaspBerry Pi\n",
    "bus1 = 0\n",
    "mcpAddr = 0x18\n",
    "bmeAddr = 0x77\n",
    "bmpAddr = 0x76\n",
    "tslAddr = 0x39\n",
    "mplAddr = 0x60\n",
    "\n",
    "localAlt = 156.5\n",
    "UPPER_TEMP = 0x02\n",
    "LOWER_TEMP = 0x03\n",
    "CRIT_TEMP = 0x04"
   ]
  },
  {
   "cell_type": "markdown",
   "metadata": {},
   "source": [
    "## Ouverture du canal 1 du multiplexeur\n",
    "\n",
    "On déclare le multiplexeur et on ouvre le canal 1 où sont connectés les capteurs."
   ]
  },
  {
   "cell_type": "code",
   "execution_count": 74,
   "metadata": {
    "collapsed": true
   },
   "outputs": [],
   "source": [
    "# Select channel 1 on the multiplexer \n",
    "multiplex1 = multi.TCA9548A(bus1, multi.TCA9548A_DEFAULT_ADDR)\n",
    "multiplex1.setPort(1,multiplex1.ENABLED,multiplex1.EXCLUSIVE)"
   ]
  },
  {
   "cell_type": "markdown",
   "metadata": {},
   "source": [
    "### On vérifie que le port soit ouvert et on le ferme"
   ]
  },
  {
   "cell_type": "code",
   "execution_count": 75,
   "metadata": {
    "collapsed": false
   },
   "outputs": [
    {
     "name": "stdout",
     "output_type": "stream",
     "text": [
      "True\n"
     ]
    }
   ],
   "source": [
    "print(multiplex1.getPort(1))"
   ]
  },
  {
   "cell_type": "code",
   "execution_count": 76,
   "metadata": {
    "collapsed": false
   },
   "outputs": [
    {
     "name": "stdout",
     "output_type": "stream",
     "text": [
      "False\n"
     ]
    }
   ],
   "source": [
    "multiplex1.disableAllPorts()\n",
    "print(multiplex1.getPort(1))"
   ]
  },
  {
   "cell_type": "markdown",
   "metadata": {},
   "source": [
    "## Ouverture du canal 3 du multiplexeur\n",
    "\n",
    "On déclare le multiplexeur et on ouvre le canal 3 où sont connectés les capteurs."
   ]
  },
  {
   "cell_type": "code",
   "execution_count": 77,
   "metadata": {
    "collapsed": true
   },
   "outputs": [],
   "source": [
    "# Select channel 3 on the multiplexer \n",
    "multiplex2 = multi.TCA9548A(bus1, multi.TCA9548A_DEFAULT_ADDR)\n",
    "multiplex2.setPort(3,multiplex2.ENABLED,multiplex2.EXCLUSIVE)"
   ]
  },
  {
   "cell_type": "markdown",
   "metadata": {},
   "source": [
    "### On vérifie que le port soit ouvert et on le ferme"
   ]
  },
  {
   "cell_type": "code",
   "execution_count": 78,
   "metadata": {
    "collapsed": false
   },
   "outputs": [
    {
     "name": "stdout",
     "output_type": "stream",
     "text": [
      "True\n"
     ]
    }
   ],
   "source": [
    "print(multiplex2.getPort(3))"
   ]
  },
  {
   "cell_type": "code",
   "execution_count": 79,
   "metadata": {
    "collapsed": false
   },
   "outputs": [
    {
     "name": "stdout",
     "output_type": "stream",
     "text": [
      "False\n"
     ]
    }
   ],
   "source": [
    "multiplex2.disableAllPorts()\n",
    "print(multiplex2.getPort(3))"
   ]
  },
  {
   "cell_type": "markdown",
   "metadata": {},
   "source": [
    "## Mesure de pression température via MPL3115A2 sur le 3"
   ]
  },
  {
   "cell_type": "code",
   "execution_count": 3,
   "metadata": {},
   "outputs": [
    {
     "name": "stdout",
     "output_type": "stream",
     "text": [
      "Température : 19.69 °C\tPression : 996.18 hPa\n"
     ]
    }
   ],
   "source": [
    "# Select channel 3 on the multiplexer \n",
    "multiplex2 = multi.TCA9548A(bus1, multi.TCA9548A_DEFAULT_ADDR)\n",
    "multiplex2.setPort(3,multiplex2.ENABLED,multiplex2.EXCLUSIVE)\n",
    "pmpl3 = mpl.MPL3115A2(bus1,mplAddr)\n",
    "temp = pmpl3.getTemperature()\n",
    "press = pmpl3.getPressure () / 100.0\n",
    "print (\"Température : {0:.2f} °C\\tPression : {1:.2f} hPa\".format(temp, press))"
   ]
  },
  {
   "cell_type": "markdown",
   "metadata": {},
   "source": [
    "## Mesure de pression température via BMP180 sur le 1"
   ]
  },
  {
   "cell_type": "code",
   "execution_count": 4,
   "metadata": {},
   "outputs": [
    {
     "name": "stdout",
     "output_type": "stream",
     "text": [
      "Température : 21.40 °C\tPression : 995.16 hPa\n"
     ]
    }
   ],
   "source": [
    "# Select channel 1 on the multiplexer \n",
    "multiplex1 = multi.TCA9548A(bus1, multi.TCA9548A_DEFAULT_ADDR)\n",
    "multiplex1.setPort(1,multiplex1.ENABLED,multiplex1.EXCLUSIVE)\n",
    "bmp180 = bmpx.BMPX8X(bus1)\n",
    "bmp180.update()\n",
    "temp = bmp180.getTemperature()\n",
    "press = bmp180.getPressure () / 100.0\n",
    "print (\"Température : {0:.2f} °C\\tPression : {1:.2f} hPa\".format(temp, press))"
   ]
  },
  {
   "cell_type": "markdown",
   "metadata": {},
   "source": [
    "## Mesure d'hygrométrie température via HTU21D-F sur le 7\n",
    "HTU21D-F ne fonctionne pas...."
   ]
  },
  {
   "cell_type": "code",
   "execution_count": 5,
   "metadata": {},
   "outputs": [
    {
     "ename": "ValueError",
     "evalue": "UPM Invalid Argument: Unknown error in I2c::readReg()",
     "output_type": "error",
     "traceback": [
      "\u001b[0;31m---------------------------------------------------------------------------\u001b[0m",
      "\u001b[0;31mValueError\u001b[0m                                Traceback (most recent call last)",
      "\u001b[0;32m<ipython-input-5-57485c0f855b>\u001b[0m in \u001b[0;36m<module>\u001b[0;34m()\u001b[0m\n\u001b[1;32m      3\u001b[0m \u001b[0mmultiplex3\u001b[0m\u001b[0;34m.\u001b[0m\u001b[0msetPort\u001b[0m\u001b[0;34m(\u001b[0m\u001b[0;36m7\u001b[0m\u001b[0;34m,\u001b[0m\u001b[0mmultiplex1\u001b[0m\u001b[0;34m.\u001b[0m\u001b[0mENABLED\u001b[0m\u001b[0;34m,\u001b[0m\u001b[0mmultiplex1\u001b[0m\u001b[0;34m.\u001b[0m\u001b[0mEXCLUSIVE\u001b[0m\u001b[0;34m)\u001b[0m\u001b[0;34m\u001b[0m\u001b[0m\n\u001b[1;32m      4\u001b[0m \u001b[0mhtu21df\u001b[0m \u001b[0;34m=\u001b[0m \u001b[0mhtud\u001b[0m\u001b[0;34m.\u001b[0m\u001b[0mHTU21D\u001b[0m\u001b[0;34m(\u001b[0m\u001b[0mbus1\u001b[0m\u001b[0;34m)\u001b[0m\u001b[0;34m\u001b[0m\u001b[0m\n\u001b[0;32m----> 5\u001b[0;31m \u001b[0mhtu21df\u001b[0m\u001b[0;34m.\u001b[0m\u001b[0msampleData\u001b[0m\u001b[0;34m(\u001b[0m\u001b[0;34m)\u001b[0m\u001b[0;34m\u001b[0m\u001b[0m\n\u001b[0m\u001b[1;32m      6\u001b[0m \u001b[0mtemp\u001b[0m \u001b[0;34m=\u001b[0m \u001b[0mhtu21df\u001b[0m\u001b[0;34m.\u001b[0m\u001b[0mgetTemperature\u001b[0m\u001b[0;34m(\u001b[0m\u001b[0;34m)\u001b[0m\u001b[0;34m\u001b[0m\u001b[0m\n\u001b[1;32m      7\u001b[0m \u001b[0mpress\u001b[0m \u001b[0;34m=\u001b[0m \u001b[0mhtu21df\u001b[0m\u001b[0;34m.\u001b[0m\u001b[0mgetHumidity\u001b[0m\u001b[0;34m(\u001b[0m\u001b[0;34m)\u001b[0m\u001b[0;34m\u001b[0m\u001b[0m\n",
      "\u001b[0;32m/usr/lib/python3.5/dist-packages/upm/pyupm_htu21d.py\u001b[0m in \u001b[0;36msampleData\u001b[0;34m(self)\u001b[0m\n\u001b[1;32m    154\u001b[0m \u001b[0;34m\u001b[0m\u001b[0m\n\u001b[1;32m    155\u001b[0m         \"\"\"\n\u001b[0;32m--> 156\u001b[0;31m         \u001b[0;32mreturn\u001b[0m \u001b[0m_pyupm_htu21d\u001b[0m\u001b[0;34m.\u001b[0m\u001b[0mHTU21D_sampleData\u001b[0m\u001b[0;34m(\u001b[0m\u001b[0mself\u001b[0m\u001b[0;34m)\u001b[0m\u001b[0;34m\u001b[0m\u001b[0m\n\u001b[0m\u001b[1;32m    157\u001b[0m \u001b[0;34m\u001b[0m\u001b[0m\n\u001b[1;32m    158\u001b[0m \u001b[0;34m\u001b[0m\u001b[0m\n",
      "\u001b[0;31mValueError\u001b[0m: UPM Invalid Argument: Unknown error in I2c::readReg()"
     ]
    }
   ],
   "source": [
    "# Select channel 7 on the multiplexer \n",
    "multiplex3 = multi.TCA9548A(bus1, multi.TCA9548A_DEFAULT_ADDR)\n",
    "multiplex3.setPort(7,multiplex1.ENABLED,multiplex1.EXCLUSIVE)\n",
    "htu21df = htud.HTU21D(bus1)\n",
    "htu21df.sampleData()\n",
    "temp = htu21df.getTemperature()\n",
    "press = htu21df.getHumidity() \n",
    "print (\"Température : {0:.2f} °C\\tHygrométrie : {1:.2f} %\".format(temp, press))"
   ]
  },
  {
   "cell_type": "markdown",
   "metadata": {},
   "source": [
    "## Mesures combinées sur le 1 et le 3"
   ]
  },
  {
   "cell_type": "code",
   "execution_count": 85,
   "metadata": {
    "collapsed": false
   },
   "outputs": [
    {
     "name": "stdout",
     "output_type": "stream",
     "text": [
      "Température bmp : 23.10 °C\tPression bmp : 986.31 hPa\n",
      "Température mpl : 20.38 °C\tPression mpl : 987.13 hPa\n"
     ]
    }
   ],
   "source": [
    "multiplex1.disableAllPorts()\n",
    "multiplex2.disableAllPorts()\n",
    "# Select channel 1 on the multiplexer \n",
    "multiplex1 = multi.TCA9548A(bus1, multi.TCA9548A_DEFAULT_ADDR)\n",
    "multiplex1.setPort(1,multiplex1.ENABLED,multiplex1.EXCLUSIVE)\n",
    "bmp180 = bmpx.BMPX8X(bus1)\n",
    "# Select channel 3 on the multiplexer \n",
    "multiplex2 = multi.TCA9548A(bus1, multi.TCA9548A_DEFAULT_ADDR)\n",
    "multiplex2.setPort(3,multiplex2.ENABLED,multiplex2.INCLUSIVE)\n",
    "pmpl3 = mpl.MPL3115A2(bus1,mplAddr)\n",
    "#measures\n",
    "bmp180.update()\n",
    "temp1 = bmp180.getTemperature()\n",
    "press1 = bmp180.getPressure () / 100.0\n",
    "temp2 = pmpl3.getTemperature()\n",
    "press2 = pmpl3.getPressure () / 100.0\n",
    "print (\"Température bmp : {0:.2f} °C\\tPression bmp : {1:.2f} hPa\".format(temp1, press1))\n",
    "print (\"Température mpl : {0:.2f} °C\\tPression mpl : {1:.2f} hPa\".format(temp2, press2))"
   ]
  },
  {
   "cell_type": "markdown",
   "metadata": {},
   "source": [
    "Au delà on trouvera des morceaux de code éventuellement réutilisables."
   ]
  },
  {
   "cell_type": "code",
   "execution_count": 69,
   "metadata": {
    "collapsed": false
   },
   "outputs": [
    {
     "ename": "RuntimeError",
     "evalue": "UPM Runtime Error: BMP280: bmp280_init() failed",
     "output_type": "error",
     "traceback": [
      "\u001b[0;31m---------------------------------------------------------------------------\u001b[0m",
      "\u001b[0;31mRuntimeError\u001b[0m                              Traceback (most recent call last)",
      "\u001b[0;32m<ipython-input-69-4a68e757db16>\u001b[0m in \u001b[0;36m<module>\u001b[0;34m()\u001b[0m\n\u001b[1;32m      1\u001b[0m \u001b[0;31m# create sensors on the bus 1\u001b[0m\u001b[0;34m\u001b[0m\u001b[0;34m\u001b[0m\u001b[0m\n\u001b[1;32m      2\u001b[0m \u001b[0mtemp\u001b[0m \u001b[0;34m=\u001b[0m \u001b[0mmcp\u001b[0m\u001b[0;34m.\u001b[0m\u001b[0mMCP9808\u001b[0m\u001b[0;34m(\u001b[0m\u001b[0mbus1\u001b[0m\u001b[0;34m)\u001b[0m\u001b[0;34m\u001b[0m\u001b[0m\n\u001b[0;32m----> 3\u001b[0;31m \u001b[0mhygro\u001b[0m \u001b[0;34m=\u001b[0m \u001b[0mbme\u001b[0m\u001b[0;34m.\u001b[0m\u001b[0mBME280\u001b[0m\u001b[0;34m(\u001b[0m\u001b[0mbus1\u001b[0m\u001b[0;34m,\u001b[0m\u001b[0mbmeAddr\u001b[0m\u001b[0;34m)\u001b[0m\u001b[0;34m\u001b[0m\u001b[0m\n\u001b[0m\u001b[1;32m      4\u001b[0m \u001b[0mluxtsl\u001b[0m \u001b[0;34m=\u001b[0m \u001b[0mtsl\u001b[0m\u001b[0;34m.\u001b[0m\u001b[0mTSL2561\u001b[0m\u001b[0;34m(\u001b[0m\u001b[0mbus1\u001b[0m\u001b[0;34m,\u001b[0m \u001b[0mtslAddr\u001b[0m\u001b[0;34m)\u001b[0m\u001b[0;34m\u001b[0m\u001b[0m\n",
      "\u001b[0;32m/usr/lib/python3.5/dist-packages/upm/pyupm_bmp280.py\u001b[0m in \u001b[0;36m__init__\u001b[0;34m(self, bus, addr, cs)\u001b[0m\n\u001b[1;32m    645\u001b[0m         \u001b[0m__init__\u001b[0m\u001b[0;34m(\u001b[0m\u001b[0mupm\u001b[0m\u001b[0;34m:\u001b[0m\u001b[0;34m:\u001b[0m\u001b[0mBME280\u001b[0m \u001b[0mself\u001b[0m\u001b[0;34m)\u001b[0m \u001b[0;34m->\u001b[0m \u001b[0mBME280\u001b[0m\u001b[0;34m\u001b[0m\u001b[0m\n\u001b[1;32m    646\u001b[0m         \"\"\"\n\u001b[0;32m--> 647\u001b[0;31m         \u001b[0mthis\u001b[0m \u001b[0;34m=\u001b[0m \u001b[0m_pyupm_bmp280\u001b[0m\u001b[0;34m.\u001b[0m\u001b[0mnew_BME280\u001b[0m\u001b[0;34m(\u001b[0m\u001b[0mbus\u001b[0m\u001b[0;34m,\u001b[0m \u001b[0maddr\u001b[0m\u001b[0;34m,\u001b[0m \u001b[0mcs\u001b[0m\u001b[0;34m)\u001b[0m\u001b[0;34m\u001b[0m\u001b[0m\n\u001b[0m\u001b[1;32m    648\u001b[0m         \u001b[0;32mtry\u001b[0m\u001b[0;34m:\u001b[0m\u001b[0;34m\u001b[0m\u001b[0m\n\u001b[1;32m    649\u001b[0m             \u001b[0mself\u001b[0m\u001b[0;34m.\u001b[0m\u001b[0mthis\u001b[0m\u001b[0;34m.\u001b[0m\u001b[0mappend\u001b[0m\u001b[0;34m(\u001b[0m\u001b[0mthis\u001b[0m\u001b[0;34m)\u001b[0m\u001b[0;34m\u001b[0m\u001b[0m\n",
      "\u001b[0;31mRuntimeError\u001b[0m: UPM Runtime Error: BMP280: bmp280_init() failed"
     ]
    }
   ],
   "source": [
    "# create sensors on the bus 1\n",
    "temp = mcp.MCP9808(bus1)\n",
    "hygro = bme.BME280(bus1,bmeAddr)\n",
    "luxtsl = tsl.TSL2561(bus1, tslAddr)"
   ]
  },
  {
   "cell_type": "code",
   "execution_count": 4,
   "metadata": {
    "collapsed": true
   },
   "outputs": [],
   "source": [
    "# create sensors on the bus 1\n",
    "temp = mcp.MCP9808(bus1)\n",
    "hygro = bme.BME280(bus1,bmeAddr)\n",
    "luxtsl = tsl.TSL2561(bus1, tslAddr)"
   ]
  },
  {
   "cell_type": "code",
   "execution_count": 5,
   "metadata": {
    "collapsed": true
   },
   "outputs": [],
   "source": [
    "# Sensor Functions\n",
    "#---------\n",
    "# bme 280\n",
    "#****************\n",
    "def get_bmSensor(thisSensor) :\n",
    "    name = thisSensor.getModuleName ()\n",
    "    bmpId = thisSensor.getChipID ()\n",
    "    print ('capteur : %s\\t'%name + 'Id : %d\\n'%bmpId)\n",
    "    return\n",
    "\n",
    "def reset_bmSensor(thisSensor) :\n",
    "    thisSensor.reset()\n",
    "    return\n",
    "\n",
    "def mes_bmTPA(thisSensor) :\n",
    "    thisSensor.update ()\n",
    "    bmTemp = thisSensor.getTemperature ()\n",
    "    bmPress = thisSensor.getPressure () /100.0\n",
    "    bmAlt = thisSensor.getAltitude ()\n",
    "    return(bmTemp, bmPress, bmAlt)\n",
    "\n",
    "def mes_bmeHum(thisSensor) :\n",
    "    thisSensor.update ()\n",
    "    bmeHum = thisSensor.getHumidity ()\n",
    "    return(bmeHum)\n",
    "\n",
    "def convertSeaLevel (m_Pressure,m_Temperature,m_alt):\n",
    "#    s_Pressure = m_Pressure / math.pow(1.0 - localAlt/44330, 5.255)\n",
    "    s_Pressure = m_Pressure * math.pow((1 - 0.0065 * m_alt / ( m_Temperature + 0.0065 * m_alt + 273.15)), -5.257) \n",
    "#    s_Pressure = m_Pressure / math.pow((1 - 0.0065 * m_alt / m_Temperature), 5.255 )\n",
    "    return s_Pressure\n",
    "\n",
    "# MCP9808\n",
    "#********\n",
    "def get_mcpSensor(thisSensor):\n",
    "    unity = thisSensor.isCelsius()\n",
    "    upper = thisSensor.getMonitorReg (UPPER_TEMP)\n",
    "    lower = thisSensor.getMonitorReg (LOWER_TEMP)\n",
    "    critic = thisSensor.getMonitorReg (CRIT_TEMP)\n",
    "    hyst = thisSensor.getHysteresis ()\n",
    "    resol = thisSensor.getResolution ()\n",
    "    idManuf = thisSensor.getManufacturer ()\n",
    "    mcpId = thisSensor.getDevicedId ()\n",
    "    if unity :\n",
    "        print ('We are measuring in Celsius')\n",
    "    else :\n",
    "        print ('We are measuring in Fahrenheit')\n",
    "    print ('\\tLower T° : %.3f\\n'%lower + '\\tUpperT° : %.3f\\n'%upper + '\\tCritical T° : %.3f\\n'%critic)\n",
    "    print ('Hysteresis value : %.3f'%hyst)\n",
    "    print ('Resolution : %.4f'%resol)\n",
    "    print ('Manufacturer Id : %d'%idManuf)\n",
    "    print ('Device Id : %d\\n'%mcpId)\n",
    "    return\n",
    "\n",
    "def mes_mcpTemp(thisSensor):\n",
    "    mcpTemp = thisSensor.getTemp ()\n",
    "    return (mcpTemp)\n",
    "\n",
    "# TSL2561\n",
    "#*******\n",
    "def mes_tslLux(thisSensor) :\n",
    "    lux = thisSensor.getLux ()\n",
    "    return(lux)\n",
    "\n",
    "def input_thread(CheckInput):\n",
    "    check = input()\n",
    "    CheckInput.append(check)\n",
    "    return\n",
    "\n",
    "def init_Thread () :\n",
    "    CheckInput = []\n",
    "    _thread.start_new_thread(input_thread, (CheckInput,))\n",
    "    print ('Instructions :  \\t\"stop\" pour arrêter les mesures.\\n')\n",
    "    print ('\\t\\t\"resetBME\" pour redémarrer le capteur BME280')\n",
    "    return (CheckInput)\n"
   ]
  },
  {
   "cell_type": "code",
   "execution_count": 6,
   "metadata": {
    "collapsed": false
   },
   "outputs": [
    {
     "name": "stdout",
     "output_type": "stream",
     "text": [
      "Instructions :  \t\"start\" pour démarrer les mesures \"check\" pour la maintenance \"exit\" pour sortir.\n",
      "--> start\n",
      "Instructions :  \t\"stop\" pour arrêter les mesures.\n",
      "\n",
      "\t\t\"resetBME\" pour redémarrer le capteur BME280\n",
      "Int. Lum. : \tHumid(BME) : \tTemp(MCP) : \tTemp(BME) :  \tAlt(BME) : \tPress(BME) : \tPress(SealevelBME) : \n",
      "12.00\t\t38.6\t\t23.3750 °C\t25.04 °C\t80.66 m\t\t1003.59 hPa\t\t1021.72 hPa\t\n",
      "12.00\t\t38.6\t\t23.3750 °C\t25.04 °C\t80.68 m\t\t1003.59 hPa\t\t1021.72 hPa\t\n",
      "stop\n",
      "Arrêt demandé.\n"
     ]
    }
   ],
   "source": [
    "# Main function\n",
    "###############\n",
    "def measureMeteoParams():\n",
    "    nbmes = 0\n",
    "    while True :\n",
    "        option1 = input('Instructions :  \\t\"start\" pour démarrer les mesures \"check\" pour la maintenance \"exit\" pour sortir.\\n--> ')\n",
    "        if option1 == 'exit' :\n",
    "            break\n",
    "        elif option1 == 'start' :\n",
    "            break\n",
    "# Main loop\n",
    "    if option1.strip() == 'start' :\n",
    "        CheckInput = init_Thread()\n",
    "        while True :\n",
    "            if CheckInput == ['stop']: \n",
    "                print ('Arrêt demandé.')\n",
    "                break\n",
    "            elif CheckInput != [] :\n",
    "                print ('Commande inconnue : \"%s\"\\n'%CheckInput)\n",
    "                thread.start_new_thread(input_thread, (CheckInput,))\n",
    "                del CheckInput[:]\n",
    "            else :\n",
    "                time.sleep (0.5)\n",
    "            tempHR = mes_mcpTemp(temp)\n",
    "            hygroBME = mes_bmeHum(hygro) \n",
    "            [tempBME,pressBME,altBME] = mes_bmTPA(hygro)\n",
    "            seaLevelPress = convertSeaLevel (pressBME,tempBME,localAlt)\n",
    "            lux = mes_tslLux(luxtsl)\n",
    "            if nbmes == 0 :\n",
    "                print ('Int. Lum. : \\tHumid(BME) : \\tTemp(MCP) : \\tTemp(BME) :  \\tAlt(BME) : \\tPress(BME) : \\tPress(SealevelBME) : ' )\n",
    "                nbmes += 1\n",
    "            elif nbmes == 9 :\n",
    "                nbmes = 0\n",
    "            else :\n",
    "                nbmes += 1\n",
    "            print ('%.2f\\t\\t' %lux + '%2.1f\\t\\t' %hygroBME + '%.4f °C\\t' %tempHR +  '%.2f °C\\t' %tempBME + '%.2f m\\t\\t' %altBME  + '%.2f hPa\\t\\t' %pressBME + '%.2f hPa\\t' %seaLevelPress)\n",
    "\n",
    "            time.sleep (5)\n",
    "    else :\n",
    "        print ('Bye...')\n",
    "    return\n",
    "\n",
    "measureMeteoParams()\n"
   ]
  },
  {
   "cell_type": "code",
   "execution_count": 17,
   "metadata": {
    "collapsed": true
   },
   "outputs": [],
   "source": [
    "# create sensors on the bus 1\n",
    "tphyg = htud.HTU21D(bus1)\n",
    "bmp = bme.BMP280(bus1)\n",
    "ppress = mpl.MPL3115A2(bus1)"
   ]
  },
  {
   "cell_type": "code",
   "execution_count": 18,
   "metadata": {
    "collapsed": false
   },
   "outputs": [
    {
     "name": "stdout",
     "output_type": "stream",
     "text": [
      "capteur : BMP280\tId : 88\n"
     ]
    }
   ],
   "source": [
    "name = bmp.getModuleName ()\n",
    "bmpId = bmp.getChipID ()\n",
    "print ('capteur : %s\\t'%name + 'Id : %d'%bmpId)"
   ]
  },
  {
   "cell_type": "code",
   "execution_count": 19,
   "metadata": {
    "collapsed": false
   },
   "outputs": [
    {
     "name": "stdout",
     "output_type": "stream",
     "text": [
      "Temp(BMP) :  \tAlt(BMP) : \tPress(BMP) : \n",
      "24.4300 °C\t79.84 m\t\t1003.69 hPa\n"
     ]
    }
   ],
   "source": [
    "bmp.update ()\n",
    "bmTemp = bmp.getTemperature ()\n",
    "bmPress = bmp.getPressure () /100.0\n",
    "bmAlt = bmp.getAltitude ()\n",
    "print ('Temp(BMP) :  \\tAlt(BMP) : \\tPress(BMP) : ' )\n",
    "print ('%.4f °C\\t' %bmTemp + '%.2f m\\t\\t' %bmAlt  + '%.2f hPa' %bmPress)"
   ]
  },
  {
   "cell_type": "code",
   "execution_count": 22,
   "metadata": {
    "collapsed": false
   },
   "outputs": [
    {
     "name": "stdout",
     "output_type": "stream",
     "text": [
      "Int. Lum. : \tHumid(BME) : \tTemp(MCP) : \tTemp(BME) :  \tAlt(BME) : \tPress(BME) : \tPress(SealevelBME) : \n",
      "12.00\t\t0.0\t\t23.4375 °C\t-139.10 °C\t2370.67 m\t\t758.95 hPa\t\t789.72 hPa\t\n",
      "Temp(BMP) :  \tAlt(BMP) : \tPress(BMP) : \n",
      "-139.7200 °C\t1662.41 m\t\t828.77 hPa\n"
     ]
    }
   ],
   "source": [
    "tempHR = mes_mcpTemp(temp)\n",
    "hygroBME = mes_bmeHum(hygro) \n",
    "[tempBME,pressBME,altBME] = mes_bmTPA(hygro)\n",
    "seaLevelPress = convertSeaLevel (pressBME,tempBME,localAlt)\n",
    "lux = mes_tslLux(luxtsl)\n",
    "print ('Int. Lum. : \\tHumid(BME) : \\tTemp(MCP) : \\tTemp(BME) :  \\tAlt(BME) : \\tPress(BME) : \\tPress(SealevelBME) : ' )\n",
    "print ('%.2f\\t\\t' %lux + '%2.1f\\t\\t' %hygroBME + '%.4f °C\\t' %tempHR +  '%.2f °C\\t' %tempBME + '%.2f m\\t\\t' %altBME  + '%.2f hPa\\t\\t' %pressBME + '%.2f hPa\\t' %seaLevelPress)\n",
    "bmp.update ()\n",
    "bmTemp = bmp.getTemperature ()\n",
    "bmPress = bmp.getPressure () /100.0\n",
    "bmAlt = bmp.getAltitude ()\n",
    "print ('Temp(BMP) :  \\tAlt(BMP) : \\tPress(BMP) : ' )\n",
    "print ('%.4f °C\\t' %bmTemp + '%.2f m\\t\\t' %bmAlt  + '%.2f hPa' %bmPress)\n"
   ]
  }
 ],
 "metadata": {
  "kernelspec": {
   "display_name": "Python 3",
   "language": "python",
   "name": "python3"
  },
  "language_info": {
   "codemirror_mode": {
    "name": "ipython",
    "version": 2
   },
   "file_extension": ".py",
   "mimetype": "text/x-python",
   "name": "python",
   "nbconvert_exporter": "python",
   "pygments_lexer": "ipython2",
   "version": "2.7.13"
  }
 },
 "nbformat": 4,
 "nbformat_minor": 2
}
