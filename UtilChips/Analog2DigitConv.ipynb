{
 "cells": [
  {
   "cell_type": "markdown",
   "metadata": {},
   "source": [
    "# Utilisation de convertisseurs Analogique --> digital\n",
    "\n",
    "Ce cahier démontre l'utilisation des convertisseurs analogique numérique\n",
    " * ADS1015 16bit\n",
    " * ADS1115 12 bit\n",
    "L'exploitation de ces éléments requiert le calibrage des capteurs analogiques et le choix des bons paramètres de configuration. L'exemple présenté ici a été réalisé en mode différentiel et le capteur UV était à l'ombre.\n",
    "La figure ci-dessous présente l'ensemble du dispositif :\n",
    "\n",
    "![Convertisseurs vue générale](images/allDAC.jpg)\n",
    "                        ![licence : Gérard Vidal](images/Licence.jpg)\n",
    "                        \n",
    "Le câblage des convertisseurs est simple, le point requérant un peu d'attention est le choix de l'adresse qui repose sur la connexion entre la broche `ADDR` et l'une des 4 broches `VDD` `GND` `SCL` `SDA`  permettant d'affecter le concvertisseur à l'adresse `0x49` `0x48` `0x4B` `0x4A`. Les signaux différentiels sont issus des cables jaune/blanc et jaune/noir connectés sur les broches `A0 A1 A2 A3` :\n",
    "\n",
    "![Convertisseurs vue du câblage](images/dacDAC.jpg)\n",
    "                        ![licence : Gérard Vidal](images/Licence.jpg)\n",
    "\n",
    "L'image suivante montre la connexion des deux capteurs de gaz Méthane d'un côté et Alcool de l'autre:\n",
    "\n",
    "![Capteurs gaz connectés au convertisseur](images/gazDAC.jpg)\n",
    "                        ![licence : Gérard Vidal](images/Licence.jpg)\n",
    "\n",
    "Un capteur UV a aussi été connecté pour \n"
   ]
  },
  {
   "cell_type": "code",
   "execution_count": 1,
   "metadata": {
    "collapsed": true
   },
   "outputs": [],
   "source": [
    "import mraa, upm\n",
    "from time import sleep\n",
    "from upm import pyupm_ads1x15 as upm"
   ]
  },
  {
   "cell_type": "code",
   "execution_count": 2,
   "metadata": {
    "collapsed": false
   },
   "outputs": [],
   "source": [
    "ads1015 = upm.ADS1015(0, 0x48)\n",
    "ads1015.getSample(upm.ADS1X15.DIFF_0_1)\n",
    "#ads1015.getSample(upm.ADS1X15.SINGLE_2)\n",
    "ads1015.setGain(upm.ADS1X15.GAIN_ONE)\n",
    "ads1015.setSPS(upm.ADS1015.SPS_128)\n",
    "ads1015.setContinuous(True)"
   ]
  },
  {
   "cell_type": "code",
   "execution_count": 3,
   "metadata": {
    "collapsed": true
   },
   "outputs": [],
   "source": [
    "ads1115 = upm.ADS1115(0, 0x49)\n",
    "ads1115.getSample(upm.ADS1X15.DIFF_0_1)\n",
    "#ads1115.getSample(upm.ADS1X15.SINGLE_0)\n",
    "ads1115.setGain(upm.ADS1X15.GAIN_ONE)\n",
    "ads1115.setSPS(upm.ADS1115.SPS_16)\n",
    "ads1115.setContinuous(True)"
   ]
  },
  {
   "cell_type": "code",
   "execution_count": 9,
   "metadata": {
    "collapsed": false
   },
   "outputs": [
    {
     "name": "stdout",
     "output_type": "stream",
     "text": [
      "UV : 0.0160000\tMethane : 3.2257502\tAlcohol : 0.5031250\n",
      "UV : 0.0160000\tMethane : 3.2478752\tAlcohol : 0.4992500\n",
      "UV : 0.0160000\tMethane : 3.2360001\tAlcohol : 0.4957500\n",
      "UV : 0.0160000\tMethane : 3.2340002\tAlcohol : 0.4920000\n",
      "UV : 0.0160000\tMethane : 3.2345002\tAlcohol : 0.4893750\n"
     ]
    }
   ],
   "source": [
    "for num in range(0,5):\n",
    "    print('UV : %.7f\\t' % ads1015.getSample(upm.ADS1X15.DIFF_0_1) + 'Methane : %.7f\\t' % ads1115.getSample(upm.ADS1X15.DIFF_0_1) + 'Alcohol : %.7f' % ads1115.getSample(upm.ADS1X15.DIFF_2_3))\n",
    "    sleep(2)"
   ]
  },
  {
   "cell_type": "code",
   "execution_count": 10,
   "metadata": {
    "collapsed": false
   },
   "outputs": [
    {
     "name": "stdout",
     "output_type": "stream",
     "text": [
      "ads1015 : 0.0160000\n",
      "ads1015 : 0.0160000\n",
      "ads1015 : 0.0160000\n",
      "ads1015 : 0.0160000\n",
      "ads1015 : 0.0160000\n"
     ]
    }
   ],
   "source": [
    "for num in range(0,5):\n",
    "    print('ads1015 : %.7f' % ads1015.getLastSample())\n",
    "    sleep(2)\n",
    "    "
   ]
  },
  {
   "cell_type": "code",
   "execution_count": 11,
   "metadata": {
    "collapsed": false,
    "deletable": true,
    "editable": true
   },
   "outputs": [
    {
     "name": "stdout",
     "output_type": "stream",
     "text": [
      "ads1115 : 3.2110002\n",
      "ads1115 : 3.2106252\n",
      "ads1115 : 3.1907501\n",
      "ads1115 : 3.2085001\n",
      "ads1115 : 3.2083752\n"
     ]
    }
   ],
   "source": [
    "for num in range(0,5):\n",
    "    print('ads1115 : %.7f' % ads1115.getLastSample())\n",
    "    sleep(1)"
   ]
  },
  {
   "cell_type": "code",
   "execution_count": 12,
   "metadata": {
    "collapsed": false
   },
   "outputs": [
    {
     "name": "stdout",
     "output_type": "stream",
     "text": [
      "ads1015 : 0.0160000\tads1115 : 3.1850002\n",
      "ads1015 : 0.0160000\tads1115 : 3.1608751\n",
      "ads1015 : 0.0160000\tads1115 : 3.2055001\n",
      "ads1015 : 0.0160000\tads1115 : 3.2120001\n",
      "ads1015 : 0.0160000\tads1115 : 3.1998751\n"
     ]
    }
   ],
   "source": [
    "for num in range(0,5):\n",
    "    print('ads1015 : %.7f\\t' % ads1015.getLastSample() + 'ads1115 : %.7f' % ads1115.getLastSample())\n",
    "    sleep(2)"
   ]
  },
  {
   "cell_type": "code",
   "execution_count": null,
   "metadata": {
    "collapsed": true,
    "deletable": true,
    "editable": true
   },
   "outputs": [],
   "source": []
  },
  {
   "cell_type": "code",
   "execution_count": null,
   "metadata": {
    "collapsed": true,
    "deletable": true,
    "editable": true
   },
   "outputs": [],
   "source": []
  }
 ],
 "metadata": {
  "kernelspec": {
   "display_name": "Python 3",
   "language": "python",
   "name": "python3"
  },
  "language_info": {
   "codemirror_mode": {
    "name": "ipython",
    "version": 3
   },
   "file_extension": ".py",
   "mimetype": "text/x-python",
   "name": "python",
   "nbconvert_exporter": "python",
   "pygments_lexer": "ipython3",
   "version": "3.5.3"
  }
 },
 "nbformat": 4,
 "nbformat_minor": 2
}
