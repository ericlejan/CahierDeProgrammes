{
 "cells": [
  {
   "cell_type": "markdown",
   "metadata": {
    "extensions": {
     "jupyter_dashboards": {
      "version": 1,
      "views": {
       "grid_default": {},
       "report_default": {
        "hidden": false
       }
      }
     }
    }
   },
   "source": [
    "\n",
    "|  |\n",
    "| ------------------------------------------------------- | \n",
    "| ![Tremplin des sciences](images/tremplinColorSmall.png) | \n",
    "\n",
    "Cahier d'exercices pour l'enseignement et l'apprentissage de programmation issu de la collection \"Climat et météo tremplin pour l'enseignement des sciences\" (PIA IFÉ ENS de Lyon - Météofrance ENM Toulouse). Le dispositif clef en main repose sur l'utilisation d'une RaspberryPi chargée avec le système d'exploitation Debian enrichi, fourni par le projet. Les sources et les exécutables sont accessibles dans [l'espace collaboratif de la forge github](https://github.com/g-vidal/CahierDeProgrammes); plus d'information sur les [blogs d'accompagnement](http://blog.climatetmeteo.fr/GerardVidal/) systèmes d'exploitation sur [la page des OS  de Raspberries Pi](http://mediaserv.climatetmeteo.fr/images/RaspBerry/DebianStretchPi3/).  Toutes les ressources issues du projet sont fournies sous licence [Creative Commons](https://creativecommons.org/licenses/by-nc/4.0/) ou sous les licences libres d'origine des outils utilisés. Les ressources  du projet peuvent être utilisées dans tout autre environnement compatible.![licence : Creative Commons](images/Licence.jpg) \n",
    "\n",
    "Auteurs : G. Vidal, C-H. Eyraud, E. le Jan\n",
    "\n",
    "------------------------------------------------------------"
   ]
  },
  {
   "cell_type": "markdown",
   "metadata": {
    "extensions": {
     "jupyter_dashboards": {
      "version": 1,
      "views": {
       "grid_default": {},
       "report_default": {
        "hidden": false
       }
      }
     }
    }
   },
   "source": [
    "# Premiers pas avec les diodes electro-luminescentes (DEL ou LED)\n",
    "\n",
    "Une diode électroluminescente est un composé électronique qui émet de la lumière lorsqu'il est parcouru par un courant électrique. Un tel composant électronique peut être une plus value importante pour de nombreux projets ou expériences thématiques mettant en jeu des outils de mesure électronique. Nous allons voir que la maîtrise d'une diode est accessible avec des rudiments de programmation.\n",
    "L'une des particularités de ce composant est qu'il ne peut être parcouru par le courant que *dans un seul sens*. Si l'on permute les bornes **+** et **-** le courant est bloqué (aucune intensité ne parcourt le composant) et la diode (LED) reste éteinte. Nous allons voir comment exploiter cette particularité en contrôlant l'alimentation dune LED par un programme simple. \n",
    "\n",
    "![Light-Emitting Diode - Diode électro luminescente](images/led_schema.jpg)\n",
    "                        ![licence : Charles-Henri Eyraud](images/Licence.jpg)\n",
    "\n",
    "Nous utilisons pour cette expérimentation une Raspberry Pi qui est un nano-ordinateur disposant de broches que l'on peut relier à des composants électroniques comme les LEDs. Nous allons utiliser le langage _python_ et pour rendre les choses aussi accessibles que possible nous n'utiliserons que des instructions simples en petit nombre. Pour parvenir à cela ces instructions simples font appel à des programmes invisibles pour l'utilisateur qui contrôlent les détails de l'interaction entre la Raspberry Pi, les broches et les composants.\n",
    "\n",
    "\n",
    "C'est le mode de fonctionnement standard pour développer un code, on utilise des programmes préexistants (par exemple en programmaton graphique comme dans Scratch ou Snap! on utilise sans s'en apercevoir une grande quantité de programmes qui affichent les objets à l'écran, les déplacent et les enchaînent). Tous ces programmes sont en général regroupés dans des objets appelés bibliothèques, stockés sur le disque de la machine et prêts à l'emploi, chaque fois qu'on en a besoin on _appelle_ le programme caché qui va exécuter ce qu'on attend de lui. Pour accéder à une bibliothèque on utilise l'instruction :\n",
    "\n",
    "* **import** *nom_de_la_bibliothèque* **as** *nom_de_la_bibliothèque_utilisé_dans_le_programme*\n",
    "\n",
    "Pour appeler le programme en python on écrit :\n",
    "\n",
    "* *nom_de_la_bibliothèque_utilisé_dans_le_programme* **.** *nom_du_programme_appelé*\n",
    "\n",
    "\n",
    "Les instructions _import_ doivent **systématiquement** figurer en tête de chaque programme. Lors de la phase d'apprentissage elles ne doivent être utilisées qu'**une seule fois** par  programme, c'est pour cela qu'elles sont placées dans un bloc particulier au début du programme. "
   ]
  },
  {
   "cell_type": "markdown",
   "metadata": {
    "extensions": {
     "jupyter_dashboards": {
      "version": 1,
      "views": {
       "grid_default": {},
       "report_default": {
        "hidden": false
       }
      }
     }
    }
   },
   "source": [
    "## Contrôler l'allumage et l'extinction d'une LED par un programme\n",
    "\n",
    "### Montage\n",
    "\n",
    "Nous allons utiliser le montage encadré ci-dessous et connecter deux broches de la Raspberry Pi. \n",
    "Nous utilisons dans tous les cahiers le **numéro de la broche** en commençant en haut à gauche en descendant et en augmentant de droite à gauche (les connecteurs USB et RJ45 de la Raspberry Pi étant orientés vers le bas).\n",
    "\n",
    "Connecter la patte longue de la LED à la broche 13 en y intercalant une résistance de 100 à 300 ohms et le fil noir à la broche 6 (GROUND). \n",
    "\n",
    "![montage LED](images/RaspberryPi_Led_Detail.jpg)\n",
    "                        ![licence : Charles-Henri Eyraud](images/Licence.jpg)\n",
    "                        \n",
    "\n",
    "### Programme\n",
    "\n",
    "Pour allumer la LED notre programme va être construit au fur et à mesure, il faut commencer par\n",
    "\n",
    "   * importer les programmes de la bibliothèque mraa\n",
    "   * déclarer l'utilisation de la broche 13"
   ]
  },
  {
   "cell_type": "code",
   "execution_count": 1,
   "metadata": {
    "extensions": {
     "jupyter_dashboards": {
      "version": 1,
      "views": {
       "grid_default": {},
       "report_default": {
        "hidden": true
       }
      }
     }
    }
   },
   "outputs": [],
   "source": [
    "import mraa\n",
    "led = mraa.Gpio(13)"
   ]
  },
  {
   "cell_type": "markdown",
   "metadata": {
    "extensions": {
     "jupyter_dashboards": {
      "version": 1,
      "views": {
       "grid_default": {},
       "report_default": {
        "hidden": false
       }
      }
     }
    }
   },
   "source": [
    "Toutes les broches disposent de trois modes de fonctionnement :\n",
    "\n",
    " * soit le mode *in* pour **recevoir** des données \n",
    " * soit le mode  *out* pour **envoyer** un signal ou un courant.\n",
    " * soit un mode *barrière* pour bloquer tout courant (résistance infinie)\n",
    "\n",
    "La broche 13 est reliée à l'anode (le **+**), elle doit donc envoyer du courant.\n",
    "\n",
    " * il faut déclarer la broche 13 en mode sortie *out* . On utilise l'instruction _dir_ (direction) qui affecte le mode sortie (DIR_OUT) à la LED déclarée ci dessus. L'instruction _dir_ envoie un message après avoir fonctionné qui renseigne sur l'état de la broche.\n",
    "\n",
    " * l'état de la broche est indiqué par un nombre (0 correct, 7 erreur) et recueilli dans la variable status. Pour afficher l'état décommenter la seconde ligne de ce bloc."
   ]
  },
  {
   "cell_type": "code",
   "execution_count": 2,
   "metadata": {
    "extensions": {
     "jupyter_dashboards": {
      "version": 1,
      "views": {
       "grid_default": {},
       "report_default": {
        "hidden": true
       }
      }
     }
    }
   },
   "outputs": [],
   "source": [
    "status = led.dir(mraa.DIR_OUT)\n",
    "#print ('Return status : {0:1d}'.format(status))"
   ]
  },
  {
   "cell_type": "markdown",
   "metadata": {
    "extensions": {
     "jupyter_dashboards": {
      "version": 1,
      "views": {
       "grid_default": {},
       "report_default": {
        "hidden": false
       }
      }
     }
    }
   },
   "source": [
    "Pour allumer la LED on met la sortie au niveau 1 avec l'instruction *write*\n",
    "* l'état de la broche est fourni  (0 correct, 7 erreur) et recueilli dans la variable status. Pour afficher l'état décommenter la seconde ligne de ce bloc."
   ]
  },
  {
   "cell_type": "code",
   "execution_count": 3,
   "metadata": {
    "extensions": {
     "jupyter_dashboards": {
      "version": 1,
      "views": {
       "grid_default": {},
       "report_default": {
        "hidden": true
       }
      }
     }
    }
   },
   "outputs": [],
   "source": [
    "status = led.write(1)\n",
    "#print ('Return status : {0:1d}'.format(status))"
   ]
  },
  {
   "cell_type": "markdown",
   "metadata": {
    "extensions": {
     "jupyter_dashboards": {
      "version": 1,
      "views": {
       "grid_default": {},
       "report_default": {
        "hidden": false
       }
      }
     }
    }
   },
   "source": [
    "On éteint la LED en mettant la sortie au niveau 0 avec l'instruction *write*\n",
    "* l'état de la broche est fourni  (0 correct, 7 erreur) et recueilli dans la variable status. Pour afficher l'état décommenter la seconde ligne de ce bloc."
   ]
  },
  {
   "cell_type": "code",
   "execution_count": 4,
   "metadata": {
    "extensions": {
     "jupyter_dashboards": {
      "version": 1,
      "views": {
       "grid_default": {},
       "report_default": {
        "hidden": true
       }
      }
     }
    }
   },
   "outputs": [],
   "source": [
    "status = led.write(0)\n",
    "#print ('Return status : {0:1d}'.format(status))"
   ]
  },
  {
   "cell_type": "markdown",
   "metadata": {
    "extensions": {
     "jupyter_dashboards": {
      "version": 1,
      "views": {
       "grid_default": {},
       "report_default": {
        "hidden": false
       }
      }
     }
    }
   },
   "source": [
    "### En cas de broche _\"hors service\"_\n",
    "\n",
    "En cas de déclaration multiple de la broche, celle-ci peut se trouver dans un état _\"hors service\"_: la situation est récupérable en déclarant la broche en entrée IN, puis à nouveau en sortie OUT avec les instructions :"
   ]
  },
  {
   "cell_type": "code",
   "execution_count": null,
   "metadata": {
    "extensions": {
     "jupyter_dashboards": {
      "version": 1,
      "views": {
       "grid_default": {},
       "report_default": {
        "hidden": true
       }
      }
     }
    }
   },
   "outputs": [],
   "source": [
    "led.dir(mraa.DIR_IN)\n",
    "led.dir(mraa.DIR_OUT)"
   ]
  },
  {
   "cell_type": "markdown",
   "metadata": {
    "extensions": {
     "jupyter_dashboards": {
      "version": 1,
      "views": {
       "grid_default": {},
       "report_default": {
        "hidden": false
       }
      }
     }
    }
   },
   "source": [
    "Toutefois si l'indisponibilité persiste ouvrir un _terminal_ depuis la page de garde du \"Cahier de programmes\" et exécuter l'instruction :"
   ]
  },
  {
   "cell_type": "code",
   "execution_count": null,
   "metadata": {
    "extensions": {
     "jupyter_dashboards": {
      "version": 1,
      "views": {
       "grid_default": {},
       "report_default": {
        "hidden": true
       }
      }
     }
    }
   },
   "outputs": [],
   "source": [
    "mraa-gpio set 13 0"
   ]
  },
  {
   "cell_type": "markdown",
   "metadata": {
    "collapsed": true,
    "extensions": {
     "jupyter_dashboards": {
      "version": 1,
      "views": {
       "grid_default": {},
       "report_default": {
        "hidden": false
       }
      }
     }
    }
   },
   "source": [
    "## Contrôler le clignotement d'une LED\n",
    "\n",
    "Pour faire clignoter la LED il est nécessaire de contrôler sa durée d'allumage et celle de son extinction et donc de disposer d'instructions prenant en compte les durées; ces instructions sont fournies par la bibliothèque *time* que l'on importe puis on choisit la durée d'allumage et d'extinction **en secondes** :\n",
    "\n",
    "* Exécuter le programme ci-dessous puis commenter chaque étape\n",
    "* Importer la bibliothèque *time*\n",
    "* Allumer la LED pendant ? secondes\n",
    "* Eteindre la LED pendant ? secondes\n",
    "......"
   ]
  },
  {
   "cell_type": "code",
   "execution_count": 5,
   "metadata": {
    "extensions": {
     "jupyter_dashboards": {
      "version": 1,
      "views": {
       "grid_default": {},
       "report_default": {
        "hidden": false
       }
      }
     }
    }
   },
   "outputs": [
    {
     "data": {
      "text/plain": [
       "0"
      ]
     },
     "execution_count": 5,
     "metadata": {},
     "output_type": "execute_result"
    }
   ],
   "source": [
    "import time\n",
    "led.write(1)\n",
    "time.sleep(1)\n",
    "led.write(0)\n",
    "time.sleep(1)\n",
    "led.write(1)\n",
    "time.sleep(1)\n",
    "led.write(0)"
   ]
  },
  {
   "cell_type": "markdown",
   "metadata": {
    "extensions": {
     "jupyter_dashboards": {
      "version": 1,
      "views": {
       "grid_default": {},
       "report_default": {
        "hidden": false
       }
      }
     }
    }
   },
   "source": [
    "###  Exercice 1 : Faire clignoter une LED\n",
    "Brancher une LED sur la broche 35 (GPIO 19) et la faire clignoter 10 fois en un seul programme : une demi-seconde allumée et une demi-seconde éteinte."
   ]
  },
  {
   "cell_type": "code",
   "execution_count": null,
   "metadata": {
    "collapsed": true,
    "extensions": {
     "jupyter_dashboards": {
      "version": 1,
      "views": {
       "grid_default": {},
       "report_default": {
        "hidden": true
       }
      }
     }
    }
   },
   "outputs": [],
   "source": [
    "# Taper le code ici"
   ]
  },
  {
   "cell_type": "markdown",
   "metadata": {
    "extensions": {
     "jupyter_dashboards": {
      "version": 1,
      "views": {
       "grid_default": {},
       "report_default": {
        "hidden": false
       }
      }
     }
    }
   },
   "source": [
    "##  Faire clignoter la led en utilisant une instruction de répétition : la boucle\n",
    "\n",
    "Comme on l'a vu ci dessus il suffit d'imposer le temps d'allumage et d'extinction pour un obtenir un clignotement. Cependant il très fastidieux de répéter plusieurs fois la même séquence d'instructions. La programmation fournit un outil qui décrit une répétition d'instructions et permet en quelques lignes de répéter un grand nombre d'instructions identiques. Le programme ci-dessous utilise la *variable* **i** qui :\n",
    "\n",
    " * prend pour commencer la valeur 0 : *la valeur initiale*\n",
    " * se termine à 20 : *la valeur finale* \n",
    " * en augmentant chaque fois d'une unité : *le pas*\n",
    "\n",
    "On utilise l'instruction range(\"valeur initiale\",\"valeur finale\",\"pas\")\n",
    "\n",
    "Le clignotement se compose d'une phase d'allumage pendant 0.15 s et d'une phase d'extinction de 0.25 s."
   ]
  },
  {
   "cell_type": "code",
   "execution_count": 6,
   "metadata": {
    "extensions": {
     "jupyter_dashboards": {
      "version": 1,
      "views": {
       "grid_default": {},
       "report_default": {
        "hidden": true
       }
      }
     }
    }
   },
   "outputs": [],
   "source": [
    "for i in range(0,20,1) :\n",
    "    led.write(1)\n",
    "    time.sleep(0.15)\n",
    "    led.write(0)\n",
    "    time.sleep(0.25)"
   ]
  },
  {
   "cell_type": "markdown",
   "metadata": {
    "extensions": {
     "jupyter_dashboards": {
      "version": 1,
      "views": {
       "grid_default": {},
       "report_default": {
        "hidden": false
       }
      }
     }
    }
   },
   "source": [
    "### Exercice 2 Instruction conditionnelle if-else\n",
    "\n",
    "Modifier *la valeur initiale*, *la valeur finale* et *le pas* pour modifier le clignotement: Allumage 0.35 s, Extinction 0.2 s, 40 clignotements."
   ]
  },
  {
   "cell_type": "code",
   "execution_count": null,
   "metadata": {
    "collapsed": true,
    "extensions": {
     "jupyter_dashboards": {
      "version": 1,
      "views": {
       "grid_default": {},
       "report_default": {
        "hidden": true
       }
      }
     }
    }
   },
   "outputs": [],
   "source": [
    "for i in range(-,-,-) :\n",
    "    led.write(1)\n",
    "    time.sleep(-.-)\n",
    "    led.write(0)\n",
    "    time.sleep(-.-)"
   ]
  },
  {
   "cell_type": "markdown",
   "metadata": {
    "extensions": {
     "jupyter_dashboards": {
      "version": 1,
      "views": {
       "grid_default": {},
       "report_default": {
        "hidden": false
       }
      }
     }
    }
   },
   "source": [
    "## Introduire un test pour modifier la fréquence de clignottement\n",
    "\n",
    "On peut modifier l'instruction qui est répétée en ajoutant des tests qui permettent de fixer le moment ou le type de clignotement doit changer. Ici on change tous les 10 clignotements."
   ]
  },
  {
   "cell_type": "code",
   "execution_count": 7,
   "metadata": {
    "extensions": {
     "jupyter_dashboards": {
      "version": 1,
      "views": {
       "grid_default": {},
       "report_default": {
        "hidden": true
       }
      }
     }
    }
   },
   "outputs": [],
   "source": [
    "for i in range(0,30,1) :\n",
    "    if (i < 10) :\n",
    "        led.write(1)\n",
    "        time.sleep(1)\n",
    "        led.write(0)\n",
    "        time.sleep(1)\n",
    "    elif (i >= 10 and i < 20) :\n",
    "        led.write(1)\n",
    "        time.sleep(0.2)\n",
    "        led.write(0)\n",
    "        time.sleep(0.2)\n",
    "    else :\n",
    "        led.write(1)\n",
    "        time.sleep(0.05)\n",
    "        led.write(0)\n",
    "        time.sleep(0.05)"
   ]
  },
  {
   "cell_type": "markdown",
   "metadata": {},
   "source": [
    "## Modifier la fréquence de clignottement en fonction du temps\n",
    "\n",
    "Lorsqu'on met en place une boucle il est possible d'utiliser le compteur comme variable pour l'exploiter au sein de la boucle. L'exemple suivant augmente la fréquence d'allumage en réduisant le temps d'éclairage et d'extinction  proportionnellement au temps écoulé."
   ]
  },
  {
   "cell_type": "code",
   "execution_count": 9,
   "metadata": {},
   "outputs": [],
   "source": [
    "duron = 1.0\n",
    "duroff = 2.0\n",
    "for i in range(1,51,1) :\n",
    "    led.write(1)\n",
    "    time.sleep(duron/i)\n",
    "    led.write(0)\n",
    "    time.sleep(duroff/i)"
   ]
  },
  {
   "cell_type": "markdown",
   "metadata": {
    "extensions": {
     "jupyter_dashboards": {
      "version": 1,
      "views": {
       "grid_default": {},
       "report_default": {
        "hidden": false
       }
      }
     }
    }
   },
   "source": [
    "### Exercice 3\n",
    "\n",
    "Décrivez un mode de clignotement composé de plusieurs phases sur le modèle ci-dessus et écrivez le programme correspondant dans le bloc ci-dessous."
   ]
  },
  {
   "cell_type": "code",
   "execution_count": null,
   "metadata": {
    "collapsed": true,
    "extensions": {
     "jupyter_dashboards": {
      "version": 1,
      "views": {
       "grid_default": {},
       "report_default": {
        "hidden": true
       }
      }
     }
    }
   },
   "outputs": [],
   "source": [
    "for i in range(-,-,-) :\n",
    "    if (- < -) :\n",
    "        led.write(1)\n",
    "        time.sleep(-.-)\n",
    "        led.write(0)\n",
    "        time.sleep(-.-)\n",
    "    elif ():\n",
    "    \n",
    "    else :\n",
    "    "
   ]
  }
 ],
 "metadata": {
  "anaconda-cloud": {},
  "extensions": {
   "jupyter_dashboards": {
    "activeView": "report_default",
    "version": 1,
    "views": {
     "grid_default": {
      "name": "grid",
      "type": "grid"
     },
     "report_default": {
      "name": "report",
      "type": "report"
     }
    }
   }
  },
  "kernelspec": {
   "display_name": "Python 3",
   "language": "python",
   "name": "python3"
  },
  "language_info": {
   "codemirror_mode": {
    "name": "ipython",
    "version": 3
   },
   "file_extension": ".py",
   "mimetype": "text/x-python",
   "name": "python",
   "nbconvert_exporter": "python",
   "pygments_lexer": "ipython3",
   "version": "3.6.7"
  }
 },
 "nbformat": 4,
 "nbformat_minor": 2
}
