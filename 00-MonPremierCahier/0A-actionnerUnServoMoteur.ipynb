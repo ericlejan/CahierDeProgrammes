{
 "cells": [
  {
   "cell_type": "markdown",
   "metadata": {},
   "source": [
    "\n",
    "|  |\n",
    "| ------------------------------------------------------- | \n",
    "| ![Tremplin des sciences](images/tremplinColorSmall.png) | \n",
    "\n",
    "Cahier d'exercices pour l'enseignement et l'apprentissage de programmation issu de la collection \"Climat et météo tremplin pour l'enseignement des sciences\" (PIA IFÉ ENS de Lyon - Météofrance ENM Toulouse). Le dispositif clef en main repose sur l'utilisation d'une RaspberryPi chargée avec le système d'exploitation Debian enrichi, fourni par le projet. Les sources et les exécutables sont accessibles dans [l'espace collaboratif de la forge github](https://github.com/g-vidal/CahierDeProgrammes); plus d'information sur les [blogs d'accompagnement](http://blog.climatetmeteo.fr/GerardVidal/) systèmes d'exploitation sur [la page des OS  de Raspberries Pi](http://mediaserv.climatetmeteo.fr/images/RaspBerry/DebianStretchPi3/).  Toutes les ressources issues du projet sont fournies sous licence [Creative Commons](https://creativecommons.org/licenses/by-nc/4.0/) ou sous les licences libres d'origine des outils utilisés. Les ressources  du projet peuvent être utilisées dans tout autre environnement compatible.![licence : Creative Commons](images/Licence.jpg) \n",
    "\n",
    "Auteurs : G. Vidal, C-H. Eyraud, E. le Jan\n",
    "\n",
    "------------------------------------------------------------"
   ]
  },
  {
   "cell_type": "markdown",
   "metadata": {},
   "source": [
    "#  Actionner un servo-moteur  standard\n",
    "\n",
    "Les servo-moteurs sont des organes essentiels des robots ce sont eux qui fournissent les mouvements élémentaires qui combinés entre eux peuvent réaliser des mouvements complexes. Il y a trois types de moteurs :\n",
    " * Les moteurs à courant continu qui permettent de mettre en oeuvre des puissances et des vitesses importantes mais contrôlées, ils peuvent fonctionner dans les deux sens et ne sont pas limités dans l'amplitude du mouvement, ils sont connectés par deux fils reliés à une puce spécialisée qui gère l'intensité et le sens du courant envoyé;\n",
    " * Les servo moteurs comme ceux que nous allons utiliser qui fonctionnent avec de basses tensions, ils ont une amplitude de mouvement limitée 90° ou 180° en général, ils sont connectés avec 3 fils, le + le - et un fil de contrôle fournissant l'angle de rotation, leur vitesse n'est pas contrôlée\n",
    " * Les moteurs pas à pas qui permettent de réaliser des mouvements très précis car leur rotation se fait par des pas angulaires élémentaires très petits, ils sont connectés pa 4 fils.\n",
    " \n",
    "Nous allons utiliser le bras robotisé MeArm équipé de 4 servo moteurs.\n",
    " \n",
    " ## Connexion  du premier servo-moteur \n",
    " \n",
    " Nous utilisons d'abord le servo-moteur de rotation du bras dans le plan horizontal connecté à la broche N° 33 (GPIO #13) et la bibliothèque RPi.GPIO. Les servo-moteurs se contrôlent à une fréquence de 50 Hz soit une période (`Period`) de 0.02 secondes correspondant à 20 millisecondesla configuration de la Raspberry se fait donc avec la commande `pwm1 = gpio.PWM(33, 50)`  qui donne le nom pwm1 au dispositif de contrôle de la broche 33 à 50 Hz.\n",
    " L'angle de rotation est contrôlé par la durée en millisecondes de l'impulsion (`Pulsewidth`) envoyée par le dispositif de contrôle :\n",
    " \n",
    " * Pour un servo moteur avec 90° de liberté\n",
    "     * 1 milliseconde position extrême gauche\n",
    "     * 1.5 milliseconde position intermédiaire\n",
    "     * 2 milliseconde à l'extrême droite\n",
    " * Pour un servo moteur avec 180° de liberté\n",
    "     * 0.5 milliseconde position extrême gauche\n",
    "     * 1.5 milliseconde position intermédiaire\n",
    "     * 2.5 milliseconde à l'extrême droite\n",
    " \n",
    "La commande permettant de modifier la durée de l'impulsion est ChangeDutyCycle() mais elle n'agit pas directement sur l'impulsion mais sur la charge (DutyCycle) exprimée en pourcent (%) qui sont reliés par la relation :  \n",
    " `DutyCycle = PulseWidth/Period`. \n",
    " \n",
    " * Pour avoir une impulsion de 1 milliseconde  on doit fournir la charge :\n",
    "     * DutyCycle = 0.001 /  0.02 = 0.05 = 5%\n",
    " * Pour avoir une impulsion de 1.5 milliseconde  on doit fournir la charge :\n",
    "     * DutyCycle = 0.0015 /  0.02 = 0.075 = 7.5%\n",
    " * Pour avoir une impulsion de 2 milliseconde  on doit fournir la charge :\n",
    "     * DutyCycle = 0.002 /  0.02 = 0.1 = 10%\n",
    " * Pour avoir une impulsion de 0.5 milliseconde  on doit fournir la charge :\n",
    "     * DutyCycle = 0.0005 /  0.02 = 0.025 = 2.5%\n",
    " * Pour avoir une impulsion de 2.5 milliseconde  on doit fournir la charge :\n",
    "     * DutyCycle = 0.0025 /  0.02 = 0.125 = 12.5%\n",
    "     \n",
    "Le programme suivant démarre en position centrale puis effectue une rotation de 90° vers la droite (moteur inversé)  puis une rotation de 180° vers la gauche et retour à la position neutre. les deux premières lignes ne sont exécutées qu'une fois."
   ]
  },
  {
   "cell_type": "code",
   "execution_count": 114,
   "metadata": {},
   "outputs": [],
   "source": [
    "import mraa, time, upm,RPi.GPIO as gpio\n",
    "gpio.setmode(gpio.BOARD)  # BCM ou BOARD pour identifier les broches. choisir BOARD"
   ]
  },
  {
   "cell_type": "code",
   "execution_count": 124,
   "metadata": {},
   "outputs": [],
   "source": [
    "gpio.setup(33, gpio.OUT)\n",
    "pwm1 = gpio.PWM(33, 50)\n",
    "pwm1.start(7.5)\n",
    "time.sleep(1)\n",
    "pwm1.ChangeDutyCycle(2.5)\n",
    "time.sleep(1)\n",
    "pwm1.ChangeDutyCycle(12.5)\n",
    "time.sleep(1)\n",
    "pwm1.ChangeDutyCycle(7.5)\n",
    "time.sleep(1)\n",
    "pwm1.stop()"
   ]
  },
  {
   "cell_type": "markdown",
   "metadata": {},
   "source": [
    "## Connexion de tous les servo-moteurs en position neutre\n",
    "\n",
    "Les 4 servo-moteurs sont allumés en position neutre, le bras est trop en avant et n'est plus contrôlé. Les servo-moteurs seront utilisés sur une partie seulement de la plage disponible."
   ]
  },
  {
   "cell_type": "code",
   "execution_count": 45,
   "metadata": {},
   "outputs": [],
   "source": [
    "gpio.setup(33, gpio.OUT) # Rotation dans le plan horizontal\n",
    "gpio.setup(32, gpio.OUT) # Mouvement avant arrière du bras\n",
    "gpio.setup(36, gpio.OUT) # Mouvement haut bas du bras\n",
    "gpio.setup(35, gpio.OUT) # Mouvement de pince\n",
    "pwm1 = gpio.PWM(33, 50)\n",
    "pwm2 = gpio.PWM(32, 50)\n",
    "pwm3 = gpio.PWM(36, 50)\n",
    "pwm4 = gpio.PWM(35, 50)\n",
    "pwm1.start(7.5)\n",
    "pwm2.start(7.5)\n",
    "pwm3.start(7.5)\n",
    "pwm4.start(7.5)\n",
    "time.sleep(1)\n",
    "pwm1.stop()\n",
    "pwm2.stop()\n",
    "pwm3.stop()\n",
    "pwm4.stop()"
   ]
  },
  {
   "cell_type": "markdown",
   "metadata": {},
   "source": [
    "##  Mouvement avant du bras \n",
    "\n",
    "Le bras démarre en position verticale s'avance et revient en position verticale"
   ]
  },
  {
   "cell_type": "code",
   "execution_count": 125,
   "metadata": {},
   "outputs": [],
   "source": [
    "gpio.setup(32, gpio.OUT) # Mouvement avant arrière du bras\n",
    "pwm2 = gpio.PWM(32, 50)\n",
    "pwm2.start(2)\n",
    "time.sleep(1)\n",
    "pwm2.ChangeDutyCycle(4)\n",
    "time.sleep(1)\n",
    "pwm2.ChangeDutyCycle(2)\n",
    "time.sleep(1)\n",
    "pwm2.stop()"
   ]
  },
  {
   "cell_type": "markdown",
   "metadata": {},
   "source": [
    "## Mouvement Haut bas  du bras\n",
    "\n",
    "La puissance des servo-moteurs est insuffisante pour remonter le bras s'il est trop avancé, on démarre en position semi élevée, le bras monte puis redescend. Pour aider au mouvement le bras avance puis recule."
   ]
  },
  {
   "cell_type": "code",
   "execution_count": 126,
   "metadata": {},
   "outputs": [],
   "source": [
    "gpio.setup(36, gpio.OUT) # Mouvement haut bas du bras\n",
    "gpio.setup(32, gpio.OUT) # Mouvement avant arrière du bras\n",
    "pwm2 = gpio.PWM(32, 50)\n",
    "pwm3 = gpio.PWM(36, 50)\n",
    "pwm2.start(4)\n",
    "pwm3.start(10)\n",
    "time.sleep(1)\n",
    "pwm3.ChangeDutyCycle(10)\n",
    "time.sleep(1)\n",
    "pwm3.ChangeDutyCycle(12.5)\n",
    "time.sleep(1)\n",
    "pwm2.ChangeDutyCycle(2)\n",
    "time.sleep(1)\n",
    "pwm3.ChangeDutyCycle(9)\n",
    "time.sleep(1)\n",
    "pwm2.stop()\n",
    "pwm3.stop()"
   ]
  },
  {
   "cell_type": "markdown",
   "metadata": {},
   "source": [
    "## Mouvement de la pince\n",
    "\n",
    "La pince démarre ouverte et est fermée complètement ensuite."
   ]
  },
  {
   "cell_type": "code",
   "execution_count": 122,
   "metadata": {},
   "outputs": [],
   "source": [
    "gpio.setup(35, gpio.OUT) # Mouvement de pince\n",
    "pwm4 = gpio.PWM(35, 50)\n",
    "pwm4.start(1.5)\n",
    "time.sleep(1)\n",
    "pwm4.ChangeDutyCycle(6)\n",
    "time.sleep(0.5)\n",
    "pwm4.stop()"
   ]
  },
  {
   "cell_type": "markdown",
   "metadata": {},
   "source": [
    "Remise à zéro de toutes les broches"
   ]
  },
  {
   "cell_type": "code",
   "execution_count": 113,
   "metadata": {},
   "outputs": [],
   "source": [
    "gpio.cleanup() "
   ]
  },
  {
   "cell_type": "markdown",
   "metadata": {},
   "source": [
    "# Exercice\n",
    "\n",
    "En utilisant les éléments de programmatin ci-dessus réaliser un mouvement de prise d'un élément d'un côté du bras et dépôt en hauteur de l'autre côté."
   ]
  },
  {
   "cell_type": "code",
   "execution_count": null,
   "metadata": {},
   "outputs": [],
   "source": []
  }
 ],
 "metadata": {
  "kernelspec": {
   "display_name": "Python 3",
   "language": "python",
   "name": "python3"
  },
  "language_info": {
   "codemirror_mode": {
    "name": "ipython",
    "version": 3
   },
   "file_extension": ".py",
   "mimetype": "text/x-python",
   "name": "python",
   "nbconvert_exporter": "python",
   "pygments_lexer": "ipython3",
   "version": "3.6.5rc1"
  }
 },
 "nbformat": 4,
 "nbformat_minor": 2
}
