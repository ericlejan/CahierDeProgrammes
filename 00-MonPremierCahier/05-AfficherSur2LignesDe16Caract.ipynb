{
 "cells": [
  {
   "cell_type": "markdown",
   "metadata": {},
   "source": [
    "\n",
    "|  |\n",
    "| ------------------------------------------------------- | \n",
    "| ![Tremplin des sciences](images/tremplinColorSmall.png) | \n",
    "\n",
    "Cahier d'exercices pour l'enseignement et l'apprentissage de programmation issu de la collection \"Climat et météo tremplin pour l'enseignement des sciences\" (PIA IFÉ ENS de Lyon - Météofrance ENM Toulouse). Le dispositif clef en main repose sur l'utilisation d'une RaspberryPi chargée avec le système d'exploitation Debian enrichi, fourni par le projet. Les sources et les exécutables sont accessibles dans [l'espace collaboratif de la forge github](https://github.com/g-vidal/CahierDeProgrammes); plus d'information sur les [blogs d'accompagnement](http://blog.climatetmeteo.fr/GerardVidal/) systèmes d'exploitation sur [la page des OS  de Raspberries Pi](http://mediaserv.climatetmeteo.fr/images/RaspBerry/DebianStretchPi3/).  Toutes les ressources issues du projet sont fournies sous licence [Creative Commons](https://creativecommons.org/licenses/by-nc/4.0/) ou sous les licences libres d'origine des outils utilisés. Les ressources  du projet peuvent être utilisées dans tout autre environnement compatible.![licence : Creative Commons](images/Licence.jpg) \n",
    "\n",
    "Auteurs : G. Vidal, C-H. Eyraud, E. le Jan\n",
    "\n",
    "------------------------------------------------------------"
   ]
  },
  {
   "cell_type": "markdown",
   "metadata": {},
   "source": [
    "# Utiliser un écran de deux lignes et 16 colonnes\n",
    "\n",
    "Ce cahier d'exercices permet de maîtriser le comportement d'un afficheur rétroéclairé à cristaux liquides de deux lignes et 16 colonnes. On examinera une partie des possibilités d'affichage proposées. On utilisera les bibliothèques de programmes UPM et MRAA pour n'utiliser que des commandes simples et en petit nombre.\n",
    "\n",
    "\n",
    "![7Afficheur LCD RGB 2*16](images/Afficheur_bb.jpg)\n",
    "                        ![licence : Charles-Henri Eyraud](../JeuxDeLumiere/images/Licence.jpg)\n",
    "\n",
    "## Premier programme... \"Coucou le monde !\" (bien sûr)\n",
    "\n",
    "Dans tous les manuels de codage et même dans les tutoriaux de programmation graphique l'impression du légendaire **\"Hello World!\"** est un passage obligé. Nous allons modifier légèrement cette approche en utilisant un afficheur basse consommation connecté à la Raspberry Pi qui pourra être utilisé ultérieurement pour afficher des mesures ou tout autre paramètre sans avoir besoin d'un écran gourmand en énergie.\n",
    "\n",
    "Le premier bloc de code proposé permet un affichage simple de la fameuse chaîne de caractères.\n",
    "description ligne à ligne du bloc ci-dessous :\n",
    " * importation des bibliothèques mraa et time\n",
    " * importation de la bibliothèque de pilotage de l'afficheur Jdh1313m1 (Jdh1313m1 est le nom technique de cet afficheur)\n",
    " * déclaration de la ressouce utilisée appelée bus i2c qui sera utilisé pour acheminer les informations\n",
    " * déclaration des deux adresses de communication où sont envoyées les informations (d'une part le texte sur l'écran lcd _lcdAdress_ et d'autre part la couleur du rétroéclairage)\n",
    " \n",
    "Pour faire les exercices ci-dessous il suffit d'effectuer les déclarations du premier bloc une seule fois, les instructions suivantes peuvent être répétées autant de fois que souhaité."
   ]
  },
  {
   "cell_type": "code",
   "execution_count": 1,
   "metadata": {},
   "outputs": [],
   "source": [
    "import mraa, time\n",
    "from upm import pyupm_jhd1313m1 as jdm\n",
    "\n",
    "bus1 = 0\n",
    "lcdAddress = 0x3E\n",
    "rgbAddress = 0x62\n",
    "\n",
    "lcd = jdm.Jhd1313m1(bus1,lcdAddress,rgbAddress)"
   ]
  },
  {
   "cell_type": "markdown",
   "metadata": {},
   "source": [
    "Le rétroéclairage est allumé on va l'éteindre avec la fonction _lcd.backlightOff()_, ce qui n'empêche pas de lire ce qui est écrit."
   ]
  },
  {
   "cell_type": "code",
   "execution_count": 2,
   "metadata": {},
   "outputs": [],
   "source": [
    "status = lcd.backlightOff()"
   ]
  },
  {
   "cell_type": "markdown",
   "metadata": {},
   "source": [
    "L'écriture à l'écran se fait avec la fonction `write()`, on ecrit sur l'écran lcd de l'afficheur. On utilise les 16 caractères de la première ligne"
   ]
  },
  {
   "cell_type": "code",
   "execution_count": 3,
   "metadata": {},
   "outputs": [],
   "source": [
    "status = lcd.write(\"Coucou le monde!\")"
   ]
  },
  {
   "cell_type": "markdown",
   "metadata": {},
   "source": [
    "L'effaçage se fait avec la fonction `clear()`"
   ]
  },
  {
   "cell_type": "code",
   "execution_count": 4,
   "metadata": {},
   "outputs": [],
   "source": [
    "status = lcd.clear()"
   ]
  },
  {
   "cell_type": "markdown",
   "metadata": {},
   "source": [
    "## Écrire deux lignes de texte\n",
    "\n",
    "L'afficheur utilisé ne dispose pas de retour à la ligne automatique ni de fonctions de centrage et d'alignement. Le texte doit être positionné  sur la case du tableau où on souhaite commencer lécriture. La première case en bas à gauche se trouve aux coordonnées (1,0) La dernière en haut à droite se trouve aux coordonnées (2,15).\n",
    "Le programme ci-dessous affiche le mot \"Ici\" à différents endroits de l'afficheur contrôlés par l'instruction stcursor(y,x) qui déplace le curseur aux coordonnées choisies la valeur y indique la ligne la valeur x la colonne. Le texte reste affiché une demi seconde."
   ]
  },
  {
   "cell_type": "code",
   "execution_count": 5,
   "metadata": {},
   "outputs": [],
   "source": [
    "lcd.setCursor(2,0)\n",
    "status = lcd.write(\"Ici\")\n",
    "time.sleep(0.5)\n",
    "status = lcd.clear()\n",
    "lcd.setCursor(1,10)\n",
    "status = lcd.write(\"Ici\")\n",
    "time.sleep(0.5)\n",
    "status = lcd.clear()\n",
    "lcd.setCursor(1,2)\n",
    "status = lcd.write(\"Ici\")\n",
    "time.sleep(0.5)\n",
    "status = lcd.clear()\n",
    "lcd.setCursor(2,11)\n",
    "status = lcd.write(\"Ici\")\n",
    "time.sleep(0.5)\n",
    "status = lcd.clear()\n",
    "lcd.setCursor(2,4)\n",
    "status = lcd.write(\"Ici\")\n",
    "time.sleep(0.5)\n",
    "status = lcd.clear()\n",
    "lcd.setCursor(1,0)\n",
    "status = lcd.write(\"Ici\")\n",
    "time.sleep(0.5)\n",
    "status = lcd.clear()\n",
    "lcd.setCursor(1,8)\n",
    "status = lcd.write(\"Ici\")\n",
    "time.sleep(0.5)\n",
    "status = lcd.clear()\n",
    "lcd.setCursor(2,6)\n",
    "status = lcd.write(\"Ici\")\n",
    "time.sleep(0.5)\n",
    "status = lcd.clear()"
   ]
  },
  {
   "cell_type": "markdown",
   "metadata": {},
   "source": [
    "## Gestion de l'affichage et des couleurs\n",
    "L'affichage du texte et du fond est géré indépendamment avec les fonctions:\n",
    "* backlightOn() Allume le rétroéclairage de l'écran\t\t\n",
    "* backlightOff() Éteint le rétroéclairage de l'écran\n",
    "* displayOn() Démarre l'affichage du texte\n",
    "* displayOff() Interrompt l'affichage du texte\n",
    "La couleur et l'intensité de l'éclairage est contrôlé par la fonction `setColor(r,g,b)`\n",
    " * r désigne l'intensité du rouge et varie de 0 (pas de rouge) à 255 (rouge maximum)\n",
    " * v désigne l'intensité du vert et varie de 0 (pas de vert) à 255 (vert maximum)\n",
    " * g désigne l'intensité du bleu et varie de 0 (pas de bleu) à 255 (bleu maximum)\n",
    "La composition des couleurs est la même que celle des écrans de télévision ou des images numériques codées sur 24 bits RGB Dans l'exemple ci dessous on affiche \"Bonjour !\"  sur fond jaune moyen pendant 3 secondes, puis \"Bonjour !\" sur la seconde ligne décalé sur la droite sur fond rouge pendant 2 secondes puis \"Bonjour !\" sur fond violet pendant 2 secondes puis on efface."
   ]
  },
  {
   "cell_type": "code",
   "execution_count": 6,
   "metadata": {},
   "outputs": [],
   "source": [
    "lcd.setColor(128,128,0)\n",
    "lcd.setCursor(2,4)\n",
    "status = lcd.write(\"Bonjour !\")\n",
    "status = lcd.backlightOn()\n",
    "time.sleep(3)\n",
    "status = lcd.clear()\n",
    "lcd.setCursor(1,6)\n",
    "status = lcd.write(\"Bonjour !\")\n",
    "lcd.setColor(255,0,0)\n",
    "time.sleep(2)\n",
    "status = lcd.clear()\n",
    "lcd.setCursor(2,0)\n",
    "status = lcd.write(\"Bonjour !\")\n",
    "lcd.setColor(128,0,128)\n",
    "time.sleep(2)\n",
    "status = lcd.backlightOff()\n",
    "status = lcd.clear()"
   ]
  },
  {
   "cell_type": "markdown",
   "metadata": {},
   "source": [
    "### Exercices\n",
    " * Affichez \"Hello !\" sur fond rouge sombre\n",
    " * Affichez \"hello friends :-)\" sur fond violet"
   ]
  },
  {
   "cell_type": "code",
   "execution_count": null,
   "metadata": {},
   "outputs": [],
   "source": []
  },
  {
   "cell_type": "markdown",
   "metadata": {},
   "source": [
    "## Gestion avancée du curseur\n",
    "Plusieurs types d'opérations sont posssibles syr le curseur, il est possible de contrôler sa position, son affichage et son clignottement. les opérations disponibles sont : \n",
    " * Positionnement\n",
    "      * home() Retour à l'origine\n",
    "      * setCursor(int row, int column) \t_row position en ligne, column position en colonne_\n",
    " * Clignottement\n",
    "      * cursorBlinkOn() \t\n",
    "      * cursorBlinkOff()\n",
    "      * cursorOn()\n",
    "      * cursorOff()\n",
    "Dans l'exemple ci-dessous le curseur est affiché puis déplacé"
   ]
  },
  {
   "cell_type": "code",
   "execution_count": 7,
   "metadata": {},
   "outputs": [],
   "source": [
    "lcd.setColor(12,128,128)\n",
    "status = lcd.setCursor(1,8)\n",
    "status = lcd.backlightOn()\n",
    "status = lcd.cursorOn()\n",
    "time.sleep(0.5)\n",
    "status = lcd.setCursor(1,9)\n",
    "time.sleep(0.5)\n",
    "status = lcd.setCursor(1,10)\n",
    "time.sleep(0.5)\n",
    "status = lcd.setCursor(1,11)\n",
    "time.sleep(0.5)\n",
    "status = lcd.setCursor(1,12)\n",
    "time.sleep(0.5)\n",
    "status = lcd.setCursor(1,14)\n",
    "time.sleep(0.5)\n",
    "lcd.setColor(12,128,12)\n",
    "status = lcd.cursorBlinkOn()\n",
    "status = lcd.setCursor(1,12)\n",
    "time.sleep(1)\n",
    "status = lcd.setCursor(1,11)\n",
    "time.sleep(1)\n",
    "status = lcd.cursorOff()\n",
    "status = lcd.cursorBlinkOn()\n",
    "lcd.setColor(192,192,0)\n",
    "status = lcd.setCursor(2,4)\n",
    "time.sleep(2)\n",
    "status = lcd.setCursor(2,3)\n",
    "time.sleep(2)\n",
    "status = lcd.setCursor(2,1)\n",
    "time.sleep(2)\n",
    "status = lcd.backlightOff()\n",
    "status = lcd.cursorOff()\n",
    "status = lcd.cursorBlinkOff()"
   ]
  },
  {
   "cell_type": "markdown",
   "metadata": {},
   "source": [
    "### Exercice\n",
    "Affichez \"Bonjour\" sur la première ligne à partir de la 5ème colonne, \"tout le monde\" sur la seconde ligne puis allumez le fond d'écran en turquoise vif (cyan)"
   ]
  },
  {
   "cell_type": "code",
   "execution_count": null,
   "metadata": {},
   "outputs": [],
   "source": []
  },
  {
   "cell_type": "markdown",
   "metadata": {},
   "source": [
    "## Gestion du mode d'affichage\n",
    "Le mode d'affichage peut être controlé de différentes façons, il est possible d'agir sur le défilement et sur le côté par le quel sont ajoutés les caractères. \n",
    " * Défilement\n",
    "     * scrollDisplayLeft()\n",
    "     * scrollDisplayRight()\n",
    "     * autoscrollOn()\n",
    "     * autoscrollOff()\n",
    "     * scroll(bool direction) \t_met en route le défilement 1 vers la droite 0 vers la gauche\n",
    " * Arrivée des caractères\n",
    "     * entryLeftToRight()\n",
    "     * entryRightToLeft()\n",
    " * dessiner un caractère\n",
    "     * createChar(uint8_t charSlot, std::vector< uint8_t > charData) \t\n",
    "     \n",
    "Le programme ci-dessous dessine un coeur et le déplace à gauche sur fond orange puis à droite sur fond vert."
   ]
  },
  {
   "cell_type": "code",
   "execution_count": 8,
   "metadata": {},
   "outputs": [],
   "source": [
    "heart = (\n",
    "    0b00000,\n",
    "    0b01010,\n",
    "    0b11111,\n",
    "    0b11111,\n",
    "    0b11111,\n",
    "    0b01110,\n",
    "    0b00100,\n",
    "    0b00000)\n",
    "\n",
    "lcd.createChar(0,heart)\n",
    "status = lcd.backlightOn()\n",
    "lcd.setColor(192,64,0)\n",
    "lcd.setCursor(2,4)\n",
    "lcd.write(chr(0))\n",
    "for i in range(0,5,1) :\n",
    "    lcd.scroll(True)\n",
    "    time.sleep(0.5)\n",
    "lcd.setColor(64,192,0)\n",
    "for i in range(0,16,1) :\n",
    "    lcd.scroll(False)\n",
    "    time.sleep(0.5)\n",
    "time.sleep(2)\n",
    "status = lcd.clear()\n",
    "status = lcd.backlightOff()"
   ]
  },
  {
   "cell_type": "markdown",
   "metadata": {},
   "source": [
    "### Exercice\n",
    "Écrivez la phrase que vous souhaitez et faites la défiler vers la droite puis vers la gauche"
   ]
  },
  {
   "cell_type": "code",
   "execution_count": null,
   "metadata": {},
   "outputs": [],
   "source": []
  }
 ],
 "metadata": {
  "kernelspec": {
   "display_name": "Python 3",
   "language": "python",
   "name": "python3"
  },
  "language_info": {
   "codemirror_mode": {
    "name": "ipython",
    "version": 3
   },
   "file_extension": ".py",
   "mimetype": "text/x-python",
   "name": "python",
   "nbconvert_exporter": "python",
   "pygments_lexer": "ipython3",
   "version": "3.6.5rc1"
  }
 },
 "nbformat": 4,
 "nbformat_minor": 2
}
