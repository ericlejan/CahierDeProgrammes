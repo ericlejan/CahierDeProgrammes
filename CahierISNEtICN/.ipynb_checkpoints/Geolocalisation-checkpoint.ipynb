{
 "cells": [
  {
   "cell_type": "markdown",
   "metadata": {},
   "source": [
    "# La géolocalisation avec le module geopy \n",
    "\n",
    "Ce module permet de récupérer la longitude et la latitude d'un ieu en coordonnées WGS84 exprimées en decgrés décimaux\n",
    "\n"
   ]
  },
  {
   "cell_type": "markdown",
   "metadata": {},
   "source": [
    "# Localisation du lycee Camille Saint Saëns"
   ]
  },
  {
   "cell_type": "code",
   "execution_count": 11,
   "metadata": {},
   "outputs": [
    {
     "name": "stdout",
     "output_type": "stream",
     "text": [
      "longitude =  1.0936487 latitude =  49.44228\n"
     ]
    }
   ],
   "source": [
    "import geopy\n",
    "from geopy.geocoders import Nominatim\n",
    "geocoder = Nominatim()\n",
    "adresse = \"22 rue Saint Lo, Rouen, France\"\n",
    "location = geocoder.geocode(adresse, True, 30)\n",
    "print(\"longitude = \",location.longitude,\"latitude = \",location.latitude)"
   ]
  },
  {
   "cell_type": "markdown",
   "metadata": {},
   "source": [
    "# Localisation d' adresse quelconque.\n",
    "\n",
    "Créer un programme qui renvoie la géolocalisation d'un point dont l'adresse est saisie par l'utilisateur."
   ]
  },
  {
   "cell_type": "code",
   "execution_count": 7,
   "metadata": {},
   "outputs": [
    {
     "name": "stdout",
     "output_type": "stream",
     "text": [
      "saissez l'adresse du lieu, la ville, le pays 39 rue des pins, Labenne, France\n",
      "Les coordonnées du point situé au  39 rue des pins, Labenne, France sont : \n",
      "longitude =  -1.4318865 ° latitude =  43.6020846 °\n"
     ]
    }
   ],
   "source": [
    "import geopy\n",
    "from geopy.geocoders import Nominatim\n",
    "geocoder = Nominatim()\n",
    "adresse = input(\"saissez l'adresse du lieu, la ville, le pays \")\n",
    "location = geocoder.geocode(adresse, True, 30)\n",
    "print(\"Les coordonnées du point situé au \",adresse,\"sont : \")\n",
    "print(\"longitude = \",location.longitude,\"°\",\"latitude = \",location.latitude,\"°\")"
   ]
  },
  {
   "cell_type": "markdown",
   "metadata": {},
   "source": [
    "# Saisie des résultats dans un fichier csv : Etape 1\n",
    "\n",
    "Cette approche vise à illustrer la gestion simple des données. \n",
    "\n",
    "Dans un premier temps on crée le fichier et on saisi les entêtes de colonnes.\n",
    "Il ne faut exécuter ce programme qu'une fois sinon le fichier est écrasé et remplacé."
   ]
  },
  {
   "cell_type": "code",
   "execution_count": 3,
   "metadata": {
    "collapsed": true
   },
   "outputs": [],
   "source": [
    "import csv\n",
    "OuvrirEnEcriture = open(\"Lieux.csv\",\"w\")\n",
    "fname = \"Lieux.csv\"\n",
    "writer = csv.writer(OuvrirEnEcriture)\n",
    "writer.writerow( (\"ID\",\"adresse\",\"ville\",\"pays\",\"longitude\",\"latitude\") )\n",
    "OuvrirEnEcriture.close()"
   ]
  },
  {
   "cell_type": "markdown",
   "metadata": {},
   "source": [
    "# Saisie des résultats dans un fichier csv : Etape 2\n",
    "\n",
    "On va maintenant rentrer dans le fichier des lignes correspondant à la saisie des données.  \n",
    "\n",
    "Le fichier est ouvert avec l'argument \"a\" pour ajouter"
   ]
  },
  {
   "cell_type": "code",
   "execution_count": 23,
   "metadata": {},
   "outputs": [
    {
     "name": "stdout",
     "output_type": "stream",
     "text": [
      "saissez l'adresse du lieu : rue saint Lo\n",
      "saisissez le nom de la ville : rouen\n",
      "saisissez le pays : france\n",
      "indiquez l'id du lieu1\n",
      "Les coordonnées du point situé au  rue saint Lo  à  rouen  en  france sont : \n",
      "longitude =  1.0936487 ° latitude =  49.44228 °\n"
     ]
    }
   ],
   "source": [
    "import csv\n",
    "import geopy\n",
    "from geopy.geocoders import Nominatim\n",
    "fichier=\"Lieux.csv\"\n",
    "OuvrirEnEcritureAjout = open(\"Lieux.csv\",\"a\")\n",
    "writer = csv.writer(OuvrirEnEcritureAjout)\n",
    "geocoder = Nominatim()\n",
    "adresse = input(\"saissez l'adresse du lieu : \")\n",
    "ville = input(\"saisissez le nom de la ville : \")\n",
    "pays = input(\"saisissez le pays : \")\n",
    "requete = adresse +\",\"+ville+\",\"+ pays\n",
    "ID = int(input(\"indiquez l'id du lieu\"))\n",
    "#print(requete)\n",
    "location = geocoder.geocode(requete, True, 30)\n",
    "print(\"Les coordonnées du point situé au \",adresse,\" à \",ville,\" en \",pays,\"sont : \")\n",
    "print(\"longitude = \",location.longitude,\"°\",\"latitude = \",location.latitude,\"°\")\n",
    "writer.writerow((ID,adresse,ville,pays,location.longitude,location.latitude))\n",
    "OuvrirEnEcritureAjout.close()"
   ]
  },
  {
   "cell_type": "markdown",
   "metadata": {},
   "source": [
    "# Saisie des résultats dans une base de donées sqlite \n",
    "\n",
    "Cette approche vise à illustrer la gestion des données dans une base de données dédiée.\n",
    "On commence par créer la table d'attribut de la base de donnée.\n",
    "On choisit les titres des entêtes de colonnes et on qualifie le type de donées à placer dedans."
   ]
  },
  {
   "cell_type": "code",
   "execution_count": 28,
   "metadata": {
    "collapsed": true
   },
   "outputs": [],
   "source": [
    "import sqlite3\n",
    "conn = sqlite3.connect(\"Lieux.db\")\n",
    "cursor = conn.cursor()\n",
    "cursor.execute(\"\"\"CREATE TABLE IF NOT EXISTS lieux (\n",
    "id INTEGER PRIMARY KEY AUTOINCREMENT UNIQUE,\n",
    "adresse TEXT,\n",
    "ville TEXT,\n",
    "pays TEXT,\n",
    "longitude FLOAT,\n",
    "latitude FLOAT)\n",
    "\"\"\")\n",
    "conn.commit()"
   ]
  },
  {
   "cell_type": "markdown",
   "metadata": {},
   "source": [
    "# Supprimer une table"
   ]
  },
  {
   "cell_type": "code",
   "execution_count": 27,
   "metadata": {
    "collapsed": true
   },
   "outputs": [],
   "source": [
    "#import sqlite3\n",
    "#cursor = conn.cursor()\n",
    "#cursor.execute(\"\"\"\n",
    "#DROP TABLE lieux\n",
    "#\"\"\")\n",
    "#conn.commit()"
   ]
  },
  {
   "cell_type": "markdown",
   "metadata": {},
   "source": [
    "# Saisie des résultats dans une base de données sqlite : étape 2\n",
    "\n",
    "Il reste maintenant à remplir la base de données."
   ]
  },
  {
   "cell_type": "code",
   "execution_count": 6,
   "metadata": {
    "scrolled": true
   },
   "outputs": [
    {
     "name": "stdout",
     "output_type": "stream",
     "text": [
      "saissez l'adresse du lieu : rue jacques Lelieur\n",
      "saisissez le nom de la ville : rouen \n",
      "saisissez le pays : france\n",
      "indiquez l'id du lieu : 3\n",
      "Les coordonnées du point situé au  rue jacques Lelieur  à  rouen   en  france sont : \n",
      "longitude =  1.0903994 ° latitude =  49.438624 °\n",
      "Le lieu n 0 est situé : rue damiette , à , rouen en france à 1.0983731 ° de longitude et 49.4405501 ° de latitude\n",
      "Le lieu n 1 est situé : Rue Saint Lo , à , Rouen en France à 1.0936487 ° de longitude et 49.44228 ° de latitude\n",
      "Le lieu n 2 est situé : Rue des Carmes , à , Rouen en France à 1.0943843 ° de longitude et 49.4414582 ° de latitude\n",
      "Le lieu n 3 est situé : rue jacques Lelieur , à , rouen  en france à 1.0903994 ° de longitude et 49.438624 ° de latitude\n"
     ]
    }
   ],
   "source": [
    "import sqlite3\n",
    "import geopy\n",
    "from geopy.geocoders import Nominatim\n",
    "geocoder = Nominatim()\n",
    "#On ouvre la base de données\n",
    "conn = sqlite3.connect(\"Lieux.db\")\n",
    "cursor = conn.cursor()\n",
    "# On saisit les éléments à stocker\n",
    "adresse = input(\"saissez l'adresse du lieu : \")\n",
    "ville = input(\"saisissez le nom de la ville : \")\n",
    "pays = input(\"saisissez le pays : \")\n",
    "requete = adresse +\",\"+ville+\",\"+ pays\n",
    "ID = int(input(\"indiquez l'id du lieu : \"))\n",
    "# on cherche les coordonnées su lieu\n",
    "location = geocoder.geocode(requete, True, 30)\n",
    "# on publie le résultat\n",
    "print(\"Les coordonnées du point situé au \",adresse,\" à \",ville,\" en \",pays,\"sont : \")\n",
    "print(\"longitude = \",location.longitude,\"°\",\"latitude = \",location.latitude,\"°\")\n",
    "# On stocke les données dans la base\n",
    "cursor.execute('''INSERT INTO lieux VALUES (?,?,?,?,?,?);''', (ID, adresse, ville, pays, location.longitude, location.latitude))\n",
    "conn.commit()\n",
    "cursor.execute('''SELECT * FROM lieux;''')\n",
    "enregistrements = cursor.fetchall()\n",
    "for lieux in enregistrements:\n",
    "    print(\"Le lieu n %s est situé : %s , à , %s en %s à %s ° de longitude et %s ° de latitude\" % (lieux[0], lieux[1], lieux[2], lieux[3], lieux[4], lieux[5]))\n",
    "conn.close()"
   ]
  },
  {
   "cell_type": "markdown",
   "metadata": {
    "collapsed": true
   },
   "source": [
    "# Ressource pour la Base de données \n",
    "\n",
    "[ce lien](http://perso.telecom-paristech.fr/~gramfort/liesse_python/5-BDD.html) permet de retrouver les commandes pour traiter une base sqlite \n",
    "\n"
   ]
  },
  {
   "cell_type": "code",
   "execution_count": null,
   "metadata": {
    "collapsed": true
   },
   "outputs": [],
   "source": []
  }
 ],
 "metadata": {
  "kernelspec": {
   "display_name": "Python 3",
   "language": "python",
   "name": "python3"
  }
 },
 "nbformat": 4,
 "nbformat_minor": 2
}
