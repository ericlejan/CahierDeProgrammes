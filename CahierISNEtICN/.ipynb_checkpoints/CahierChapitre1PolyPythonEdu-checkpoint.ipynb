{
 "cells": [
  {
   "cell_type": "markdown",
   "metadata": {
    "deletable": true,
    "editable": true
   },
   "source": [
    "# Reprise pour proof of concept du pdf PythonEdu Amiens #\n",
    "\n",
    "Passer par un logiciel Windows alors que jupyter et jupyterhub existent me semble une grossière erreur d'aiguillage.\n",
    "\n",
    "Je vais tenter de démontrer mon point de vue à partir de ce Notebook. Les librairies utilisées par le module lycee sont instalées en python3 sur la raspberryPi du projet Tremplin.\n",
    "\n",
    "Il va de soi que ce cahier peut s'exécuter en local sur toute machine disposant d'une instalation de jupyter notebook."
   ]
  },
  {
   "cell_type": "markdown",
   "metadata": {
    "deletable": true,
    "editable": true
   },
   "source": [
    "# L'écriture du code en Python : des règles à respecter #\n",
    "\n",
    "## l'indentation et les commentaires ## \n",
    "\n",
    "La position du premier caractère d'une ligne de code obéit à une règle simple : \n",
    "\n",
    "   ***Une ligne de code commence au début d'une ligne sauf si \":\" terminent la ligne précédente. Dans ce cas un décalage est nécessaire, il s'agit d'une indentation.***\n",
    "\n",
    "Le nombre d'espaces est paramétrable dans les éditeurs de code python mais généralement il s'agit d'une tabulation.\n",
    "\n",
    "Les commentaires sont insérés à la suite d'un #\n",
    "\n",
    "Les codes des champs suivants illustrent ce propos. \n",
    "\n",
    "*remarque : L'invite de saisie input() est utilisée dans sa version \"importer un entier\" int(input()).*\n"
   ]
  },
  {
   "cell_type": "code",
   "execution_count": 1,
   "metadata": {
    "collapsed": false,
    "deletable": true,
    "editable": true
   },
   "outputs": [
    {
     "name": "stdout",
     "output_type": "stream",
     "text": [
      "la solution solution de  2 * x =  6 est :\n",
      "x = 3.0\n"
     ]
    }
   ],
   "source": [
    "#solution de l'équation ax = b pour a = 2 et b = 6\n",
    "a=2\n",
    "b=6\n",
    "print(\"la solution solution de \",a,\"* x = \",b,\"est :\") \n",
    "print(\"x =\",b/a)"
   ]
  },
  {
   "cell_type": "code",
   "execution_count": 2,
   "metadata": {
    "collapsed": false,
    "deletable": true,
    "editable": true
   },
   "outputs": [
    {
     "name": "stdout",
     "output_type": "stream",
     "text": [
      "entrez une valeur pour a ≠ 0 : 2\n",
      "entrez une valeur pour b : 6\n",
      "la solution solution de  2 * x =  6 est :\n",
      "x = 3.0\n"
     ]
    }
   ],
   "source": [
    "#résoudre l'équation ax=b pour a≠0\n",
    "a = int(input(\"entrez une valeur pour a ≠ 0 : \"))\n",
    "#on s'assure que a est bien différent de 0\n",
    "if a==0: \n",
    "    #on redemande la saisie de a\n",
    "    a = int(input(\"Attention entrez une valeur pour a ≠ 0 :  \"))\n",
    "    #tant que a vaut 0 \n",
    "    while a==0:\n",
    "        #on demande une valuer différente de 0\n",
    "        a = int(input(\"Attention entrez une valeur pour a ≠ 0 :  \"))\n",
    "    #dès que a est différent de 0 \n",
    "    else:\n",
    "        #on demande la saisie de b\n",
    "        b = int(input(\"entrez une valeur pour b : \"))\n",
    "        # on affiche le résultat\n",
    "        print(\"la solution solution de \",a,\"* x = \",b,\"est :\")  \n",
    "        print(\"x =\",b/a)\n",
    "else:\n",
    "    #quand a est différent de 0 on demande la saisie de b\n",
    "    b = int(input(\"entrez une valeur pour b : \"))\n",
    "    print(\"la solution solution de \",a,\"* x = \",b,\"est :\") \n",
    "    print(\"x =\",b/a)"
   ]
  },
  {
   "cell_type": "markdown",
   "metadata": {
    "deletable": true,
    "editable": true
   },
   "source": [
    "   # Exercice 1 : appliquer ses connaissances #\n",
    "   \n",
    "Rédigez un programme qui vous donne la solution de l'équation \n",
    "   \n",
    "                           2ax + b = C\n",
    "pour a≠0"
   ]
  },
  {
   "cell_type": "code",
   "execution_count": null,
   "metadata": {
    "collapsed": true,
    "deletable": true,
    "editable": true
   },
   "outputs": [],
   "source": [
    "# Pensez à faire une copie de ce Cahier avant de rédiger \"File …… \"Make a Copy\" \"\n",
    "# Renommez le cahier avec votre nom.\n",
    "# Utilisez ce champ de saisie pour rédiger votre programme puis le tester."
   ]
  },
  {
   "cell_type": "markdown",
   "metadata": {
    "deletable": true,
    "editable": true
   },
   "source": [
    "## la casse des caractères ##\n",
    "\n",
    "Il est important de se souvenir que les instruction en python s'écrivent en minuscule.\n",
    "\n",
    "Lorsque une variable contient des Majuscules il faut dans tout le programme conserver ces majuscules.\n",
    "\n",
    "Les champs de code suivants montrent ce qui se produit quand on suit la règle puis lorsqu'on ne la suit pas."
   ]
  },
  {
   "cell_type": "code",
   "execution_count": 26,
   "metadata": {
    "collapsed": false,
    "deletable": true,
    "editable": true
   },
   "outputs": [
    {
     "name": "stdout",
     "output_type": "stream",
     "text": [
      "y = 2 x + 6\n"
     ]
    }
   ],
   "source": [
    "# utilisation de la casse dans les variables\n",
    "CoefficientDirecteur=2\n",
    "ordonneeAlOrigine=6\n",
    "print (\"y =\",CoefficientDirecteur,\"x +\", ordonneeAlOrigine)"
   ]
  },
  {
   "cell_type": "code",
   "execution_count": 17,
   "metadata": {
    "collapsed": false,
    "deletable": true,
    "editable": true
   },
   "outputs": [
    {
     "ename": "NameError",
     "evalue": "name 'Coefficientdirecteur' is not defined",
     "output_type": "error",
     "traceback": [
      "\u001b[0;31m---------------------------------------------------------------------------\u001b[0m",
      "\u001b[0;31mNameError\u001b[0m                                 Traceback (most recent call last)",
      "\u001b[0;32m<ipython-input-17-725d408d216e>\u001b[0m in \u001b[0;36m<module>\u001b[0;34m()\u001b[0m\n\u001b[1;32m      2\u001b[0m \u001b[0mCoefficientDirecteur\u001b[0m\u001b[0;34m=\u001b[0m\u001b[0;36m2\u001b[0m\u001b[0;34m\u001b[0m\u001b[0m\n\u001b[1;32m      3\u001b[0m \u001b[0mordonneeAlOrigine\u001b[0m\u001b[0;34m=\u001b[0m\u001b[0;36m6\u001b[0m\u001b[0;34m\u001b[0m\u001b[0m\n\u001b[0;32m----> 4\u001b[0;31m \u001b[0mprint\u001b[0m \u001b[0;34m(\u001b[0m\u001b[0;34m\"y=\"\u001b[0m\u001b[0;34m,\u001b[0m\u001b[0mCoefficientdirecteur\u001b[0m\u001b[0;34m,\u001b[0m\u001b[0;34m\"x +\"\u001b[0m\u001b[0;34m,\u001b[0m \u001b[0mordonneeAlorigine\u001b[0m\u001b[0;34m)\u001b[0m\u001b[0;34m\u001b[0m\u001b[0m\n\u001b[0m",
      "\u001b[0;31mNameError\u001b[0m: name 'Coefficientdirecteur' is not defined"
     ]
    }
   ],
   "source": [
    "# non respect de la casse dans un nom de variable\n",
    "CoefficientDirecteur=2\n",
    "ordonneeAlOrigine=6\n",
    "print (\"y=\",Coefficientdirecteur,\"x +\", ordonneeAlorigine)"
   ]
  },
  {
   "cell_type": "markdown",
   "metadata": {
    "deletable": true,
    "editable": true
   },
   "source": [
    "## L'affectation d'une valeur à une variable : utilisation du signe = ##\n",
    "\n",
    "L'affectation peut se faire pour des entiers, des réels, des chaines de caractères\n",
    "\n",
    "Le champ de code suivant montre l'unité de l'affectation quelque soit le type de données."
   ]
  },
  {
   "cell_type": "code",
   "execution_count": 19,
   "metadata": {
    "collapsed": false,
    "deletable": true,
    "editable": true
   },
   "outputs": [
    {
     "name": "stdout",
     "output_type": "stream",
     "text": [
      "ceci est une chaîne de caractères\n",
      "ceci est une chaîne de caractères\n",
      "l'idée est de ne pas mélanger les guillemets et les apostrophes\n",
      "\"Bien mal acqui de profite jamais\"\n",
      "3.8\n"
     ]
    }
   ],
   "source": [
    "# affectation d'une chaine de caractère \n",
    "a=\"ceci est une chaîne de caractères\"\n",
    "print(a)\n",
    "b='ceci est une chaîne de caractères'\n",
    "print(b)\n",
    "c=\"l'idée est de ne pas mélanger les guillemets et les apostrophes\"\n",
    "print(c)\n",
    "d='\"Bien mal acqui de profite jamais\"'\n",
    "print(d)\n",
    "e=3.8\n",
    "print(e)\n"
   ]
  },
  {
   "cell_type": "markdown",
   "metadata": {
    "deletable": true,
    "editable": true
   },
   "source": [
    "Les variables peuvent être affectées par lot. On peut réaffecter les variables en même temps ou successivement. "
   ]
  },
  {
   "cell_type": "code",
   "execution_count": 24,
   "metadata": {
    "collapsed": false,
    "deletable": true,
    "editable": true
   },
   "outputs": [
    {
     "name": "stdout",
     "output_type": "stream",
     "text": [
      " ceci est une chaîne de caractères   ceci est une chaîne de caractères \n",
      " ceci est une chaîne de caractères  ceci est une chaîne de caractères \n",
      "3  :  4\n",
      "7  :  -1\n"
     ]
    }
   ],
   "source": [
    "#affection de a et b \n",
    "a,b=\" ceci est une chaîne de caractères \",' ceci est une chaîne de caractères '\n",
    "print(a,b)\n",
    "f=a+b\n",
    "print(f)\n",
    "e,g=3,4\n",
    "print(e,\" : \",g)\n",
    "h,i=e+g,e-g\n",
    "print(h,\" : \",i)"
   ]
  },
  {
   "cell_type": "markdown",
   "metadata": {
    "deletable": true,
    "editable": true
   },
   "source": [
    "# De l'utilité du module lycee pour nos élèves ? #\n",
    "\n",
    "Le projet Pythonedu semble considérer qu'il faut mettre à disposition des élèves un module qui masque les fonctionnalités de python ... \n",
    "Il me semble en tant que prof validé ISN que cette démarche est contre productive. \n",
    "\n",
    "Que fait lycee ? \n",
    "\n",
    "Il est lié à des librairies python qui doivent être installées pour qu'il puisse fonctionner. \n",
    "\n",
    "- import math\n",
    "- import tkinter as Tk\n",
    "- import tkinter.filedialog as tkf\n",
    "- import random as alea\n",
    "- import matplotlib.pyplot as repere\n",
    "- import numpy as np\n",
    "- import builtins\n",
    "- from scipy.stats import norm\n",
    "\n",
    "Puis il crée des fonctions qui sont pour le moins peu utiles ou en tout cas pas nécessaires pour un élève même débutant. Voyons deux exemples, avec lycee et sans lycee, qui pourraient être utilisés. \n",
    "\n",
    "Pour les besoins de la démonstration lycee.py est placé dans le même dossier que ce notebook sur la raspberryPi de Tremplin."
   ]
  },
  {
   "cell_type": "code",
   "execution_count": 25,
   "metadata": {
    "collapsed": false,
    "deletable": true,
    "editable": true
   },
   "outputs": [
    {
     "name": "stdout",
     "output_type": "stream",
     "text": [
      "...module lycee actif....\n"
     ]
    }
   ],
   "source": [
    "from lycee import *"
   ]
  },
  {
   "cell_type": "code",
   "execution_count": 2,
   "metadata": {
    "collapsed": false,
    "deletable": true,
    "editable": true
   },
   "outputs": [
    {
     "name": "stdout",
     "output_type": "stream",
     "text": [
      "Entrez une valeur pour x = 1\n",
      "Entrez une valeur pour y = 2\n",
      "x =  3 y =  -1\n",
      "maintenant , x = 2 et y = 4\n"
     ]
    }
   ],
   "source": [
    "# version utilisant lycee \n",
    "from lycee import *\n",
    "x=demande('Entrez une valeur pour x = ')\n",
    "y=demande('Entrez une valeur pour y = ')\n",
    "x,y=x+y,x-y\n",
    "print(\"x = \",x,\"y = \",y)\n",
    "x,y=x+y,x-y\n",
    "print (\"maintenant , x =\",x,\"et y =\",y)"
   ]
  },
  {
   "cell_type": "code",
   "execution_count": 4,
   "metadata": {
    "collapsed": false,
    "deletable": true,
    "editable": true,
    "scrolled": true
   },
   "outputs": [
    {
     "name": "stdout",
     "output_type": "stream",
     "text": [
      "Entrez un entier x : 4\n",
      "Entrez un entier y : 6\n",
      "réaffectation de x ET y avec x,y = x+y,x-y \n",
      "nouvelle valeur de x =  10 nouvelle valeur de y =  -2\n",
      "réaffectation de x ET y avec x,y = x+y,x-y\n",
      "Maintenant la valeur de x =  8  et la valeur de y =  12\n"
     ]
    }
   ],
   "source": [
    "# version utilisant python \n",
    "x = int(input(\"Entrez un entier x : \"))\n",
    "y = int(input(\"Entrez un entier y : \"))\n",
    "print(\"réaffectation de x ET y avec x,y = x+y,x-y \")\n",
    "x,y=x+y,x-y\n",
    "print(\"nouvelle valeur de x = \",x,\"nouvelle valeur de y = \",y)\n",
    "print(\"réaffectation de x ET y avec x,y = x+y,x-y\") \n",
    "x,y=x+y,x-y\n",
    "print(\"Maintenant la valeur de x = \",x,\" et la valeur de y = \",y)"
   ]
  },
  {
   "cell_type": "markdown",
   "metadata": {
    "deletable": true,
    "editable": true
   },
   "source": [
    "On constate donc dans le premier cas que la démarche masque ce que fait le programme en privant l'élève d'un commentaire intermédiaire expliquant les réaffectation, et que la commande python est remplacée par une fonction qui au final n'a aucune utilité pour comprendre comment le programme fonctionne. \n",
    "\n",
    "En ajoutant l'importation de time on peut même marquer des pauses qui permettent à l'élève de comprendre la séquence qui se produit dans le programme. "
   ]
  },
  {
   "cell_type": "code",
   "execution_count": 8,
   "metadata": {
    "collapsed": false,
    "deletable": true,
    "editable": true
   },
   "outputs": [
    {
     "name": "stdout",
     "output_type": "stream",
     "text": [
      "Entrez un entier x : 4\n",
      "Entrez un entier y : 10\n",
      "réaffectation de x ET y avec x,y = x+y,x-y \n",
      "Calculez les valeurs attendue de x et y\n",
      "nouvelle valeur de x =  14 nouvelle valeur de y =  -6\n",
      "réaffectation de x ET y avec x,y = x+y,x-y\n",
      "Calculez les valeurs attendue de x et y\n",
      "Maintenant la valeur de x =  8  et la valeur de y =  20\n"
     ]
    }
   ],
   "source": [
    "# version utilisant python \n",
    "import time\n",
    "x = int(input(\"Entrez un entier x : \"))\n",
    "y = int(input(\"Entrez un entier y : \"))\n",
    "print(\"réaffectation de x ET y avec x,y = x+y,x-y \")\n",
    "x,y=x+y,x-y\n",
    "print(\"Calculez les valeurs attendue de x et y\")\n",
    "time.sleep(10)\n",
    "print(\"nouvelle valeur de x = \",x,\"nouvelle valeur de y = \",y)\n",
    "time.sleep(10)\n",
    "print(\"réaffectation de x ET y avec x,y = x+y,x-y\") \n",
    "x,y=x+y,x-y\n",
    "print(\"Calculez les valeurs attendue de x et y\")\n",
    "time.sleep(10)\n",
    "print(\"Maintenant la valeur de x = \",x,\" et la valeur de y = \",y)"
   ]
  },
  {
   "cell_type": "code",
   "execution_count": null,
   "metadata": {
    "collapsed": true,
    "deletable": true,
    "editable": true
   },
   "outputs": [],
   "source": []
  }
 ],
 "metadata": {
  "kernelspec": {
   "display_name": "Python 3",
   "language": "python",
   "name": "python3"
  },
  "language_info": {
   "codemirror_mode": {
    "name": "ipython",
    "version": 3
   },
   "file_extension": ".py",
   "mimetype": "text/x-python",
   "name": "python",
   "nbconvert_exporter": "python",
   "pygments_lexer": "ipython3",
   "version": "3.5.3"
  }
 },
 "nbformat": 4,
 "nbformat_minor": 2
}
