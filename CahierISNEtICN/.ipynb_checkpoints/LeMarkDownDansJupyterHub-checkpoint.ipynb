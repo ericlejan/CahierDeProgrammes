{
 "cells": [
  {
   "cell_type": "markdown",
   "metadata": {},
   "source": [
    "# De l'aide au markdown en ligne à un cahier memo\n",
    "\n",
    "Ce cahier ne contient en fait que ce que le site Github livre comme manuel du markdown\n",
    "\n",
    "on accède à l'[aide en ligne](https://help.github.com/articles/basic-writing-and-formatting-syntax/) grâce au lien dans le menu Help comme le montre l'illustration ci-dessous.\n",
    "\n",
    "![Menu déroulant hep](images/AccesMarkdown.jpg)\n",
    "                                \n",
    "![licence](images/Licence.jpg)\n",
    "\n"
   ]
  },
  {
   "cell_type": "markdown",
   "metadata": {},
   "source": [
    "# Les balises de titre : des \"#\" comme indicateurs\n",
    "\n",
    "## Avec deux \"##\" on a un sous titre \n",
    "\n",
    "###### Avec cinq \"######\" on a un sousousousousous titre.\n"
   ]
  },
  {
   "cell_type": "markdown",
   "metadata": {
    "collapsed": true
   },
   "source": [
    "# Les éléments d'enrichissement du texte ou de la *graisse* \n",
    "\n",
    "**Le gras** s'obtient avec la balise **gras**\n",
    "\n",
    "*l'italique* s'obtient avec la balise *italique*\n",
    "\n",
    "~~Le rayé~~ s'obtient avec la balise ~~rayé~~\n",
    "\n",
    "Le **_gras italique_** s'obtient avec la balise **_gras italique_**\n",
    "\n",
    "Acquérir les automatismes en *MarkDown* repose sur une utilisation régulière. "
   ]
  },
  {
   "cell_type": "markdown",
   "metadata": {},
   "source": [
    "# Une façon de mettre en relief une consigne \n",
    "\n",
    "> Pour parvenir à réaliser l'exercice vous devez suivre cette consigne : \n",
    ">\n",
    "> prenez le temps de réfléchir"
   ]
  },
  {
   "cell_type": "markdown",
   "metadata": {},
   "source": [
    "# La mise en \"exergue\" du code \n",
    "\n",
    "On obtient l'effet de surligné pour le `code` en insérant la balise `code`\n",
    "\n",
    "On peut aussi encadrer un fragment de code comme sur l'exemple ci-dessous :\n",
    "\n",
    "``` \n",
    "#les commandes dans github sont par exemple \n",
    "\n",
    "git status\n",
    "git checkout\n",
    "git add \n",
    "```\n",
    "\n",
    "Mais le plus joli c'est de récupérer les codes en couleur contextuelle \n",
    "\n",
    "```python\n",
    "print(\"Vous êtes dans un cahier de programme du projet Météo et Climat : Tremplin pour l'enseigneent des Sciences\")\n",
    "for i in range(4):\n",
    "    print(\"bravo\")\n",
    "    print(\"bonne lecture … \",\";\",end='')\n",
    "```\n",
    "ou avec un autre langage \n",
    "\n",
    "```ruby\n",
    "require 'redcarpet'\n",
    "markdown = Redcarpet.new(\"Hello World!\")\n",
    "puts markdown.to_html\n",
    "```\n",
    "\n"
   ]
  },
  {
   "cell_type": "code",
   "execution_count": 5,
   "metadata": {},
   "outputs": [
    {
     "name": "stdout",
     "output_type": "stream",
     "text": [
      "Vous êtes dans un cahier de programme du projet Météo et Climat : Tremplin pour l'enseigneent des Sciences\n",
      "bravo\n",
      "bonne lecture …  ;bravo\n",
      "bonne lecture …  ;bravo\n",
      "bonne lecture …  ;bravo\n",
      "bonne lecture …  ;"
     ]
    }
   ],
   "source": [
    "# un simple copier coller du code dans un champ \"python\" permet son execution sans erreurs.\n",
    "print(\"Vous êtes dans un cahier de programme du projet Météo et Climat : Tremplin pour l'enseigneent des Sciences\")\n",
    "for i in range(4):\n",
    "    print(\"bravo\")\n",
    "    print(\"bonne lecture … \",\";\",end='')"
   ]
  },
  {
   "cell_type": "markdown",
   "metadata": {},
   "source": [
    "# Les liens vers les sites ....\n",
    "\n",
    "Rien de plus simple que de créer un [lien](http://stsaens-lyc.spip.ac-rouen.fr/)\n",
    "\n",
    "mais on peut encore faire plus simple http://stsaens-lyc.spip.ac-rouen.fr/\n"
   ]
  },
  {
   "cell_type": "markdown",
   "metadata": {
    "collapsed": true
   },
   "source": [
    "# On peut envisager de créer un sommaire du dossier contenant le livret\n",
    "\n",
    "par exemple ce livret est rangé das un dossier qui contient des images et des ipynb \n",
    "\n",
    "on pourrait envisager cela : \n",
    "\n",
    "[images](images) : Utilisez le lien pour acccéder aux images du dossier.\n",
    "\n",
    "- [Livret : géolocalisation](Geolocalisation.ipynb) : Utilisez le lien pour ouvrir le livret géolocalisation\n",
    "\n",
    "- [Livret : Chapitre 1 poly Amiens](CahierChapitre1PolyPythonEdu.ipynb) : Utilisez le lien pour ouvrir le livret Chapitre 1 poly Amiens\n",
    "\n",
    "- [Livret : livret raccourcis et bibliothèque Latex](LaTexEtJupyter.ipynb) :Utilisez le lien pour ouvrir le livret De bibliothèques Latex\n",
    "\n",
    "Ce type d'accès permet de quider les eleves vers un fichier que vous voulez leur faire ouvrir pour consultation. Comme tout le monde ouvre le même fichier dans le même dossier ** il faut absolument que chaque élève renomme son fichier **\n"
   ]
  },
  {
   "cell_type": "markdown",
   "metadata": {},
   "source": [
    "# La mise en place de structure pour nos livrets\n",
    "\n",
    "Les titres, les sous-titres et les listes permettent d'approcher une présentation proche de ce que nous obtenons avec un éditeur de texte classique. \n",
    "\n",
    "## Introduction :\n",
    "\n",
    "## Chapitre 1 \n",
    "\n",
    "### 1.1 Point 1\n",
    "    1.1.1- paragraphe 1\n",
    "    1.1.2- paragraphe 2\n",
    "    1.1.3- paragraphe 3\n",
    "### 1.2 Point 2\n",
    "    1.2.1- paragraphe 1\n",
    "    1.2.2- paragraphe 2\n",
    "    1.2.3- paragraphe 3\n",
    "### 1.3 Point 3\n",
    "    1.3.1- paragraphe 1\n",
    "    1.3.2- paragraphe 2\n",
    "    1.3.3- paragraphe 3\n",
    "\n",
    "## Chapitre 2 \n",
    "\n",
    "### 2.1 Point 1\n",
    "    2.1.1- paragraphe 1\n",
    "    2.1.2- paragraphe 2\n",
    "    2.1.3- paragraphe 3\n",
    "### 2.2 Point 2\n",
    "    2.2.1- paragraphe 1\n",
    "    2.2.2- paragraphe 2\n",
    "    2.2.3- paragraphe 3\n",
    "### 2.3 Point 3\n",
    "    2.3.1- paragraphe 1\n",
    "    2.3.2- paragraphe 2\n",
    "    2.3.3- paragraphe 3\n",
    "\n",
    "## Conclusion"
   ]
  },
  {
   "cell_type": "markdown",
   "metadata": {},
   "source": [
    "# Faire une liste de tâches \n",
    "\n",
    "il est possible de prévoir pour les élèves qu'ils cochent les cases des tâches à réaliser dans l'exercice \n",
    "\n",
    "- [ ] lire la consigne\n",
    "- [ ] rédiger en Markdown l'algorithme du programme\n",
    "- [ ] rédiger en python le programme \n",
    "- [ ] corriger les erreurs et noter leur nature"
   ]
  },
  {
   "cell_type": "markdown",
   "metadata": {},
   "source": [
    "# Structurer l'espace du champ de markdown avec les tableaux\n",
    "\n",
    "pour créer un tableau il suffit de saisir : \n",
    "\n",
    "| Première Entête   | Seconde Entête | Troisième Entête |\n",
    "| ----------------- | -------------- | ---------------- |\n",
    "| Valeur            | Valeur         | Valeur           |\n",
    "| Valeur            | Valeur         | Valeur           |\n",
    "\n",
    "il est donc possible d'assembler dans un espace tableau des illustrations. Cela permet de les titrer \n",
    "\n",
    "| L'imagette de licence by-NC-SA |\n",
    "| ------------------------------ |\n",
    "| ![Icone de licence](images/Licence.jpg) |\n",
    "\n",
    "On peut aussi intégrer un code video dans le champs \n",
    "\n",
    "<table>\n",
    "    <tr>\n",
    "        <td>\n",
    "        <video width=\"400\" height=\"222\" controls=\"controls\" autoplay=\"true\">\n",
    "          <source src=\"videos/fairelappel.mp4\" type=\"video/mp4\" />\n",
    "          <source src=\"videos/fairelappel.webm\" type=\"video/webm\" />\n",
    "          <source src=\"videos/fairelappel.webm\" type=\"video/ogg\" />\n",
    "          Ici l'alternative à la vidéo : une video pour faire l'appel dans Lea.hautenormandie.\n",
    "        </video>\n",
    "</td>\n",
    "    </tr>\n",
    "</table>"
   ]
  },
  {
   "cell_type": "code",
   "execution_count": null,
   "metadata": {
    "collapsed": true
   },
   "outputs": [],
   "source": []
  }
 ],
 "metadata": {
  "kernelspec": {
   "display_name": "Python 3",
   "language": "python",
   "name": "python3"
  },
  "language_info": {
   "codemirror_mode": {
    "name": "ipython",
    "version": 3
   },
   "file_extension": ".py",
   "mimetype": "text/x-python",
   "name": "python",
   "nbconvert_exporter": "python",
   "pygments_lexer": "ipython3",
   "version": "3.5.3"
  }
 },
 "nbformat": 4,
 "nbformat_minor": 2
}
