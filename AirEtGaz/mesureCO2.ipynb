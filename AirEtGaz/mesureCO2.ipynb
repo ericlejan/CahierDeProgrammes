{
 "cells": [
  {
   "cell_type": "markdown",
   "metadata": {},
   "source": [
    "\n",
    "|  |\n",
    "| ------------------------------------------------------- | \n",
    "| ![Tremplin des sciences](images/tremplinColorSmall.png) | \n",
    "\n",
    "Cahier d'exercices pour l'enseignement et l'apprentissage de programmation issu de la collection \"Climat et météo tremplin pour l'enseignement des sciences\" (PIA IFÉ ENS de Lyon - Météofrance ENM Toulouse). Le dispositif clef en main repose sur l'utilisation d'une RaspberryPi chargée avec le système d'exploitation Debian enrichi, fourni par le projet. Les sources et les exécutables sont accessibles dans [l'espace collaboratif de la forge github](https://github.com/g-vidal/CahierDeProgrammes); plus d'information sur les [blogs d'accompagnement](http://blog.climatetmeteo.fr/GerardVidal/) systèmes d'exploitation sur [la page des OS  de Raspberries Pi](http://mediaserv.climatetmeteo.fr/images/RaspBerry/DebianStretchPi3/).  Toutes les ressources issues du projet sont fournies sous licence [Creative Commons](https://creativecommons.org/licenses/by-nc/4.0/) ou sous les licences libres d'origine des outils utilisés. Les ressources  du projet peuvent être utilisées dans tout autre environnement compatible.![licence : Creative Commons](images/Licence.jpg) \n",
    "\n",
    "Auteurs : G. Vidal, E. le Jan, C-H. Eyraud\n",
    "\n",
    "\n",
    "# Mesure du CO2 ambiant avec le capteur MH-Z16\n",
    "\n",
    "ce capteur détecte des valeurs de 0 à 2000ppm et se situe donc dans la gamme détectable en temps réel dans l'atmosphère terrestre ordinaire.\n",
    "\n",
    "Le capteur utilisé ici est en version UART il faut donc configurer la RaspberryPi pour que le port série soit accessible."
   ]
  },
  {
   "cell_type": "markdown",
   "metadata": {},
   "source": [
    "## Configuration préalable du port série de la Raspberry Pi\n",
    "\n",
    "Dans sa configuration normale le port série `/dev/ttyAMA0` est capturé pour fournir lla communication via le bluetooth il faut donc activer le port série secondaire `/dev/ttyS0` en ajoutant dans le fichier `/boot/config.txt` la ligne\n",
    "\n",
    "```shell\n",
    "enable_uart=1\n",
    "```\n",
    "Il faut ensuite veiller à bien utiliser ce port série."
   ]
  },
  {
   "cell_type": "code",
   "execution_count": 1,
   "metadata": {},
   "outputs": [],
   "source": [
    "import mraa, upm\n",
    "from time import sleep\n",
    "from upm import pyupm_mhz16 as mhz\n",
    "\n",
    "mesCO2 = mhz.MHZ16('/dev/ttyS0')"
   ]
  },
  {
   "cell_type": "code",
   "execution_count": 5,
   "metadata": {},
   "outputs": [
    {
     "name": "stdout",
     "output_type": "stream",
     "text": [
      "Concentration en CO² :  484 PPM. Température du capteur :  32 °C.\n",
      "Concentration en CO² :  541 PPM. Température du capteur :  32 °C.\n",
      "Concentration en CO² :  566 PPM. Température du capteur :  32 °C.\n",
      "Concentration en CO² :  568 PPM. Température du capteur :  32 °C.\n",
      "Concentration en CO² :  553 PPM. Température du capteur :  32 °C.\n",
      "Concentration en CO² :  533 PPM. Température du capteur :  32 °C.\n",
      "Concentration en CO² :  517 PPM. Température du capteur :  32 °C.\n",
      "Concentration en CO² :  507 PPM. Température du capteur :  32 °C.\n",
      "Concentration en CO² :  498 PPM. Température du capteur :  32 °C.\n",
      "Concentration en CO² :  495 PPM. Température du capteur :  32 °C.\n"
     ]
    }
   ],
   "source": [
    "if (not mesCO2.setupTty(9600)) :\n",
    "    print (\"Problème sur l'initialisation du port à 9600bauds\\n\")\n",
    "\n",
    "for num in range(0,10) :\n",
    "    if (not mesCO2.getData()) :\n",
    "        print (\"Pas de donnée mesurable\\n\")\n",
    "\n",
    "    else :\n",
    "        value = mesCO2.getGas()\n",
    "        temp = mesCO2.getTemperature()\n",
    "        print (\"Concentration en CO² : {0:4d} PPM.\".format(value),\n",
    "               \"Température du capteur : {0:3d} °C.\".format(temp))\n",
    "        sleep(2)"
   ]
  },
  {
   "cell_type": "markdown",
   "metadata": {},
   "source": [
    "## Accès direct au port série brut\n",
    "\n",
    "En cas de besoin il est possible d'accéder directement au port série sur le device `/dev/ttyS0`"
   ]
  },
  {
   "cell_type": "code",
   "execution_count": 12,
   "metadata": {},
   "outputs": [
    {
     "name": "stdout",
     "output_type": "stream",
     "text": [
      "False\n"
     ]
    },
    {
     "data": {
      "text/plain": [
       "0"
      ]
     },
     "execution_count": 12,
     "metadata": {},
     "output_type": "execute_result"
    }
   ],
   "source": [
    "import mraa\n",
    "\n",
    "serial = mraa.Uart('/dev/ttyS0')\n",
    "print (serial.dataAvailable(100))\n",
    "serial.flush()"
   ]
  },
  {
   "cell_type": "code",
   "execution_count": null,
   "metadata": {},
   "outputs": [],
   "source": []
  }
 ],
 "metadata": {
  "kernelspec": {
   "display_name": "Python 3",
   "language": "python",
   "name": "python3"
  },
  "language_info": {
   "codemirror_mode": {
    "name": "ipython",
    "version": 3
   },
   "file_extension": ".py",
   "mimetype": "text/x-python",
   "name": "python",
   "nbconvert_exporter": "python",
   "pygments_lexer": "ipython3",
   "version": "3.6.5rc1"
  }
 },
 "nbformat": 4,
 "nbformat_minor": 2
}
